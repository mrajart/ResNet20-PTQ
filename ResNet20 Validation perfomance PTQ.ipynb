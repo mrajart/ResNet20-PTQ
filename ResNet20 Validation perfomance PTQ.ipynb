{
 "cells": [
  {
   "cell_type": "code",
   "execution_count": 1,
   "id": "38e53732",
   "metadata": {},
   "outputs": [],
   "source": [
    "import os\n",
    "import gc\n",
    "import cv2\n",
    "import copy\n",
    "import time\n",
    "import random\n",
    "\n",
    "# For data manipulation\n",
    "import numpy as np\n",
    "import pandas as pd\n",
    "\n",
    "# Pytorch Imports\n",
    "import torch\n",
    "import torch.nn as nn\n",
    "from torch.utils.data import Dataset, DataLoader\n",
    "import torchvision\n",
    "import torchvision.transforms as transforms\n",
    "\n",
    "#Pytorch Quantization\n",
    "import torch.quantization\n",
    "\n",
    "# Utils\n",
    "from tqdm import tqdm\n",
    "from collections import defaultdict\n",
    "\n",
    "# Model Import\n",
    "from ResNet20 import resnet20, quantized_resnet20"
   ]
  },
  {
   "cell_type": "code",
   "execution_count": 2,
   "id": "8b59c1d4",
   "metadata": {},
   "outputs": [],
   "source": [
    "CONFIG = dict(\n",
    "    seed = 42,\n",
    "    train_batch_size = 128,\n",
    "    valid_batch_size = 256,\n",
    "    num_calibration_batches = 32,\n",
    "    num_classes = 10,\n",
    "    device = torch.device(\"cpu\")\n",
    ")"
   ]
  },
  {
   "cell_type": "code",
   "execution_count": 3,
   "id": "651d7c40",
   "metadata": {},
   "outputs": [],
   "source": [
    "MODEL_PATHS = 'ResNet20 final.bin'"
   ]
  },
  {
   "cell_type": "code",
   "execution_count": 4,
   "id": "ea59bb67",
   "metadata": {},
   "outputs": [],
   "source": [
    "def set_seed(seed = 42):\n",
    "    '''Sets the seed of the entire notebook so results are the same every time we run.\n",
    "    This is for REPRODUCIBILITY.'''\n",
    "    np.random.seed(seed)\n",
    "    random.seed(seed)\n",
    "    torch.manual_seed(seed)\n",
    "    torch.cuda.manual_seed(seed)\n",
    "    # When running on the CuDNN backend, two further options must be set\n",
    "    torch.backends.cudnn.deterministic = True\n",
    "    torch.backends.cudnn.benchmark = False\n",
    "    # Set a fixed value for the hash seed\n",
    "    os.environ['PYTHONHASHSEED'] = str(seed)\n",
    "    \n",
    "set_seed(CONFIG['seed'])"
   ]
  },
  {
   "cell_type": "code",
   "execution_count": 5,
   "id": "c15e7693",
   "metadata": {},
   "outputs": [
    {
     "name": "stdout",
     "output_type": "stream",
     "text": [
      "Files already downloaded and verified\n"
     ]
    }
   ],
   "source": [
    "train_loader = torch.utils.data.DataLoader(\n",
    "        torchvision.datasets.CIFAR10(root='./data', train=True, transform=transforms.Compose([\n",
    "            transforms.Pad(4),\n",
    "            transforms.RandomCrop(32),\n",
    "            transforms.RandomHorizontalFlip(),\n",
    "            transforms.ToTensor(),\n",
    "            transforms.Normalize((0.5, 0.5, 0.5), (0.5, 0.5, 0.5))\n",
    "        ]), download=True),\n",
    "        batch_size=CONFIG['train_batch_size'], shuffle=True,\n",
    "        num_workers=2)"
   ]
  },
  {
   "cell_type": "code",
   "execution_count": 6,
   "id": "1d23ca96",
   "metadata": {},
   "outputs": [],
   "source": [
    "validation_loader = torch.utils.data.DataLoader(\n",
    "        torchvision.datasets.CIFAR10(root='./data', train=False, transform=transforms.Compose([\n",
    "            transforms.ToTensor(),\n",
    "            transforms.Normalize((0.5, 0.5, 0.5), (0.5, 0.5, 0.5))\n",
    "        ])),\n",
    "        batch_size=CONFIG['valid_batch_size'], shuffle=False,\n",
    "        num_workers=2)"
   ]
  },
  {
   "cell_type": "code",
   "execution_count": 7,
   "id": "53e0a4fb",
   "metadata": {},
   "outputs": [],
   "source": [
    "def criterion(outputs, labels):\n",
    "    loss = nn.CrossEntropyLoss()\n",
    "    return loss(outputs, labels)"
   ]
  },
  {
   "cell_type": "code",
   "execution_count": 8,
   "id": "df671221",
   "metadata": {},
   "outputs": [],
   "source": [
    "@torch.no_grad()\n",
    "def valid_fn(model, dataloader, device, neval_batches):\n",
    "    model.eval()\n",
    "    \n",
    "    dataset_size = 0\n",
    "    running_loss = 0.0\n",
    "    correct = 0.0\n",
    "    PREDS = []\n",
    "    count = 0\n",
    "    \n",
    "    bar = tqdm(enumerate(dataloader), total=len(dataloader), ncols=100)\n",
    "    for step, data in bar:        \n",
    "        inputs, targets = data\n",
    "        inputs = inputs.to(device)\n",
    "        targets = targets.to(device)\n",
    "            \n",
    "        # рачсет вывода\n",
    "        output = model(inputs)\n",
    "        loss = criterion(output, targets)\n",
    "        \n",
    "        _, preds = output.max(1)\n",
    "        correct += preds.eq(targets).sum()\n",
    "\n",
    "        batch_size = inputs.size(0)\n",
    "        \n",
    "        count += 1\n",
    "        \n",
    "        running_loss += (loss.item() * batch_size)\n",
    "        dataset_size += batch_size\n",
    "        \n",
    "        sum_loss = running_loss / dataset_size\n",
    "        \n",
    "        sum_score = correct.cpu().detach().numpy() / dataset_size\n",
    "        \n",
    "        bar.set_postfix({'Valid_Loss':sum_loss, 'Valid_Score':sum_score})\n",
    "        PREDS.append(output.view(-1).cpu().detach().numpy()) \n",
    "        if count >= neval_batches:\n",
    "            PREDS = np.concatenate(PREDS)\n",
    "            return sum_loss, sum_score, PREDS\n",
    "        \n",
    "    PREDS = np.concatenate(PREDS)\n",
    "    \n",
    "    gc.collect()\n",
    "    return sum_loss, sum_score, PREDS"
   ]
  },
  {
   "cell_type": "code",
   "execution_count": 9,
   "id": "c0641783",
   "metadata": {},
   "outputs": [],
   "source": [
    "def print_size_of_model(model):\n",
    "    torch.save(model.state_dict(), \"temp.p\")\n",
    "    print('Size (MB):', os.path.getsize(\"temp.p\")/1e6)\n",
    "    os.remove('temp.p')"
   ]
  },
  {
   "cell_type": "code",
   "execution_count": 10,
   "id": "d8ccde8e",
   "metadata": {},
   "outputs": [],
   "source": [
    "def performance_inference(model, dataloader, device):\n",
    "    \n",
    "    if torch.cuda.is_available():\n",
    "        print(\"[INFO] Using GPU: {}\\n\".format(torch.cuda.get_device_name()))\n",
    "    \n",
    "    start = time.time()\n",
    "    history = defaultdict(list)\n",
    "    \n",
    "    start = time.time()\n",
    "        \n",
    "    val_loss, val_score, preds = valid_fn(model, dataloader, CONFIG['device'], CONFIG['valid_batch_size'])\n",
    "    \n",
    "    end = time.time()\n",
    "    \n",
    "    history['Valid Loss'].append(val_loss)\n",
    "    history['Valid Score'].append(val_score)\n",
    "    \n",
    "    time_elapsed = end - start\n",
    "    print('Validation complete in {:.0f}ms'.format(\n",
    "        time_elapsed * 1000))\n",
    "    print(\"Validation Loss: {:.4f}\".format(val_loss))\n",
    "    print(\"Validation Score: {:.4f}\".format(val_score))\n",
    "    \n",
    "    \n",
    "    return model, history"
   ]
  },
  {
   "cell_type": "code",
   "execution_count": 11,
   "id": "6676fb19",
   "metadata": {},
   "outputs": [],
   "source": [
    "modules_to_fuse = [['conv', 'bn'],\n",
    "                   ['layer1.0.conv1', 'layer1.0.bn1'],\n",
    "                   ['layer1.0.conv2', 'layer1.0.bn2'],\n",
    "                   ['layer1.1.conv1', 'layer1.1.bn1'],\n",
    "                   ['layer1.1.conv2', 'layer1.1.bn2'],\n",
    "                   ['layer1.2.conv1', 'layer1.2.bn1'],\n",
    "                   ['layer1.2.conv2', 'layer1.2.bn2'],\n",
    "                   \n",
    "                   ['layer2.0.conv1', 'layer2.0.bn1'],\n",
    "                   ['layer2.0.conv2', 'layer2.0.bn2'],\n",
    "                   ['layer2.0.downsample.0', 'layer2.0.downsample.1'],\n",
    "                   ['layer2.1.conv1', 'layer2.1.bn1'],\n",
    "                   ['layer2.1.conv2', 'layer2.1.bn2'],\n",
    "                   ['layer2.2.conv1', 'layer2.2.bn1'],\n",
    "                   ['layer2.2.conv2', 'layer2.2.bn2'],\n",
    "                   \n",
    "                   ['layer3.0.conv1', 'layer3.0.bn1'],\n",
    "                   ['layer3.0.conv2', 'layer3.0.bn2'],\n",
    "                   ['layer3.0.downsample.0', 'layer3.0.downsample.1'],\n",
    "                   ['layer3.1.conv1', 'layer3.1.bn1'],\n",
    "                   ['layer3.1.conv2', 'layer3.1.bn2'],\n",
    "                   ['layer3.2.conv1', 'layer3.2.bn1'],\n",
    "                   ['layer3.2.conv2', 'layer3.2.bn2']]"
   ]
  },
  {
   "cell_type": "code",
   "execution_count": 12,
   "id": "cdeaa517",
   "metadata": {},
   "outputs": [],
   "source": [
    "def quantization_model(model, dataloader):\n",
    "    model.eval()\n",
    "\n",
    "    model = torch.quantization.fuse_modules(model, modules_to_fuse)\n",
    "\n",
    "    model.qconfig = torch.quantization.default_qconfig\n",
    "    print(model.qconfig)\n",
    "    torch.quantization.prepare(model, inplace=True)\n",
    "\n",
    "    # Calibrate first\n",
    "    print('Post Training Quantization Prepare: Inserting Observers')\n",
    "    print('\\n Inverted Residual Block:After observer insertion \\n\\n', model.conv)\n",
    "\n",
    "    # Calibrate with the training set\n",
    "    valid_fn(model, dataloader, CONFIG['device'], CONFIG['valid_batch_size'])\n",
    "    print('Post Training Quantization: Calibration done')\n",
    "\n",
    "    # Convert to quantized model\n",
    "    torch.quantization.convert(model, inplace=True)\n",
    "    print('Post Training Quantization: Convert done')\n",
    "    print('\\n Inverted Residual Block: After fusion and quantization, note fused modules: \\n\\n',model.conv)\n",
    "    \n",
    "    return model"
   ]
  },
  {
   "cell_type": "code",
   "execution_count": 13,
   "id": "41b7b8bf",
   "metadata": {},
   "outputs": [
    {
     "data": {
      "text/plain": [
       "<All keys matched successfully>"
      ]
     },
     "execution_count": 13,
     "metadata": {},
     "output_type": "execute_result"
    }
   ],
   "source": [
    "quantized_model = quantized_resnet20()\n",
    "quantized_model.to(CONFIG['device'])\n",
    "quantized_model.load_state_dict(torch.load(MODEL_PATHS))"
   ]
  },
  {
   "cell_type": "code",
   "execution_count": 14,
   "id": "a4362129",
   "metadata": {},
   "outputs": [
    {
     "data": {
      "text/plain": [
       "<All keys matched successfully>"
      ]
     },
     "execution_count": 14,
     "metadata": {},
     "output_type": "execute_result"
    }
   ],
   "source": [
    "model = resnet20()\n",
    "model.to(CONFIG['device'])\n",
    "model.load_state_dict(torch.load(MODEL_PATHS))"
   ]
  },
  {
   "cell_type": "code",
   "execution_count": 15,
   "id": "9614da4a",
   "metadata": {},
   "outputs": [
    {
     "name": "stdout",
     "output_type": "stream",
     "text": [
      "[INFO] Using GPU: NVIDIA GeForce RTX 2080\n",
      "\n"
     ]
    },
    {
     "name": "stderr",
     "output_type": "stream",
     "text": [
      "100%|██████████████████████████| 40/40 [00:04<00:00,  8.69it/s, Valid_Loss=0.265, Valid_Score=0.918]"
     ]
    },
    {
     "name": "stdout",
     "output_type": "stream",
     "text": [
      "Validation complete in 4696ms\n",
      "Validation Loss: 0.2653\n",
      "Validation Score: 0.9183\n"
     ]
    },
    {
     "name": "stderr",
     "output_type": "stream",
     "text": [
      "\n"
     ]
    }
   ],
   "source": [
    "model, history = performance_inference(model, validation_loader, CONFIG['device'])"
   ]
  },
  {
   "cell_type": "code",
   "execution_count": 16,
   "id": "d378ebcd",
   "metadata": {},
   "outputs": [
    {
     "name": "stdout",
     "output_type": "stream",
     "text": [
      "Size (MB): 1.217537\n"
     ]
    }
   ],
   "source": [
    "print_size_of_model(model)"
   ]
  },
  {
   "cell_type": "code",
   "execution_count": 17,
   "id": "77bf79c9",
   "metadata": {},
   "outputs": [
    {
     "name": "stdout",
     "output_type": "stream",
     "text": [
      "QConfig(activation=functools.partial(<class 'torch.ao.quantization.observer.MinMaxObserver'>, reduce_range=True){}, weight=functools.partial(<class 'torch.ao.quantization.observer.MinMaxObserver'>, dtype=torch.qint8, qscheme=torch.per_tensor_symmetric){})\n",
      "Post Training Quantization Prepare: Inserting Observers\n",
      "\n",
      " Inverted Residual Block:After observer insertion \n",
      "\n",
      " Conv2d(\n",
      "  3, 16, kernel_size=(3, 3), stride=(1, 1), padding=(1, 1)\n",
      "  (activation_post_process): MinMaxObserver(min_val=inf, max_val=-inf)\n",
      ")\n"
     ]
    },
    {
     "name": "stderr",
     "output_type": "stream",
     "text": [
      "/home/roma/.local/lib/python3.8/site-packages/torch/ao/quantization/observer.py:172: UserWarning: Please use quant_min and quant_max to specify the range for observers.                     reduce_range will be deprecated in a future release of PyTorch.\n",
      "  warnings.warn(\n",
      " 65%|███████████████        | 255/391 [00:14<00:07, 17.67it/s, Valid_Loss=0.0674, Valid_Score=0.979]\n"
     ]
    },
    {
     "name": "stdout",
     "output_type": "stream",
     "text": [
      "Post Training Quantization: Calibration done\n",
      "Post Training Quantization: Convert done\n",
      "\n",
      " Inverted Residual Block: After fusion and quantization, note fused modules: \n",
      "\n",
      " QuantizedConv2d(3, 16, kernel_size=(3, 3), stride=(1, 1), scale=0.17423537373542786, zero_point=52, padding=(1, 1))\n"
     ]
    },
    {
     "name": "stderr",
     "output_type": "stream",
     "text": [
      "/home/roma/.local/lib/python3.8/site-packages/torch/ao/quantization/utils.py:156: UserWarning: must run observer before calling calculate_qparams. Returning default values.\n",
      "  warnings.warn(\n"
     ]
    }
   ],
   "source": [
    "quantized_model =  quantization_model(quantized_model, train_loader)"
   ]
  },
  {
   "cell_type": "code",
   "execution_count": 18,
   "id": "a8e10871",
   "metadata": {},
   "outputs": [
    {
     "name": "stdout",
     "output_type": "stream",
     "text": [
      "Size of model after quantization\n",
      "Size (MB): 0.335621\n"
     ]
    }
   ],
   "source": [
    "print(\"Size of model after quantization\")\n",
    "print_size_of_model(quantized_model)"
   ]
  },
  {
   "cell_type": "code",
   "execution_count": 19,
   "id": "c62cf828",
   "metadata": {},
   "outputs": [
    {
     "name": "stdout",
     "output_type": "stream",
     "text": [
      "[INFO] Using GPU: NVIDIA GeForce RTX 2080\n",
      "\n"
     ]
    },
    {
     "name": "stderr",
     "output_type": "stream",
     "text": [
      "100%|██████████████████████████| 40/40 [00:02<00:00, 15.97it/s, Valid_Loss=0.286, Valid_Score=0.916]\n"
     ]
    },
    {
     "name": "stdout",
     "output_type": "stream",
     "text": [
      "Validation complete in 2590ms\n",
      "Validation Loss: 0.2858\n",
      "Validation Score: 0.9156\n"
     ]
    }
   ],
   "source": [
    "quantized_model, history = performance_inference(quantized_model, validation_loader, CONFIG['device'])"
   ]
  }
 ],
 "metadata": {
  "kernelspec": {
   "display_name": "Python 3 (ipykernel)",
   "language": "python",
   "name": "python3"
  },
  "language_info": {
   "codemirror_mode": {
    "name": "ipython",
    "version": 3
   },
   "file_extension": ".py",
   "mimetype": "text/x-python",
   "name": "python",
   "nbconvert_exporter": "python",
   "pygments_lexer": "ipython3",
   "version": "3.8.10"
  }
 },
 "nbformat": 4,
 "nbformat_minor": 5
}
