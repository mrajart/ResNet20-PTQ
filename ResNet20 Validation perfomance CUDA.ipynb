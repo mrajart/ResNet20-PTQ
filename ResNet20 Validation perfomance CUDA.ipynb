{
 "cells": [
  {
   "cell_type": "code",
   "execution_count": 1,
   "id": "38e53732",
   "metadata": {},
   "outputs": [],
   "source": [
    "import os\n",
    "import gc\n",
    "import cv2\n",
    "import copy\n",
    "import time\n",
    "import random\n",
    "\n",
    "# For data manipulation\n",
    "import numpy as np\n",
    "import pandas as pd\n",
    "\n",
    "# Pytorch Imports\n",
    "import torch\n",
    "import torch.nn as nn\n",
    "from torch.utils.data import Dataset, DataLoader\n",
    "import torchvision\n",
    "import torchvision.transforms as transforms\n",
    "\n",
    "# Utils\n",
    "from tqdm import tqdm\n",
    "from collections import defaultdict\n",
    "\n",
    "# Model Import\n",
    "from ResNet20 import resnet20"
   ]
  },
  {
   "cell_type": "code",
   "execution_count": 2,
   "id": "8b59c1d4",
   "metadata": {},
   "outputs": [],
   "source": [
    "CONFIG = dict(\n",
    "    seed = 42,\n",
    "    valid_batch_size = 256,\n",
    "    num_classes = 10,\n",
    "    device = torch.device(\"cuda\" if torch.cuda.is_available() else \"cpu\")\n",
    ")"
   ]
  },
  {
   "cell_type": "code",
   "execution_count": 3,
   "id": "651d7c40",
   "metadata": {},
   "outputs": [],
   "source": [
    "MODEL_PATHS = 'ResNet20 final.bin'"
   ]
  },
  {
   "cell_type": "code",
   "execution_count": 4,
   "id": "ea59bb67",
   "metadata": {},
   "outputs": [],
   "source": [
    "def set_seed(seed = 42):\n",
    "    '''Sets the seed of the entire notebook so results are the same every time we run.\n",
    "    This is for REPRODUCIBILITY.'''\n",
    "    np.random.seed(seed)\n",
    "    random.seed(seed)\n",
    "    torch.manual_seed(seed)\n",
    "    torch.cuda.manual_seed(seed)\n",
    "    # When running on the CuDNN backend, two further options must be set\n",
    "    torch.backends.cudnn.deterministic = True\n",
    "    torch.backends.cudnn.benchmark = False\n",
    "    # Set a fixed value for the hash seed\n",
    "    os.environ['PYTHONHASHSEED'] = str(seed)\n",
    "    \n",
    "set_seed(CONFIG['seed'])"
   ]
  },
  {
   "cell_type": "code",
   "execution_count": 5,
   "id": "1d23ca96",
   "metadata": {},
   "outputs": [],
   "source": [
    "validation_loader = torch.utils.data.DataLoader(\n",
    "        torchvision.datasets.CIFAR10(root='./data', train=False, transform=transforms.Compose([\n",
    "            transforms.ToTensor(),\n",
    "            transforms.Normalize((0.5, 0.5, 0.5), (0.5, 0.5, 0.5))\n",
    "        ])),\n",
    "        batch_size=CONFIG['valid_batch_size'], shuffle=False,\n",
    "        num_workers=2, pin_memory=True)"
   ]
  },
  {
   "cell_type": "code",
   "execution_count": 6,
   "id": "53e0a4fb",
   "metadata": {},
   "outputs": [],
   "source": [
    "def criterion(outputs, labels):\n",
    "    loss = nn.CrossEntropyLoss()\n",
    "    return loss(outputs, labels)"
   ]
  },
  {
   "cell_type": "code",
   "execution_count": 7,
   "id": "df671221",
   "metadata": {},
   "outputs": [],
   "source": [
    "@torch.no_grad()\n",
    "def valid_fn(model, dataloader, device):\n",
    "    model.eval()\n",
    "    \n",
    "    dataset_size = 0\n",
    "    running_loss = 0.0\n",
    "    correct = 0.0\n",
    "    PREDS = []\n",
    "    \n",
    "    bar = tqdm(enumerate(dataloader), total=len(dataloader), ncols=100)\n",
    "    for step, data in bar:        \n",
    "        inputs, targets = data\n",
    "        inputs = inputs.to(device)\n",
    "        targets = targets.to(device)\n",
    "            \n",
    "        # рачсет вывода\n",
    "        output = model(inputs)\n",
    "        loss = criterion(output, targets)\n",
    "        \n",
    "        _, preds = output.max(1)\n",
    "        correct += preds.eq(targets).sum()\n",
    "\n",
    "        batch_size = inputs.size(0)\n",
    "        \n",
    "        running_loss += (loss.item() * batch_size)\n",
    "        dataset_size += batch_size\n",
    "        \n",
    "        sum_loss = running_loss / dataset_size\n",
    "        \n",
    "        sum_score = correct.cpu().detach().numpy() / dataset_size\n",
    "        \n",
    "        bar.set_postfix({'Valid_Loss':sum_loss, 'Valid_Score':sum_score})\n",
    "        PREDS.append(output.view(-1).cpu().detach().numpy()) \n",
    "    \n",
    "    PREDS = np.concatenate(PREDS)\n",
    "    \n",
    "    gc.collect()\n",
    "    return sum_loss, sum_score, PREDS"
   ]
  },
  {
   "cell_type": "code",
   "execution_count": 8,
   "id": "d8ccde8e",
   "metadata": {},
   "outputs": [],
   "source": [
    "def performance_inference(model_path, dataloader, device,):\n",
    "    \n",
    "    if torch.cuda.is_available():\n",
    "        print(\"[INFO] Using GPU: {}\\n\".format(torch.cuda.get_device_name()))\n",
    "        \n",
    "    model = resnet20()\n",
    "    model.to(CONFIG['device'])\n",
    "    model.load_state_dict(torch.load(model_path))\n",
    "    \n",
    "    start = time.time()\n",
    "    history = defaultdict(list)\n",
    "    \n",
    "    start = time.time()\n",
    "        \n",
    "    val_loss, val_score, preds = valid_fn(model, dataloader, device=CONFIG['device'])\n",
    "    \n",
    "    end = time.time()\n",
    "    \n",
    "    history['Valid Loss'].append(val_loss)\n",
    "    history['Valid Score'].append(val_score)\n",
    "    \n",
    "    time_elapsed = end - start\n",
    "    print('Validation complete in {:.0f}h {:.0f}m {:.0f}s'.format(\n",
    "        time_elapsed // 3600, (time_elapsed % 3600) // 60, (time_elapsed % 3600) % 60))\n",
    "    print(\"Validation Loss: {:.4f}\".format(val_loss))\n",
    "    print(\"Validation Score: {:.4f}\".format(val_score))\n",
    "    \n",
    "    \n",
    "    return model, history"
   ]
  },
  {
   "cell_type": "code",
   "execution_count": 9,
   "id": "9614da4a",
   "metadata": {},
   "outputs": [
    {
     "name": "stdout",
     "output_type": "stream",
     "text": [
      "[INFO] Using GPU: NVIDIA GeForce RTX 2080\n",
      "\n"
     ]
    },
    {
     "name": "stderr",
     "output_type": "stream",
     "text": [
      "100%|██████████████████████████| 40/40 [00:00<00:00, 59.09it/s, Valid_Loss=0.279, Valid_Score=0.914]\n"
     ]
    },
    {
     "name": "stdout",
     "output_type": "stream",
     "text": [
      "Validation complete in 0h 0m 1s\n",
      "Validation Loss: 0.2794\n",
      "Validation Score: 0.9141\n"
     ]
    }
   ],
   "source": [
    "model, history = performance_inference(MODEL_PATHS, validation_loader, CONFIG['device'])"
   ]
  }
 ],
 "metadata": {
  "kernelspec": {
   "display_name": "Python 3 (ipykernel)",
   "language": "python",
   "name": "python3"
  },
  "language_info": {
   "codemirror_mode": {
    "name": "ipython",
    "version": 3
   },
   "file_extension": ".py",
   "mimetype": "text/x-python",
   "name": "python",
   "nbconvert_exporter": "python",
   "pygments_lexer": "ipython3",
   "version": "3.8.10"
  }
 },
 "nbformat": 4,
 "nbformat_minor": 5
}
