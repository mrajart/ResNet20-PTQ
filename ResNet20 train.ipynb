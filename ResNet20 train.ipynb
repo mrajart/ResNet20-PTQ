{
 "cells": [
  {
   "cell_type": "code",
   "execution_count": 1,
   "id": "4af924ed",
   "metadata": {},
   "outputs": [],
   "source": [
    "import os\n",
    "import copy\n",
    "import time\n",
    "import random\n",
    "import string\n",
    "import gc\n",
    "\n",
    "# For data manipulation\n",
    "import numpy as np\n",
    "import pandas as pd\n",
    "import matplotlib.pyplot as plt\n",
    "\n",
    "# Pytorch Imports\n",
    "import torch\n",
    "import torch.nn as nn\n",
    "import torch.nn.functional as F\n",
    "import torch.nn.init as init\n",
    "from torch.utils.data import Dataset, DataLoader\n",
    "import torchvision\n",
    "import torchvision.transforms as transforms\n",
    "import torch.optim as optim\n",
    "\n",
    "# Utils\n",
    "from tqdm import tqdm\n",
    "from collections import defaultdict\n",
    "\n",
    "# Model Import\n",
    "from ResNet20 import resnet20"
   ]
  },
  {
   "cell_type": "code",
   "execution_count": 2,
   "id": "81298321",
   "metadata": {},
   "outputs": [],
   "source": [
    "CONFIG = {\"seed\": 42,\n",
    "          \"epochs\": 200,\n",
    "          \"milestones\":[100, 150],\n",
    "          \"train_batch_size\": 128,\n",
    "          \"valid_batch_size\": 256,\n",
    "          \"learning_rate\": 0.1,\n",
    "          \"momentum\": 0.9,\n",
    "          \"weight_decay\": 1e-4,\n",
    "          \"num_classes\": 10,\n",
    "          \"device\": torch.device(\"cuda:0\" if torch.cuda.is_available() else \"cpu\"),\n",
    "          }"
   ]
  },
  {
   "cell_type": "code",
   "execution_count": 3,
   "id": "5e523ef0",
   "metadata": {},
   "outputs": [],
   "source": [
    "def set_seed(seed=42):\n",
    "    '''Sets the seed of the entire notebook so results are the same every time we run.\n",
    "    This is for REPRODUCIBILITY.'''\n",
    "    np.random.seed(seed)\n",
    "    torch.manual_seed(seed)\n",
    "    torch.cuda.manual_seed(seed)\n",
    "    # When running on the CuDNN backend, two further options must be set\n",
    "    torch.backends.cudnn.deterministic = True\n",
    "    torch.backends.cudnn.benchmark = False\n",
    "    # Set a fixed value for the hash seed\n",
    "    os.environ['PYTHONHASHSEED'] = str(seed)\n",
    "    \n",
    "set_seed(CONFIG['seed'])"
   ]
  },
  {
   "cell_type": "code",
   "execution_count": 4,
   "id": "cf8b606e",
   "metadata": {},
   "outputs": [
    {
     "data": {
      "text/plain": [
       "\"def imshow(img):\\n    img = img / 2 + 0.5     # unnormalize\\n    npimg = img.numpy()\\n    plt.imshow(np.transpose(npimg, (1, 2, 0)))\\n    plt.show()\\n\\nclasses = ('plane', 'car', 'bird', 'cat',\\n           'deer', 'dog', 'frog', 'horse', 'ship', 'truck')\\n\\n# get some random training images\\ndataiter = iter(trainloader)\\nimages, labels = dataiter.next()\\n\\n# show images\\nimshow(torchvision.utils.make_grid(images))\\n# print labels\\nprint(' '.join(f'{classes[labels[j]]:5s}' for j in range(CONFIG['train_batch_size'])))\""
      ]
     },
     "execution_count": 4,
     "metadata": {},
     "output_type": "execute_result"
    }
   ],
   "source": [
    "'''def imshow(img):\n",
    "    img = img / 2 + 0.5     # unnormalize\n",
    "    npimg = img.numpy()\n",
    "    plt.imshow(np.transpose(npimg, (1, 2, 0)))\n",
    "    plt.show()\n",
    "\n",
    "classes = ('plane', 'car', 'bird', 'cat',\n",
    "           'deer', 'dog', 'frog', 'horse', 'ship', 'truck')\n",
    "\n",
    "# get some random training images\n",
    "dataiter = iter(trainloader)\n",
    "images, labels = dataiter.next()\n",
    "\n",
    "# show images\n",
    "imshow(torchvision.utils.make_grid(images))\n",
    "# print labels\n",
    "print(' '.join(f'{classes[labels[j]]:5s}' for j in range(CONFIG['train_batch_size'])))'''"
   ]
  },
  {
   "cell_type": "code",
   "execution_count": 5,
   "id": "762c9830",
   "metadata": {},
   "outputs": [],
   "source": [
    "def criterion(outputs, labels):\n",
    "    loss = nn.CrossEntropyLoss()\n",
    "    return loss(outputs, labels)"
   ]
  },
  {
   "cell_type": "code",
   "execution_count": 6,
   "id": "0418406b",
   "metadata": {},
   "outputs": [],
   "source": [
    "def train_one_epoch(model, optimizer, dataloader, device, epoch):\n",
    "    model.train()\n",
    "    \n",
    "    dataset_size = 0\n",
    "    running_loss = 0.0\n",
    "    \n",
    "    bar = tqdm(enumerate(dataloader), total=len(dataloader))\n",
    "    for step, data in bar:\n",
    "        \n",
    "        inputs, targets = data\n",
    "        inputs = inputs.to(device)\n",
    "        targets = targets.to(device)\n",
    "            \n",
    "        # рачсет вывода\n",
    "        output = model(inputs)\n",
    "        loss = criterion(output, targets)\n",
    "\n",
    "        # расчет градиента\n",
    "        optimizer.zero_grad()\n",
    "        loss.backward()\n",
    "        optimizer.step()\n",
    "        \n",
    "        batch_size = inputs.size(0) \n",
    " \n",
    "        running_loss += (loss.item() * batch_size)\n",
    "        dataset_size += batch_size\n",
    "\n",
    "        epoch_loss = running_loss / dataset_size\n",
    "\n",
    "        bar.set_postfix({'Epoch':epoch, 'Train_Loss':epoch_loss,\n",
    "                            'LR':optimizer.param_groups[0]['lr']})\n",
    "    gc.collect()\n",
    "    return epoch_loss#, epoch_score\n"
   ]
  },
  {
   "cell_type": "code",
   "execution_count": 7,
   "id": "29de9e52",
   "metadata": {},
   "outputs": [],
   "source": [
    "@torch.no_grad()\n",
    "def valid_one_epoch(model, dataloader, device, epoch):\n",
    "    model.eval()\n",
    "    \n",
    "    dataset_size = 0\n",
    "    running_loss = 0.0\n",
    "    correct = 0.0\n",
    "    \n",
    "    bar = tqdm(enumerate(dataloader), total=len(dataloader), ncols=100)\n",
    "    for step, data in bar:        \n",
    "        inputs, targets = data\n",
    "        inputs = inputs.to(device)\n",
    "        targets = targets.to(device)\n",
    "            \n",
    "        # рачсет вывода\n",
    "        output = model(inputs)\n",
    "        loss = criterion(output, targets)\n",
    "        \n",
    "        _, preds = output.max(1)\n",
    "        correct += preds.eq(targets).sum()\n",
    "\n",
    "        batch_size = inputs.size(0)\n",
    "        \n",
    "        running_loss += (loss.item() * batch_size)\n",
    "        dataset_size += batch_size\n",
    "        \n",
    "        epoch_loss = running_loss / dataset_size\n",
    "        \n",
    "        epoch_score = correct.cpu().detach().numpy() / dataset_size\n",
    "        \n",
    "        bar.set_postfix({'Epoch':epoch, 'Valid_Loss':epoch_loss, 'Valid_Score':epoch_score, \n",
    "                        'LR':optimizer.param_groups[0]['lr']})   \n",
    "    \n",
    "    gc.collect()\n",
    "    return epoch_loss, epoch_score"
   ]
  },
  {
   "cell_type": "code",
   "execution_count": 8,
   "id": "6885c1fd",
   "metadata": {},
   "outputs": [],
   "source": [
    "def run_training(model, optimizer, scheduler, device, num_epochs):\n",
    "    \n",
    "    if torch.cuda.is_available():\n",
    "        print(\"[INFO] Using GPU: {}\\n\".format(torch.cuda.get_device_name()))\n",
    "    \n",
    "    start = time.time()\n",
    "    best_model_wts = copy.deepcopy(model.state_dict())\n",
    "    best_epoch_loss = np.inf\n",
    "    history = defaultdict(list)\n",
    "    \n",
    "    \n",
    "    for epoch in range(1, num_epochs + 1): \n",
    "        gc.collect()\n",
    "        train_epoch_loss = train_one_epoch(model, optimizer, \n",
    "                                           dataloader=train_loader, \n",
    "                                           device=CONFIG['device'], epoch=epoch)\n",
    "        \n",
    "        scheduler.step()\n",
    "        \n",
    "        val_epoch_loss, val_epoch_score = valid_one_epoch(model, valid_loader, device=CONFIG['device'], \n",
    "                                         epoch=epoch)\n",
    "    \n",
    "        history['Train Loss'].append(train_epoch_loss)\n",
    "        history['Valid Loss'].append(val_epoch_loss)\n",
    "        history['Valid Score'].append(val_epoch_score)\n",
    "        \n",
    "        print(f\"Valid score {val_epoch_score}\")\n",
    "        \n",
    "        # deep copy the model\n",
    "        if val_epoch_loss <= best_epoch_loss:\n",
    "            print(f\"Validation Loss Improved ({best_epoch_loss} ---> {val_epoch_loss})\")\n",
    "            best_epoch_loss = val_epoch_loss\n",
    "            history[\"Best Loss\"].append(best_epoch_loss)\n",
    "            best_model_wts = copy.deepcopy(model.state_dict())\n",
    "            PATH = f\"ResNet20.bin\"\n",
    "            torch.save(model.state_dict(), PATH)\n",
    "            # Save a model file from the current directory\n",
    "            print(f\"Model Saved\")\n",
    "\n",
    "            \n",
    "        print()\n",
    "    \n",
    "    end = time.time()\n",
    "    time_elapsed = end - start\n",
    "    print('Training complete in {:.0f}h {:.0f}m {:.0f}s'.format(\n",
    "        time_elapsed // 3600, (time_elapsed % 3600) // 60, (time_elapsed % 3600) % 60))\n",
    "    print(\"Best Loss: {:.4f}\".format(best_epoch_loss))\n",
    "    \n",
    "    # load best model weights\n",
    "    model.load_state_dict(best_model_wts)\n",
    "    \n",
    "    return model, history"
   ]
  },
  {
   "cell_type": "code",
   "execution_count": 9,
   "id": "7bc2290d",
   "metadata": {},
   "outputs": [],
   "source": [
    "def prepare_loaders():\n",
    "\n",
    "    train_loader = torch.utils.data.DataLoader(\n",
    "        torchvision.datasets.CIFAR10(root='./data', train=True, transform=transforms.Compose([\n",
    "            transforms.Pad(4),\n",
    "            transforms.RandomCrop(32),\n",
    "            transforms.RandomHorizontalFlip(),\n",
    "            transforms.ToTensor(),\n",
    "            transforms.Normalize((0.5, 0.5, 0.5), (0.5, 0.5, 0.5))\n",
    "        ]), download=True),\n",
    "        batch_size=CONFIG['train_batch_size'], shuffle=True,\n",
    "        num_workers=2, pin_memory=True)\n",
    "\n",
    "    valid_loader = torch.utils.data.DataLoader(\n",
    "        torchvision.datasets.CIFAR10(root='./data', train=False, transform=transforms.Compose([\n",
    "            transforms.ToTensor(),\n",
    "            transforms.Normalize((0.5, 0.5, 0.5), (0.5, 0.5, 0.5))\n",
    "        ])),\n",
    "        batch_size=CONFIG['valid_batch_size'], shuffle=False,\n",
    "        num_workers=2, pin_memory=True)\n",
    "    \n",
    "    return train_loader, valid_loader"
   ]
  },
  {
   "cell_type": "code",
   "execution_count": 10,
   "id": "755a5b8e",
   "metadata": {},
   "outputs": [
    {
     "name": "stdout",
     "output_type": "stream",
     "text": [
      "Files already downloaded and verified\n",
      "[INFO] Using GPU: NVIDIA GeForce RTX 2080\n",
      "\n"
     ]
    },
    {
     "name": "stderr",
     "output_type": "stream",
     "text": [
      "100%|███████| 391/391 [00:08<00:00, 44.63it/s, Epoch=1, Train_Loss=1.63, LR=0.1]\n",
      "100%|███████████| 40/40 [00:00<00:00, 60.85it/s, Epoch=1, Valid_Loss=1.4, Valid_Score=0.493, LR=0.1]\n"
     ]
    },
    {
     "name": "stdout",
     "output_type": "stream",
     "text": [
      "Valid score 0.4929\n",
      "Validation Loss Improved (inf ---> 1.402273502922058)\n",
      "Model Saved\n",
      "\n"
     ]
    },
    {
     "name": "stderr",
     "output_type": "stream",
     "text": [
      "100%|███████| 391/391 [00:08<00:00, 44.02it/s, Epoch=2, Train_Loss=1.11, LR=0.1]\n",
      "100%|██████████| 40/40 [00:00<00:00, 60.91it/s, Epoch=2, Valid_Loss=1.32, Valid_Score=0.577, LR=0.1]\n"
     ]
    },
    {
     "name": "stdout",
     "output_type": "stream",
     "text": [
      "Valid score 0.5773\n",
      "Validation Loss Improved (1.402273502922058 ---> 1.324719365978241)\n",
      "Model Saved\n",
      "\n"
     ]
    },
    {
     "name": "stderr",
     "output_type": "stream",
     "text": [
      "100%|██████| 391/391 [00:08<00:00, 45.77it/s, Epoch=3, Train_Loss=0.887, LR=0.1]\n",
      "100%|██████████| 40/40 [00:00<00:00, 61.69it/s, Epoch=3, Valid_Loss=1.13, Valid_Score=0.626, LR=0.1]\n"
     ]
    },
    {
     "name": "stdout",
     "output_type": "stream",
     "text": [
      "Valid score 0.6262\n",
      "Validation Loss Improved (1.324719365978241 ---> 1.128946410369873)\n",
      "Model Saved\n",
      "\n"
     ]
    },
    {
     "name": "stderr",
     "output_type": "stream",
     "text": [
      "100%|██████| 391/391 [00:08<00:00, 44.75it/s, Epoch=4, Train_Loss=0.749, LR=0.1]\n",
      "100%|█████████| 40/40 [00:00<00:00, 59.60it/s, Epoch=4, Valid_Loss=0.889, Valid_Score=0.694, LR=0.1]\n"
     ]
    },
    {
     "name": "stdout",
     "output_type": "stream",
     "text": [
      "Valid score 0.6936\n",
      "Validation Loss Improved (1.128946410369873 ---> 0.8886422440528869)\n",
      "Model Saved\n",
      "\n"
     ]
    },
    {
     "name": "stderr",
     "output_type": "stream",
     "text": [
      "100%|██████| 391/391 [00:09<00:00, 39.85it/s, Epoch=5, Train_Loss=0.654, LR=0.1]\n",
      "100%|█████████| 40/40 [00:00<00:00, 61.30it/s, Epoch=5, Valid_Loss=0.712, Valid_Score=0.752, LR=0.1]\n"
     ]
    },
    {
     "name": "stdout",
     "output_type": "stream",
     "text": [
      "Valid score 0.752\n",
      "Validation Loss Improved (0.8886422440528869 ---> 0.7117486624240875)\n",
      "Model Saved\n",
      "\n"
     ]
    },
    {
     "name": "stderr",
     "output_type": "stream",
     "text": [
      "100%|██████| 391/391 [00:08<00:00, 46.56it/s, Epoch=6, Train_Loss=0.599, LR=0.1]\n",
      "100%|█████████| 40/40 [00:00<00:00, 62.64it/s, Epoch=6, Valid_Loss=0.738, Valid_Score=0.754, LR=0.1]\n"
     ]
    },
    {
     "name": "stdout",
     "output_type": "stream",
     "text": [
      "Valid score 0.7543\n",
      "\n"
     ]
    },
    {
     "name": "stderr",
     "output_type": "stream",
     "text": [
      "100%|██████| 391/391 [00:08<00:00, 45.87it/s, Epoch=7, Train_Loss=0.552, LR=0.1]\n",
      "100%|█████████| 40/40 [00:00<00:00, 62.17it/s, Epoch=7, Valid_Loss=0.705, Valid_Score=0.771, LR=0.1]\n"
     ]
    },
    {
     "name": "stdout",
     "output_type": "stream",
     "text": [
      "Valid score 0.7713\n",
      "Validation Loss Improved (0.7117486624240875 ---> 0.7053763999938965)\n",
      "Model Saved\n",
      "\n"
     ]
    },
    {
     "name": "stderr",
     "output_type": "stream",
     "text": [
      "100%|███████| 391/391 [00:08<00:00, 45.24it/s, Epoch=8, Train_Loss=0.52, LR=0.1]\n",
      "100%|█████████| 40/40 [00:00<00:00, 60.85it/s, Epoch=8, Valid_Loss=0.625, Valid_Score=0.786, LR=0.1]\n"
     ]
    },
    {
     "name": "stdout",
     "output_type": "stream",
     "text": [
      "Valid score 0.7865\n",
      "Validation Loss Improved (0.7053763999938965 ---> 0.6254408991813659)\n",
      "Model Saved\n",
      "\n"
     ]
    },
    {
     "name": "stderr",
     "output_type": "stream",
     "text": [
      "100%|██████| 391/391 [00:08<00:00, 45.52it/s, Epoch=9, Train_Loss=0.486, LR=0.1]\n",
      "100%|█████████| 40/40 [00:00<00:00, 62.29it/s, Epoch=9, Valid_Loss=0.613, Valid_Score=0.795, LR=0.1]\n"
     ]
    },
    {
     "name": "stdout",
     "output_type": "stream",
     "text": [
      "Valid score 0.7949\n",
      "Validation Loss Improved (0.6254408991813659 ---> 0.6128335039854049)\n",
      "Model Saved\n",
      "\n"
     ]
    },
    {
     "name": "stderr",
     "output_type": "stream",
     "text": [
      "100%|█████| 391/391 [00:08<00:00, 45.59it/s, Epoch=10, Train_Loss=0.455, LR=0.1]\n",
      "100%|████████| 40/40 [00:00<00:00, 61.53it/s, Epoch=10, Valid_Loss=0.574, Valid_Score=0.809, LR=0.1]\n"
     ]
    },
    {
     "name": "stdout",
     "output_type": "stream",
     "text": [
      "Valid score 0.8088\n",
      "Validation Loss Improved (0.6128335039854049 ---> 0.5739228089809417)\n",
      "Model Saved\n",
      "\n"
     ]
    },
    {
     "name": "stderr",
     "output_type": "stream",
     "text": [
      "100%|██████| 391/391 [00:08<00:00, 45.86it/s, Epoch=11, Train_Loss=0.44, LR=0.1]\n",
      "100%|████████| 40/40 [00:00<00:00, 60.23it/s, Epoch=11, Valid_Loss=0.668, Valid_Score=0.788, LR=0.1]\n"
     ]
    },
    {
     "name": "stdout",
     "output_type": "stream",
     "text": [
      "Valid score 0.7878\n",
      "\n"
     ]
    },
    {
     "name": "stderr",
     "output_type": "stream",
     "text": [
      "100%|█████| 391/391 [00:08<00:00, 44.59it/s, Epoch=12, Train_Loss=0.427, LR=0.1]\n",
      "100%|████████| 40/40 [00:00<00:00, 61.88it/s, Epoch=12, Valid_Loss=0.507, Valid_Score=0.828, LR=0.1]\n"
     ]
    },
    {
     "name": "stdout",
     "output_type": "stream",
     "text": [
      "Valid score 0.8281\n",
      "Validation Loss Improved (0.5739228089809417 ---> 0.5071739046096801)\n",
      "Model Saved\n",
      "\n"
     ]
    },
    {
     "name": "stderr",
     "output_type": "stream",
     "text": [
      "100%|█████| 391/391 [00:08<00:00, 44.78it/s, Epoch=13, Train_Loss=0.417, LR=0.1]\n",
      "100%|████████| 40/40 [00:00<00:00, 60.97it/s, Epoch=13, Valid_Loss=0.573, Valid_Score=0.812, LR=0.1]\n"
     ]
    },
    {
     "name": "stdout",
     "output_type": "stream",
     "text": [
      "Valid score 0.8125\n",
      "\n"
     ]
    },
    {
     "name": "stderr",
     "output_type": "stream",
     "text": [
      "100%|█████| 391/391 [00:08<00:00, 43.88it/s, Epoch=14, Train_Loss=0.396, LR=0.1]\n",
      "100%|████████| 40/40 [00:00<00:00, 61.43it/s, Epoch=14, Valid_Loss=0.538, Valid_Score=0.827, LR=0.1]\n"
     ]
    },
    {
     "name": "stdout",
     "output_type": "stream",
     "text": [
      "Valid score 0.827\n",
      "\n"
     ]
    },
    {
     "name": "stderr",
     "output_type": "stream",
     "text": [
      "100%|█████| 391/391 [00:08<00:00, 44.02it/s, Epoch=15, Train_Loss=0.381, LR=0.1]\n",
      "100%|████████| 40/40 [00:00<00:00, 60.11it/s, Epoch=15, Valid_Loss=0.516, Valid_Score=0.826, LR=0.1]\n"
     ]
    },
    {
     "name": "stdout",
     "output_type": "stream",
     "text": [
      "Valid score 0.8255\n",
      "\n"
     ]
    },
    {
     "name": "stderr",
     "output_type": "stream",
     "text": [
      "100%|█████| 391/391 [00:09<00:00, 42.76it/s, Epoch=16, Train_Loss=0.372, LR=0.1]\n",
      "100%|████████| 40/40 [00:00<00:00, 61.67it/s, Epoch=16, Valid_Loss=0.575, Valid_Score=0.813, LR=0.1]\n"
     ]
    },
    {
     "name": "stdout",
     "output_type": "stream",
     "text": [
      "Valid score 0.8126\n",
      "\n"
     ]
    },
    {
     "name": "stderr",
     "output_type": "stream",
     "text": [
      "100%|█████| 391/391 [00:09<00:00, 39.41it/s, Epoch=17, Train_Loss=0.364, LR=0.1]\n",
      "100%|████████| 40/40 [00:00<00:00, 59.77it/s, Epoch=17, Valid_Loss=0.479, Valid_Score=0.842, LR=0.1]\n"
     ]
    },
    {
     "name": "stdout",
     "output_type": "stream",
     "text": [
      "Valid score 0.8419\n",
      "Validation Loss Improved (0.5071739046096801 ---> 0.47919477977752684)\n",
      "Model Saved\n",
      "\n"
     ]
    },
    {
     "name": "stderr",
     "output_type": "stream",
     "text": [
      "100%|█████| 391/391 [00:08<00:00, 44.47it/s, Epoch=18, Train_Loss=0.354, LR=0.1]\n",
      "100%|████████| 40/40 [00:00<00:00, 60.81it/s, Epoch=18, Valid_Loss=0.521, Valid_Score=0.836, LR=0.1]"
     ]
    },
    {
     "name": "stdout",
     "output_type": "stream",
     "text": [
      "Valid score 0.8355\n",
      "\n"
     ]
    },
    {
     "name": "stderr",
     "output_type": "stream",
     "text": [
      "\n",
      "100%|█████| 391/391 [00:08<00:00, 44.16it/s, Epoch=19, Train_Loss=0.344, LR=0.1]\n",
      "100%|████████| 40/40 [00:00<00:00, 61.98it/s, Epoch=19, Valid_Loss=0.441, Valid_Score=0.853, LR=0.1]\n"
     ]
    },
    {
     "name": "stdout",
     "output_type": "stream",
     "text": [
      "Valid score 0.8532\n",
      "Validation Loss Improved (0.47919477977752684 ---> 0.44063717079162595)\n",
      "Model Saved\n",
      "\n"
     ]
    },
    {
     "name": "stderr",
     "output_type": "stream",
     "text": [
      "100%|█████| 391/391 [00:08<00:00, 44.44it/s, Epoch=20, Train_Loss=0.336, LR=0.1]\n",
      "100%|████████| 40/40 [00:00<00:00, 62.50it/s, Epoch=20, Valid_Loss=0.484, Valid_Score=0.842, LR=0.1]\n"
     ]
    },
    {
     "name": "stdout",
     "output_type": "stream",
     "text": [
      "Valid score 0.8418\n",
      "\n"
     ]
    },
    {
     "name": "stderr",
     "output_type": "stream",
     "text": [
      "100%|█████| 391/391 [00:08<00:00, 43.67it/s, Epoch=21, Train_Loss=0.331, LR=0.1]\n",
      "100%|████████| 40/40 [00:00<00:00, 61.41it/s, Epoch=21, Valid_Loss=0.442, Valid_Score=0.855, LR=0.1]\n"
     ]
    },
    {
     "name": "stdout",
     "output_type": "stream",
     "text": [
      "Valid score 0.8551\n",
      "\n"
     ]
    },
    {
     "name": "stderr",
     "output_type": "stream",
     "text": [
      "100%|█████| 391/391 [00:08<00:00, 43.91it/s, Epoch=22, Train_Loss=0.323, LR=0.1]\n",
      "100%|████████| 40/40 [00:00<00:00, 60.56it/s, Epoch=22, Valid_Loss=0.494, Valid_Score=0.839, LR=0.1]"
     ]
    },
    {
     "name": "stdout",
     "output_type": "stream",
     "text": [
      "Valid score 0.839\n",
      "\n"
     ]
    },
    {
     "name": "stderr",
     "output_type": "stream",
     "text": [
      "\n",
      "100%|█████| 391/391 [00:08<00:00, 43.95it/s, Epoch=23, Train_Loss=0.317, LR=0.1]\n",
      "100%|████████| 40/40 [00:00<00:00, 61.04it/s, Epoch=23, Valid_Loss=0.518, Valid_Score=0.827, LR=0.1]\n"
     ]
    },
    {
     "name": "stdout",
     "output_type": "stream",
     "text": [
      "Valid score 0.8272\n",
      "\n"
     ]
    },
    {
     "name": "stderr",
     "output_type": "stream",
     "text": [
      "100%|██████| 391/391 [00:08<00:00, 44.06it/s, Epoch=24, Train_Loss=0.31, LR=0.1]\n",
      "100%|████████| 40/40 [00:00<00:00, 60.56it/s, Epoch=24, Valid_Loss=0.579, Valid_Score=0.828, LR=0.1]\n"
     ]
    },
    {
     "name": "stdout",
     "output_type": "stream",
     "text": [
      "Valid score 0.8278\n",
      "\n"
     ]
    },
    {
     "name": "stderr",
     "output_type": "stream",
     "text": [
      "100%|██████| 391/391 [00:09<00:00, 42.96it/s, Epoch=25, Train_Loss=0.31, LR=0.1]\n",
      "100%|████████| 40/40 [00:00<00:00, 58.85it/s, Epoch=25, Valid_Loss=0.516, Valid_Score=0.842, LR=0.1]\n"
     ]
    },
    {
     "name": "stdout",
     "output_type": "stream",
     "text": [
      "Valid score 0.8418\n",
      "\n"
     ]
    },
    {
     "name": "stderr",
     "output_type": "stream",
     "text": [
      "100%|█████| 391/391 [00:09<00:00, 42.48it/s, Epoch=26, Train_Loss=0.304, LR=0.1]\n",
      "100%|████████| 40/40 [00:00<00:00, 60.27it/s, Epoch=26, Valid_Loss=0.462, Valid_Score=0.853, LR=0.1]\n"
     ]
    },
    {
     "name": "stdout",
     "output_type": "stream",
     "text": [
      "Valid score 0.8525\n",
      "\n"
     ]
    },
    {
     "name": "stderr",
     "output_type": "stream",
     "text": [
      "100%|█████| 391/391 [00:08<00:00, 43.94it/s, Epoch=27, Train_Loss=0.296, LR=0.1]\n",
      "100%|████████| 40/40 [00:00<00:00, 62.86it/s, Epoch=27, Valid_Loss=0.604, Valid_Score=0.814, LR=0.1]\n"
     ]
    },
    {
     "name": "stdout",
     "output_type": "stream",
     "text": [
      "Valid score 0.8144\n",
      "\n"
     ]
    },
    {
     "name": "stderr",
     "output_type": "stream",
     "text": [
      "100%|█████| 391/391 [00:09<00:00, 43.16it/s, Epoch=28, Train_Loss=0.297, LR=0.1]\n",
      "100%|████████| 40/40 [00:00<00:00, 60.06it/s, Epoch=28, Valid_Loss=0.421, Valid_Score=0.864, LR=0.1]\n"
     ]
    },
    {
     "name": "stdout",
     "output_type": "stream",
     "text": [
      "Valid score 0.8642\n",
      "Validation Loss Improved (0.44063717079162595 ---> 0.4209808032035828)\n",
      "Model Saved\n",
      "\n"
     ]
    },
    {
     "name": "stderr",
     "output_type": "stream",
     "text": [
      "100%|█████| 391/391 [00:08<00:00, 43.55it/s, Epoch=29, Train_Loss=0.287, LR=0.1]\n",
      "100%|████████| 40/40 [00:00<00:00, 60.50it/s, Epoch=29, Valid_Loss=0.476, Valid_Score=0.848, LR=0.1]\n"
     ]
    },
    {
     "name": "stdout",
     "output_type": "stream",
     "text": [
      "Valid score 0.848\n",
      "\n"
     ]
    },
    {
     "name": "stderr",
     "output_type": "stream",
     "text": [
      "100%|█████| 391/391 [00:08<00:00, 44.31it/s, Epoch=30, Train_Loss=0.283, LR=0.1]\n",
      "100%|████████| 40/40 [00:00<00:00, 60.07it/s, Epoch=30, Valid_Loss=0.449, Valid_Score=0.858, LR=0.1]\n"
     ]
    },
    {
     "name": "stdout",
     "output_type": "stream",
     "text": [
      "Valid score 0.8581\n",
      "\n"
     ]
    },
    {
     "name": "stderr",
     "output_type": "stream",
     "text": [
      "100%|█████| 391/391 [00:08<00:00, 43.76it/s, Epoch=31, Train_Loss=0.278, LR=0.1]\n",
      "100%|████████| 40/40 [00:00<00:00, 60.55it/s, Epoch=31, Valid_Loss=0.482, Valid_Score=0.849, LR=0.1]\n"
     ]
    },
    {
     "name": "stdout",
     "output_type": "stream",
     "text": [
      "Valid score 0.8488\n",
      "\n"
     ]
    },
    {
     "name": "stderr",
     "output_type": "stream",
     "text": [
      "100%|█████| 391/391 [00:08<00:00, 43.50it/s, Epoch=32, Train_Loss=0.272, LR=0.1]\n",
      "100%|████████| 40/40 [00:00<00:00, 62.56it/s, Epoch=32, Valid_Loss=0.429, Valid_Score=0.862, LR=0.1]\n"
     ]
    },
    {
     "name": "stdout",
     "output_type": "stream",
     "text": [
      "Valid score 0.8616\n",
      "\n"
     ]
    },
    {
     "name": "stderr",
     "output_type": "stream",
     "text": [
      "100%|█████| 391/391 [00:09<00:00, 42.93it/s, Epoch=33, Train_Loss=0.277, LR=0.1]\n",
      "100%|████████| 40/40 [00:00<00:00, 61.27it/s, Epoch=33, Valid_Loss=0.558, Valid_Score=0.831, LR=0.1]\n"
     ]
    },
    {
     "name": "stdout",
     "output_type": "stream",
     "text": [
      "Valid score 0.8309\n",
      "\n"
     ]
    },
    {
     "name": "stderr",
     "output_type": "stream",
     "text": [
      "100%|█████| 391/391 [00:08<00:00, 43.56it/s, Epoch=34, Train_Loss=0.274, LR=0.1]\n",
      "100%|████████| 40/40 [00:00<00:00, 61.36it/s, Epoch=34, Valid_Loss=0.422, Valid_Score=0.861, LR=0.1]\n"
     ]
    },
    {
     "name": "stdout",
     "output_type": "stream",
     "text": [
      "Valid score 0.8613\n",
      "\n"
     ]
    },
    {
     "name": "stderr",
     "output_type": "stream",
     "text": [
      "100%|█████| 391/391 [00:09<00:00, 42.41it/s, Epoch=35, Train_Loss=0.267, LR=0.1]\n",
      "100%|█████████| 40/40 [00:00<00:00, 59.26it/s, Epoch=35, Valid_Loss=0.488, Valid_Score=0.85, LR=0.1]\n"
     ]
    },
    {
     "name": "stdout",
     "output_type": "stream",
     "text": [
      "Valid score 0.8504\n",
      "\n"
     ]
    },
    {
     "name": "stderr",
     "output_type": "stream",
     "text": [
      "100%|█████| 391/391 [00:10<00:00, 38.38it/s, Epoch=36, Train_Loss=0.266, LR=0.1]\n",
      "100%|████████| 40/40 [00:00<00:00, 63.01it/s, Epoch=36, Valid_Loss=0.465, Valid_Score=0.853, LR=0.1]\n"
     ]
    },
    {
     "name": "stdout",
     "output_type": "stream",
     "text": [
      "Valid score 0.8526\n",
      "\n"
     ]
    },
    {
     "name": "stderr",
     "output_type": "stream",
     "text": [
      "100%|█████| 391/391 [00:08<00:00, 44.16it/s, Epoch=37, Train_Loss=0.265, LR=0.1]\n",
      "100%|████████| 40/40 [00:00<00:00, 61.91it/s, Epoch=37, Valid_Loss=0.445, Valid_Score=0.863, LR=0.1]\n"
     ]
    },
    {
     "name": "stdout",
     "output_type": "stream",
     "text": [
      "Valid score 0.8631\n",
      "\n"
     ]
    },
    {
     "name": "stderr",
     "output_type": "stream",
     "text": [
      "100%|█████| 391/391 [00:08<00:00, 44.42it/s, Epoch=38, Train_Loss=0.263, LR=0.1]\n",
      "100%|████████| 40/40 [00:00<00:00, 61.85it/s, Epoch=38, Valid_Loss=0.618, Valid_Score=0.815, LR=0.1]\n"
     ]
    },
    {
     "name": "stdout",
     "output_type": "stream",
     "text": [
      "Valid score 0.8145\n",
      "\n"
     ]
    },
    {
     "name": "stderr",
     "output_type": "stream",
     "text": [
      "100%|█████| 391/391 [00:08<00:00, 43.98it/s, Epoch=39, Train_Loss=0.264, LR=0.1]\n",
      "100%|████████| 40/40 [00:00<00:00, 62.57it/s, Epoch=39, Valid_Loss=0.484, Valid_Score=0.851, LR=0.1]"
     ]
    },
    {
     "name": "stdout",
     "output_type": "stream",
     "text": [
      "Valid score 0.8507\n",
      "\n"
     ]
    },
    {
     "name": "stderr",
     "output_type": "stream",
     "text": [
      "\n",
      "100%|█████| 391/391 [00:08<00:00, 43.98it/s, Epoch=40, Train_Loss=0.253, LR=0.1]\n",
      "100%|████████| 40/40 [00:00<00:00, 62.72it/s, Epoch=40, Valid_Loss=0.418, Valid_Score=0.869, LR=0.1]\n"
     ]
    },
    {
     "name": "stdout",
     "output_type": "stream",
     "text": [
      "Valid score 0.8694\n",
      "Validation Loss Improved (0.4209808032035828 ---> 0.4180074244499207)\n",
      "Model Saved\n",
      "\n"
     ]
    },
    {
     "name": "stderr",
     "output_type": "stream",
     "text": [
      "100%|█████| 391/391 [00:08<00:00, 43.51it/s, Epoch=41, Train_Loss=0.254, LR=0.1]\n",
      "100%|█████████| 40/40 [00:00<00:00, 62.60it/s, Epoch=41, Valid_Loss=0.493, Valid_Score=0.85, LR=0.1]"
     ]
    },
    {
     "name": "stdout",
     "output_type": "stream",
     "text": [
      "Valid score 0.8496\n",
      "\n"
     ]
    },
    {
     "name": "stderr",
     "output_type": "stream",
     "text": [
      "\n",
      "100%|█████| 391/391 [00:08<00:00, 44.10it/s, Epoch=42, Train_Loss=0.253, LR=0.1]\n",
      "100%|████████| 40/40 [00:00<00:00, 60.58it/s, Epoch=42, Valid_Loss=0.459, Valid_Score=0.848, LR=0.1]\n"
     ]
    },
    {
     "name": "stdout",
     "output_type": "stream",
     "text": [
      "Valid score 0.848\n",
      "\n"
     ]
    },
    {
     "name": "stderr",
     "output_type": "stream",
     "text": [
      "100%|█████| 391/391 [00:09<00:00, 43.09it/s, Epoch=43, Train_Loss=0.245, LR=0.1]\n",
      "100%|█████████| 40/40 [00:00<00:00, 59.96it/s, Epoch=43, Valid_Loss=0.49, Valid_Score=0.853, LR=0.1]\n"
     ]
    },
    {
     "name": "stdout",
     "output_type": "stream",
     "text": [
      "Valid score 0.8527\n",
      "\n"
     ]
    },
    {
     "name": "stderr",
     "output_type": "stream",
     "text": [
      "100%|█████| 391/391 [00:08<00:00, 44.45it/s, Epoch=44, Train_Loss=0.247, LR=0.1]\n",
      "100%|████████| 40/40 [00:00<00:00, 60.60it/s, Epoch=44, Valid_Loss=0.392, Valid_Score=0.871, LR=0.1]\n"
     ]
    },
    {
     "name": "stdout",
     "output_type": "stream",
     "text": [
      "Valid score 0.8714\n",
      "Validation Loss Improved (0.4180074244499207 ---> 0.3921106688737869)\n",
      "Model Saved\n",
      "\n"
     ]
    },
    {
     "name": "stderr",
     "output_type": "stream",
     "text": [
      "100%|█████| 391/391 [00:08<00:00, 44.20it/s, Epoch=45, Train_Loss=0.249, LR=0.1]\n",
      "100%|████████| 40/40 [00:00<00:00, 59.82it/s, Epoch=45, Valid_Loss=0.453, Valid_Score=0.864, LR=0.1]\n"
     ]
    },
    {
     "name": "stdout",
     "output_type": "stream",
     "text": [
      "Valid score 0.8635\n",
      "\n"
     ]
    },
    {
     "name": "stderr",
     "output_type": "stream",
     "text": [
      "100%|█████| 391/391 [00:09<00:00, 43.12it/s, Epoch=46, Train_Loss=0.243, LR=0.1]\n",
      "100%|████████| 40/40 [00:00<00:00, 62.52it/s, Epoch=46, Valid_Loss=0.554, Valid_Score=0.839, LR=0.1]\n"
     ]
    },
    {
     "name": "stdout",
     "output_type": "stream",
     "text": [
      "Valid score 0.8387\n",
      "\n"
     ]
    },
    {
     "name": "stderr",
     "output_type": "stream",
     "text": [
      "100%|█████| 391/391 [00:08<00:00, 43.78it/s, Epoch=47, Train_Loss=0.241, LR=0.1]\n",
      "100%|████████| 40/40 [00:00<00:00, 61.96it/s, Epoch=47, Valid_Loss=0.497, Valid_Score=0.852, LR=0.1]"
     ]
    },
    {
     "name": "stdout",
     "output_type": "stream",
     "text": [
      "Valid score 0.8516\n",
      "\n"
     ]
    },
    {
     "name": "stderr",
     "output_type": "stream",
     "text": [
      "\n",
      "100%|█████| 391/391 [00:09<00:00, 41.99it/s, Epoch=48, Train_Loss=0.237, LR=0.1]\n",
      "100%|████████| 40/40 [00:00<00:00, 56.32it/s, Epoch=48, Valid_Loss=0.526, Valid_Score=0.847, LR=0.1]\n"
     ]
    },
    {
     "name": "stdout",
     "output_type": "stream",
     "text": [
      "Valid score 0.847\n",
      "\n"
     ]
    },
    {
     "name": "stderr",
     "output_type": "stream",
     "text": [
      "100%|█████| 391/391 [00:09<00:00, 39.50it/s, Epoch=49, Train_Loss=0.239, LR=0.1]\n",
      "100%|████████| 40/40 [00:00<00:00, 62.99it/s, Epoch=49, Valid_Loss=0.425, Valid_Score=0.867, LR=0.1]\n"
     ]
    },
    {
     "name": "stdout",
     "output_type": "stream",
     "text": [
      "Valid score 0.8667\n",
      "\n"
     ]
    },
    {
     "name": "stderr",
     "output_type": "stream",
     "text": [
      "100%|█████| 391/391 [00:08<00:00, 44.30it/s, Epoch=50, Train_Loss=0.233, LR=0.1]\n",
      "100%|████████| 40/40 [00:00<00:00, 61.16it/s, Epoch=50, Valid_Loss=0.472, Valid_Score=0.858, LR=0.1]"
     ]
    },
    {
     "name": "stdout",
     "output_type": "stream",
     "text": [
      "Valid score 0.8576\n",
      "\n"
     ]
    },
    {
     "name": "stderr",
     "output_type": "stream",
     "text": [
      "\n",
      "100%|█████| 391/391 [00:08<00:00, 43.99it/s, Epoch=51, Train_Loss=0.239, LR=0.1]\n",
      "100%|████████| 40/40 [00:00<00:00, 62.52it/s, Epoch=51, Valid_Loss=0.423, Valid_Score=0.865, LR=0.1]\n"
     ]
    },
    {
     "name": "stdout",
     "output_type": "stream",
     "text": [
      "Valid score 0.8652\n",
      "\n"
     ]
    },
    {
     "name": "stderr",
     "output_type": "stream",
     "text": [
      "100%|█████| 391/391 [00:08<00:00, 43.80it/s, Epoch=52, Train_Loss=0.237, LR=0.1]\n",
      "100%|████████| 40/40 [00:00<00:00, 62.65it/s, Epoch=52, Valid_Loss=0.533, Valid_Score=0.841, LR=0.1]\n"
     ]
    },
    {
     "name": "stdout",
     "output_type": "stream",
     "text": [
      "Valid score 0.8413\n",
      "\n"
     ]
    },
    {
     "name": "stderr",
     "output_type": "stream",
     "text": [
      "100%|█████| 391/391 [00:09<00:00, 43.37it/s, Epoch=53, Train_Loss=0.235, LR=0.1]\n",
      "100%|█████████| 40/40 [00:00<00:00, 62.06it/s, Epoch=53, Valid_Loss=0.437, Valid_Score=0.86, LR=0.1]\n"
     ]
    },
    {
     "name": "stdout",
     "output_type": "stream",
     "text": [
      "Valid score 0.8599\n",
      "\n"
     ]
    },
    {
     "name": "stderr",
     "output_type": "stream",
     "text": [
      "100%|██████| 391/391 [00:08<00:00, 44.13it/s, Epoch=54, Train_Loss=0.23, LR=0.1]\n",
      "100%|████████| 40/40 [00:00<00:00, 58.65it/s, Epoch=54, Valid_Loss=0.494, Valid_Score=0.856, LR=0.1]"
     ]
    },
    {
     "name": "stdout",
     "output_type": "stream",
     "text": [
      "Valid score 0.8559\n",
      "\n"
     ]
    },
    {
     "name": "stderr",
     "output_type": "stream",
     "text": [
      "\n",
      "100%|█████| 391/391 [00:08<00:00, 43.46it/s, Epoch=55, Train_Loss=0.235, LR=0.1]\n",
      "100%|████████| 40/40 [00:00<00:00, 61.46it/s, Epoch=55, Valid_Loss=0.491, Valid_Score=0.855, LR=0.1]\n"
     ]
    },
    {
     "name": "stdout",
     "output_type": "stream",
     "text": [
      "Valid score 0.8554\n",
      "\n"
     ]
    },
    {
     "name": "stderr",
     "output_type": "stream",
     "text": [
      "100%|█████| 391/391 [00:08<00:00, 44.02it/s, Epoch=56, Train_Loss=0.231, LR=0.1]\n",
      "100%|████████| 40/40 [00:00<00:00, 60.81it/s, Epoch=56, Valid_Loss=0.397, Valid_Score=0.876, LR=0.1]\n"
     ]
    },
    {
     "name": "stdout",
     "output_type": "stream",
     "text": [
      "Valid score 0.8762\n",
      "\n"
     ]
    },
    {
     "name": "stderr",
     "output_type": "stream",
     "text": [
      "100%|█████| 391/391 [00:08<00:00, 44.25it/s, Epoch=57, Train_Loss=0.232, LR=0.1]\n",
      "100%|████████| 40/40 [00:00<00:00, 62.78it/s, Epoch=57, Valid_Loss=0.531, Valid_Score=0.839, LR=0.1]\n"
     ]
    },
    {
     "name": "stdout",
     "output_type": "stream",
     "text": [
      "Valid score 0.8388\n",
      "\n"
     ]
    },
    {
     "name": "stderr",
     "output_type": "stream",
     "text": [
      "100%|█████| 391/391 [00:08<00:00, 44.29it/s, Epoch=58, Train_Loss=0.233, LR=0.1]\n",
      "100%|████████| 40/40 [00:00<00:00, 62.15it/s, Epoch=58, Valid_Loss=0.527, Valid_Score=0.839, LR=0.1]\n"
     ]
    },
    {
     "name": "stdout",
     "output_type": "stream",
     "text": [
      "Valid score 0.8391\n",
      "\n"
     ]
    },
    {
     "name": "stderr",
     "output_type": "stream",
     "text": [
      "100%|█████| 391/391 [00:08<00:00, 44.00it/s, Epoch=59, Train_Loss=0.227, LR=0.1]\n",
      "100%|████████| 40/40 [00:00<00:00, 60.07it/s, Epoch=59, Valid_Loss=0.416, Valid_Score=0.866, LR=0.1]\n"
     ]
    },
    {
     "name": "stdout",
     "output_type": "stream",
     "text": [
      "Valid score 0.8659\n",
      "\n"
     ]
    },
    {
     "name": "stderr",
     "output_type": "stream",
     "text": [
      "100%|█████| 391/391 [00:09<00:00, 42.95it/s, Epoch=60, Train_Loss=0.226, LR=0.1]\n",
      "100%|████████| 40/40 [00:00<00:00, 59.91it/s, Epoch=60, Valid_Loss=0.435, Valid_Score=0.866, LR=0.1]\n"
     ]
    },
    {
     "name": "stdout",
     "output_type": "stream",
     "text": [
      "Valid score 0.866\n",
      "\n"
     ]
    },
    {
     "name": "stderr",
     "output_type": "stream",
     "text": [
      "100%|█████| 391/391 [00:08<00:00, 43.53it/s, Epoch=61, Train_Loss=0.227, LR=0.1]\n",
      "100%|████████| 40/40 [00:00<00:00, 56.47it/s, Epoch=61, Valid_Loss=0.465, Valid_Score=0.855, LR=0.1]\n"
     ]
    },
    {
     "name": "stdout",
     "output_type": "stream",
     "text": [
      "Valid score 0.8552\n",
      "\n"
     ]
    },
    {
     "name": "stderr",
     "output_type": "stream",
     "text": [
      "100%|█████| 391/391 [00:08<00:00, 43.48it/s, Epoch=62, Train_Loss=0.217, LR=0.1]\n",
      "100%|████████| 40/40 [00:00<00:00, 61.01it/s, Epoch=62, Valid_Loss=0.463, Valid_Score=0.864, LR=0.1]"
     ]
    },
    {
     "name": "stdout",
     "output_type": "stream",
     "text": [
      "Valid score 0.8637\n",
      "\n"
     ]
    },
    {
     "name": "stderr",
     "output_type": "stream",
     "text": [
      "\n",
      "100%|█████| 391/391 [00:08<00:00, 44.36it/s, Epoch=63, Train_Loss=0.225, LR=0.1]\n",
      "100%|████████| 40/40 [00:00<00:00, 57.90it/s, Epoch=63, Valid_Loss=0.399, Valid_Score=0.872, LR=0.1]\n"
     ]
    },
    {
     "name": "stdout",
     "output_type": "stream",
     "text": [
      "Valid score 0.8721\n",
      "\n"
     ]
    },
    {
     "name": "stderr",
     "output_type": "stream",
     "text": [
      "100%|█████| 391/391 [00:09<00:00, 43.02it/s, Epoch=64, Train_Loss=0.223, LR=0.1]\n",
      "100%|████████| 40/40 [00:00<00:00, 59.36it/s, Epoch=64, Valid_Loss=0.545, Valid_Score=0.846, LR=0.1]\n"
     ]
    },
    {
     "name": "stdout",
     "output_type": "stream",
     "text": [
      "Valid score 0.8456\n",
      "\n"
     ]
    },
    {
     "name": "stderr",
     "output_type": "stream",
     "text": [
      "100%|█████| 391/391 [00:09<00:00, 43.18it/s, Epoch=65, Train_Loss=0.222, LR=0.1]\n",
      "100%|████████| 40/40 [00:00<00:00, 61.85it/s, Epoch=65, Valid_Loss=0.402, Valid_Score=0.871, LR=0.1]\n"
     ]
    },
    {
     "name": "stdout",
     "output_type": "stream",
     "text": [
      "Valid score 0.8712\n",
      "\n"
     ]
    },
    {
     "name": "stderr",
     "output_type": "stream",
     "text": [
      "100%|█████| 391/391 [00:08<00:00, 43.94it/s, Epoch=66, Train_Loss=0.219, LR=0.1]\n",
      "100%|████████| 40/40 [00:00<00:00, 60.15it/s, Epoch=66, Valid_Loss=0.419, Valid_Score=0.868, LR=0.1]\n"
     ]
    },
    {
     "name": "stdout",
     "output_type": "stream",
     "text": [
      "Valid score 0.868\n",
      "\n"
     ]
    },
    {
     "name": "stderr",
     "output_type": "stream",
     "text": [
      "100%|█████| 391/391 [00:08<00:00, 43.66it/s, Epoch=67, Train_Loss=0.227, LR=0.1]\n",
      "100%|████████| 40/40 [00:00<00:00, 61.37it/s, Epoch=67, Valid_Loss=0.433, Valid_Score=0.868, LR=0.1]\n"
     ]
    },
    {
     "name": "stdout",
     "output_type": "stream",
     "text": [
      "Valid score 0.8677\n",
      "\n"
     ]
    },
    {
     "name": "stderr",
     "output_type": "stream",
     "text": [
      "100%|█████| 391/391 [00:08<00:00, 43.47it/s, Epoch=68, Train_Loss=0.216, LR=0.1]\n",
      "100%|████████| 40/40 [00:00<00:00, 62.57it/s, Epoch=68, Valid_Loss=0.441, Valid_Score=0.862, LR=0.1]\n"
     ]
    },
    {
     "name": "stdout",
     "output_type": "stream",
     "text": [
      "Valid score 0.8621\n",
      "\n"
     ]
    },
    {
     "name": "stderr",
     "output_type": "stream",
     "text": [
      "100%|█████| 391/391 [00:08<00:00, 43.84it/s, Epoch=69, Train_Loss=0.214, LR=0.1]\n",
      "100%|████████| 40/40 [00:00<00:00, 60.75it/s, Epoch=69, Valid_Loss=0.449, Valid_Score=0.866, LR=0.1]\n"
     ]
    },
    {
     "name": "stdout",
     "output_type": "stream",
     "text": [
      "Valid score 0.8662\n",
      "\n"
     ]
    },
    {
     "name": "stderr",
     "output_type": "stream",
     "text": [
      "100%|█████| 391/391 [00:09<00:00, 41.55it/s, Epoch=70, Train_Loss=0.222, LR=0.1]\n",
      "100%|████████| 40/40 [00:00<00:00, 59.32it/s, Epoch=70, Valid_Loss=0.471, Valid_Score=0.862, LR=0.1]\n"
     ]
    },
    {
     "name": "stdout",
     "output_type": "stream",
     "text": [
      "Valid score 0.8616\n",
      "\n"
     ]
    },
    {
     "name": "stderr",
     "output_type": "stream",
     "text": [
      "100%|█████| 391/391 [00:09<00:00, 41.43it/s, Epoch=71, Train_Loss=0.216, LR=0.1]\n",
      "100%|████████| 40/40 [00:00<00:00, 59.67it/s, Epoch=71, Valid_Loss=0.381, Valid_Score=0.879, LR=0.1]\n"
     ]
    },
    {
     "name": "stdout",
     "output_type": "stream",
     "text": [
      "Valid score 0.8786\n",
      "Validation Loss Improved (0.3921106688737869 ---> 0.3807991759300232)\n",
      "Model Saved\n",
      "\n"
     ]
    },
    {
     "name": "stderr",
     "output_type": "stream",
     "text": [
      "100%|█████| 391/391 [00:09<00:00, 40.93it/s, Epoch=72, Train_Loss=0.213, LR=0.1]\n",
      "100%|████████| 40/40 [00:00<00:00, 56.60it/s, Epoch=72, Valid_Loss=0.442, Valid_Score=0.865, LR=0.1]"
     ]
    },
    {
     "name": "stdout",
     "output_type": "stream",
     "text": [
      "Valid score 0.8654\n",
      "\n"
     ]
    },
    {
     "name": "stderr",
     "output_type": "stream",
     "text": [
      "\n",
      "100%|█████| 391/391 [00:09<00:00, 42.39it/s, Epoch=73, Train_Loss=0.206, LR=0.1]\n",
      "100%|████████| 40/40 [00:00<00:00, 55.89it/s, Epoch=73, Valid_Loss=0.497, Valid_Score=0.852, LR=0.1]\n"
     ]
    },
    {
     "name": "stdout",
     "output_type": "stream",
     "text": [
      "Valid score 0.8522\n",
      "\n"
     ]
    },
    {
     "name": "stderr",
     "output_type": "stream",
     "text": [
      "100%|█████| 391/391 [00:12<00:00, 31.38it/s, Epoch=74, Train_Loss=0.219, LR=0.1]\n",
      "100%|████████| 40/40 [00:00<00:00, 44.79it/s, Epoch=74, Valid_Loss=0.503, Valid_Score=0.849, LR=0.1]\n"
     ]
    },
    {
     "name": "stdout",
     "output_type": "stream",
     "text": [
      "Valid score 0.8494\n",
      "\n"
     ]
    },
    {
     "name": "stderr",
     "output_type": "stream",
     "text": [
      "100%|█████| 391/391 [00:08<00:00, 44.12it/s, Epoch=75, Train_Loss=0.207, LR=0.1]\n",
      "100%|████████| 40/40 [00:00<00:00, 58.83it/s, Epoch=75, Valid_Loss=0.414, Valid_Score=0.879, LR=0.1]\n"
     ]
    },
    {
     "name": "stdout",
     "output_type": "stream",
     "text": [
      "Valid score 0.8786\n",
      "\n"
     ]
    },
    {
     "name": "stderr",
     "output_type": "stream",
     "text": [
      "100%|█████| 391/391 [00:08<00:00, 43.97it/s, Epoch=76, Train_Loss=0.213, LR=0.1]\n",
      "100%|████████| 40/40 [00:00<00:00, 61.28it/s, Epoch=76, Valid_Loss=0.428, Valid_Score=0.865, LR=0.1]\n"
     ]
    },
    {
     "name": "stdout",
     "output_type": "stream",
     "text": [
      "Valid score 0.8653\n",
      "\n"
     ]
    },
    {
     "name": "stderr",
     "output_type": "stream",
     "text": [
      "100%|█████| 391/391 [00:08<00:00, 44.43it/s, Epoch=77, Train_Loss=0.215, LR=0.1]\n",
      "100%|██████████| 40/40 [00:00<00:00, 61.55it/s, Epoch=77, Valid_Loss=0.43, Valid_Score=0.87, LR=0.1]\n"
     ]
    },
    {
     "name": "stdout",
     "output_type": "stream",
     "text": [
      "Valid score 0.8698\n",
      "\n"
     ]
    },
    {
     "name": "stderr",
     "output_type": "stream",
     "text": [
      "100%|█████| 391/391 [00:08<00:00, 43.94it/s, Epoch=78, Train_Loss=0.214, LR=0.1]\n",
      "100%|████████| 40/40 [00:00<00:00, 62.73it/s, Epoch=78, Valid_Loss=0.365, Valid_Score=0.884, LR=0.1]\n"
     ]
    },
    {
     "name": "stdout",
     "output_type": "stream",
     "text": [
      "Valid score 0.8836\n",
      "Validation Loss Improved (0.3807991759300232 ---> 0.3646340930461884)\n",
      "Model Saved\n",
      "\n"
     ]
    },
    {
     "name": "stderr",
     "output_type": "stream",
     "text": [
      "100%|█████| 391/391 [00:08<00:00, 43.89it/s, Epoch=79, Train_Loss=0.212, LR=0.1]\n",
      "100%|█████████| 40/40 [00:00<00:00, 57.49it/s, Epoch=79, Valid_Loss=0.379, Valid_Score=0.88, LR=0.1]\n"
     ]
    },
    {
     "name": "stdout",
     "output_type": "stream",
     "text": [
      "Valid score 0.8803\n",
      "\n"
     ]
    },
    {
     "name": "stderr",
     "output_type": "stream",
     "text": [
      "100%|█████| 391/391 [00:09<00:00, 43.27it/s, Epoch=80, Train_Loss=0.215, LR=0.1]\n",
      "100%|████████| 40/40 [00:00<00:00, 60.79it/s, Epoch=80, Valid_Loss=0.464, Valid_Score=0.858, LR=0.1]\n"
     ]
    },
    {
     "name": "stdout",
     "output_type": "stream",
     "text": [
      "Valid score 0.8575\n",
      "\n"
     ]
    },
    {
     "name": "stderr",
     "output_type": "stream",
     "text": [
      "100%|█████| 391/391 [00:09<00:00, 41.33it/s, Epoch=81, Train_Loss=0.204, LR=0.1]\n",
      "100%|████████| 40/40 [00:00<00:00, 60.60it/s, Epoch=81, Valid_Loss=0.433, Valid_Score=0.868, LR=0.1]\n"
     ]
    },
    {
     "name": "stdout",
     "output_type": "stream",
     "text": [
      "Valid score 0.8679\n",
      "\n"
     ]
    },
    {
     "name": "stderr",
     "output_type": "stream",
     "text": [
      "100%|█████| 391/391 [00:09<00:00, 42.77it/s, Epoch=82, Train_Loss=0.207, LR=0.1]\n",
      "100%|████████| 40/40 [00:00<00:00, 59.08it/s, Epoch=82, Valid_Loss=0.495, Valid_Score=0.854, LR=0.1]\n"
     ]
    },
    {
     "name": "stdout",
     "output_type": "stream",
     "text": [
      "Valid score 0.8538\n",
      "\n"
     ]
    },
    {
     "name": "stderr",
     "output_type": "stream",
     "text": [
      "100%|██████| 391/391 [00:09<00:00, 41.61it/s, Epoch=83, Train_Loss=0.21, LR=0.1]\n",
      "100%|██████████| 40/40 [00:00<00:00, 61.44it/s, Epoch=83, Valid_Loss=0.46, Valid_Score=0.86, LR=0.1]\n"
     ]
    },
    {
     "name": "stdout",
     "output_type": "stream",
     "text": [
      "Valid score 0.8595\n",
      "\n"
     ]
    },
    {
     "name": "stderr",
     "output_type": "stream",
     "text": [
      "100%|█████| 391/391 [00:09<00:00, 43.38it/s, Epoch=84, Train_Loss=0.207, LR=0.1]\n",
      "100%|████████| 40/40 [00:00<00:00, 61.30it/s, Epoch=84, Valid_Loss=0.406, Valid_Score=0.876, LR=0.1]\n"
     ]
    },
    {
     "name": "stdout",
     "output_type": "stream",
     "text": [
      "Valid score 0.8765\n",
      "\n"
     ]
    },
    {
     "name": "stderr",
     "output_type": "stream",
     "text": [
      "100%|█████| 391/391 [00:08<00:00, 43.63it/s, Epoch=85, Train_Loss=0.203, LR=0.1]\n",
      "100%|████████| 40/40 [00:00<00:00, 61.24it/s, Epoch=85, Valid_Loss=0.444, Valid_Score=0.866, LR=0.1]\n"
     ]
    },
    {
     "name": "stdout",
     "output_type": "stream",
     "text": [
      "Valid score 0.8664\n",
      "\n"
     ]
    },
    {
     "name": "stderr",
     "output_type": "stream",
     "text": [
      "100%|██████| 391/391 [00:08<00:00, 43.81it/s, Epoch=86, Train_Loss=0.21, LR=0.1]\n",
      "100%|█████████| 40/40 [00:00<00:00, 60.61it/s, Epoch=86, Valid_Loss=0.44, Valid_Score=0.873, LR=0.1]\n"
     ]
    },
    {
     "name": "stdout",
     "output_type": "stream",
     "text": [
      "Valid score 0.8727\n",
      "\n"
     ]
    },
    {
     "name": "stderr",
     "output_type": "stream",
     "text": [
      "100%|█████| 391/391 [00:08<00:00, 43.76it/s, Epoch=87, Train_Loss=0.211, LR=0.1]\n",
      "100%|████████| 40/40 [00:00<00:00, 60.89it/s, Epoch=87, Valid_Loss=0.366, Valid_Score=0.884, LR=0.1]\n"
     ]
    },
    {
     "name": "stdout",
     "output_type": "stream",
     "text": [
      "Valid score 0.8845\n",
      "\n"
     ]
    },
    {
     "name": "stderr",
     "output_type": "stream",
     "text": [
      "100%|█████| 391/391 [00:09<00:00, 43.14it/s, Epoch=88, Train_Loss=0.201, LR=0.1]\n",
      "100%|████████| 40/40 [00:00<00:00, 60.75it/s, Epoch=88, Valid_Loss=0.408, Valid_Score=0.873, LR=0.1]\n"
     ]
    },
    {
     "name": "stdout",
     "output_type": "stream",
     "text": [
      "Valid score 0.8729\n",
      "\n"
     ]
    },
    {
     "name": "stderr",
     "output_type": "stream",
     "text": [
      "100%|███████| 391/391 [00:08<00:00, 44.10it/s, Epoch=89, Train_Loss=0.2, LR=0.1]\n",
      "100%|████████| 40/40 [00:00<00:00, 58.25it/s, Epoch=89, Valid_Loss=0.474, Valid_Score=0.859, LR=0.1]"
     ]
    },
    {
     "name": "stdout",
     "output_type": "stream",
     "text": [
      "Valid score 0.8589\n",
      "\n"
     ]
    },
    {
     "name": "stderr",
     "output_type": "stream",
     "text": [
      "\n",
      "100%|█████| 391/391 [00:09<00:00, 42.44it/s, Epoch=90, Train_Loss=0.206, LR=0.1]\n",
      "100%|████████| 40/40 [00:00<00:00, 58.62it/s, Epoch=90, Valid_Loss=0.433, Valid_Score=0.866, LR=0.1]"
     ]
    },
    {
     "name": "stdout",
     "output_type": "stream",
     "text": [
      "Valid score 0.8657\n",
      "\n"
     ]
    },
    {
     "name": "stderr",
     "output_type": "stream",
     "text": [
      "\n",
      "100%|██████| 391/391 [00:09<00:00, 41.28it/s, Epoch=91, Train_Loss=0.21, LR=0.1]\n",
      "100%|████████| 40/40 [00:00<00:00, 60.12it/s, Epoch=91, Valid_Loss=0.407, Valid_Score=0.877, LR=0.1]\n"
     ]
    },
    {
     "name": "stdout",
     "output_type": "stream",
     "text": [
      "Valid score 0.8769\n",
      "\n"
     ]
    },
    {
     "name": "stderr",
     "output_type": "stream",
     "text": [
      "100%|█████| 391/391 [00:09<00:00, 43.25it/s, Epoch=92, Train_Loss=0.205, LR=0.1]\n",
      "100%|████████| 40/40 [00:00<00:00, 59.37it/s, Epoch=92, Valid_Loss=0.467, Valid_Score=0.858, LR=0.1]\n"
     ]
    },
    {
     "name": "stdout",
     "output_type": "stream",
     "text": [
      "Valid score 0.8583\n",
      "\n"
     ]
    },
    {
     "name": "stderr",
     "output_type": "stream",
     "text": [
      "100%|█████| 391/391 [00:09<00:00, 43.03it/s, Epoch=93, Train_Loss=0.204, LR=0.1]\n",
      "100%|████████| 40/40 [00:00<00:00, 59.99it/s, Epoch=93, Valid_Loss=0.431, Valid_Score=0.869, LR=0.1]\n"
     ]
    },
    {
     "name": "stdout",
     "output_type": "stream",
     "text": [
      "Valid score 0.8693\n",
      "\n"
     ]
    },
    {
     "name": "stderr",
     "output_type": "stream",
     "text": [
      "100%|█████| 391/391 [00:09<00:00, 42.92it/s, Epoch=94, Train_Loss=0.204, LR=0.1]\n",
      "100%|████████| 40/40 [00:00<00:00, 60.13it/s, Epoch=94, Valid_Loss=0.481, Valid_Score=0.858, LR=0.1]\n"
     ]
    },
    {
     "name": "stdout",
     "output_type": "stream",
     "text": [
      "Valid score 0.8579\n",
      "\n"
     ]
    },
    {
     "name": "stderr",
     "output_type": "stream",
     "text": [
      "100%|█████| 391/391 [00:08<00:00, 43.88it/s, Epoch=95, Train_Loss=0.202, LR=0.1]\n",
      "100%|████████| 40/40 [00:00<00:00, 62.74it/s, Epoch=95, Valid_Loss=0.398, Valid_Score=0.873, LR=0.1]\n"
     ]
    },
    {
     "name": "stdout",
     "output_type": "stream",
     "text": [
      "Valid score 0.8732\n",
      "\n"
     ]
    },
    {
     "name": "stderr",
     "output_type": "stream",
     "text": [
      "100%|█████| 391/391 [00:08<00:00, 43.71it/s, Epoch=96, Train_Loss=0.211, LR=0.1]\n",
      "100%|████████| 40/40 [00:00<00:00, 62.67it/s, Epoch=96, Valid_Loss=0.411, Valid_Score=0.872, LR=0.1]\n"
     ]
    },
    {
     "name": "stdout",
     "output_type": "stream",
     "text": [
      "Valid score 0.8717\n",
      "\n"
     ]
    },
    {
     "name": "stderr",
     "output_type": "stream",
     "text": [
      "100%|█████| 391/391 [00:08<00:00, 44.01it/s, Epoch=97, Train_Loss=0.205, LR=0.1]\n",
      "100%|████████| 40/40 [00:00<00:00, 60.56it/s, Epoch=97, Valid_Loss=0.445, Valid_Score=0.863, LR=0.1]\n"
     ]
    },
    {
     "name": "stdout",
     "output_type": "stream",
     "text": [
      "Valid score 0.8627\n",
      "\n"
     ]
    },
    {
     "name": "stderr",
     "output_type": "stream",
     "text": [
      "100%|█████| 391/391 [00:08<00:00, 43.69it/s, Epoch=98, Train_Loss=0.194, LR=0.1]\n",
      "100%|████████| 40/40 [00:00<00:00, 60.17it/s, Epoch=98, Valid_Loss=0.411, Valid_Score=0.881, LR=0.1]\n"
     ]
    },
    {
     "name": "stdout",
     "output_type": "stream",
     "text": [
      "Valid score 0.881\n",
      "\n"
     ]
    },
    {
     "name": "stderr",
     "output_type": "stream",
     "text": [
      "100%|█████| 391/391 [00:09<00:00, 42.25it/s, Epoch=99, Train_Loss=0.205, LR=0.1]\n",
      "100%|████████| 40/40 [00:00<00:00, 55.57it/s, Epoch=99, Valid_Loss=0.542, Valid_Score=0.838, LR=0.1]"
     ]
    },
    {
     "name": "stdout",
     "output_type": "stream",
     "text": [
      "Valid score 0.8383\n",
      "\n"
     ]
    },
    {
     "name": "stderr",
     "output_type": "stream",
     "text": [
      "\n",
      "100%|████| 391/391 [00:09<00:00, 43.43it/s, Epoch=100, Train_Loss=0.197, LR=0.1]\n",
      "100%|███████| 40/40 [00:00<00:00, 59.46it/s, Epoch=100, Valid_Loss=0.421, Valid_Score=0.87, LR=0.01]\n"
     ]
    },
    {
     "name": "stdout",
     "output_type": "stream",
     "text": [
      "Valid score 0.8697\n",
      "\n"
     ]
    },
    {
     "name": "stderr",
     "output_type": "stream",
     "text": [
      "100%|███| 391/391 [00:08<00:00, 43.80it/s, Epoch=101, Train_Loss=0.123, LR=0.01]\n",
      "100%|██████| 40/40 [00:00<00:00, 61.62it/s, Epoch=101, Valid_Loss=0.268, Valid_Score=0.915, LR=0.01]\n"
     ]
    },
    {
     "name": "stdout",
     "output_type": "stream",
     "text": [
      "Valid score 0.915\n",
      "Validation Loss Improved (0.3646340930461884 ---> 0.26792790002822875)\n",
      "Model Saved\n",
      "\n"
     ]
    },
    {
     "name": "stderr",
     "output_type": "stream",
     "text": [
      "100%|██| 391/391 [00:08<00:00, 44.06it/s, Epoch=102, Train_Loss=0.0907, LR=0.01]\n",
      "100%|██████| 40/40 [00:00<00:00, 62.38it/s, Epoch=102, Valid_Loss=0.267, Valid_Score=0.916, LR=0.01]\n"
     ]
    },
    {
     "name": "stdout",
     "output_type": "stream",
     "text": [
      "Valid score 0.9165\n",
      "Validation Loss Improved (0.26792790002822875 ---> 0.2674501641511917)\n",
      "Model Saved\n",
      "\n"
     ]
    },
    {
     "name": "stderr",
     "output_type": "stream",
     "text": [
      "100%|██| 391/391 [00:08<00:00, 43.89it/s, Epoch=103, Train_Loss=0.0819, LR=0.01]\n",
      "100%|██████| 40/40 [00:00<00:00, 62.67it/s, Epoch=103, Valid_Loss=0.265, Valid_Score=0.918, LR=0.01]\n"
     ]
    },
    {
     "name": "stdout",
     "output_type": "stream",
     "text": [
      "Valid score 0.9183\n",
      "Validation Loss Improved (0.2674501641511917 ---> 0.265282438659668)\n",
      "Model Saved\n",
      "\n"
     ]
    },
    {
     "name": "stderr",
     "output_type": "stream",
     "text": [
      "100%|██| 391/391 [00:08<00:00, 43.87it/s, Epoch=104, Train_Loss=0.0763, LR=0.01]\n",
      "100%|███████| 40/40 [00:00<00:00, 62.39it/s, Epoch=104, Valid_Loss=0.267, Valid_Score=0.92, LR=0.01]"
     ]
    },
    {
     "name": "stdout",
     "output_type": "stream",
     "text": [
      "Valid score 0.9197\n",
      "\n"
     ]
    },
    {
     "name": "stderr",
     "output_type": "stream",
     "text": [
      "\n",
      "100%|██| 391/391 [00:08<00:00, 44.15it/s, Epoch=105, Train_Loss=0.0703, LR=0.01]\n",
      "100%|███████| 40/40 [00:00<00:00, 61.10it/s, Epoch=105, Valid_Loss=0.269, Valid_Score=0.92, LR=0.01]\n"
     ]
    },
    {
     "name": "stdout",
     "output_type": "stream",
     "text": [
      "Valid score 0.9202\n",
      "\n"
     ]
    },
    {
     "name": "stderr",
     "output_type": "stream",
     "text": [
      "100%|██| 391/391 [00:08<00:00, 44.10it/s, Epoch=106, Train_Loss=0.0658, LR=0.01]\n",
      "100%|███████| 40/40 [00:00<00:00, 62.67it/s, Epoch=106, Valid_Loss=0.267, Valid_Score=0.92, LR=0.01]"
     ]
    },
    {
     "name": "stdout",
     "output_type": "stream",
     "text": [
      "Valid score 0.9202\n",
      "\n"
     ]
    },
    {
     "name": "stderr",
     "output_type": "stream",
     "text": [
      "\n",
      "100%|██| 391/391 [00:08<00:00, 44.22it/s, Epoch=107, Train_Loss=0.0645, LR=0.01]\n",
      "100%|████████| 40/40 [00:00<00:00, 62.46it/s, Epoch=107, Valid_Loss=0.27, Valid_Score=0.92, LR=0.01]\n"
     ]
    },
    {
     "name": "stdout",
     "output_type": "stream",
     "text": [
      "Valid score 0.9205\n",
      "\n"
     ]
    },
    {
     "name": "stderr",
     "output_type": "stream",
     "text": [
      "100%|██| 391/391 [00:08<00:00, 44.21it/s, Epoch=108, Train_Loss=0.0621, LR=0.01]\n",
      "100%|███████| 40/40 [00:00<00:00, 60.15it/s, Epoch=108, Valid_Loss=0.269, Valid_Score=0.92, LR=0.01]\n"
     ]
    },
    {
     "name": "stdout",
     "output_type": "stream",
     "text": [
      "Valid score 0.9205\n",
      "\n"
     ]
    },
    {
     "name": "stderr",
     "output_type": "stream",
     "text": [
      "100%|██| 391/391 [00:08<00:00, 43.79it/s, Epoch=109, Train_Loss=0.0607, LR=0.01]\n",
      "100%|███████| 40/40 [00:00<00:00, 62.31it/s, Epoch=109, Valid_Loss=0.274, Valid_Score=0.92, LR=0.01]\n"
     ]
    },
    {
     "name": "stdout",
     "output_type": "stream",
     "text": [
      "Valid score 0.9203\n",
      "\n"
     ]
    },
    {
     "name": "stderr",
     "output_type": "stream",
     "text": [
      "100%|██| 391/391 [00:08<00:00, 43.97it/s, Epoch=110, Train_Loss=0.0546, LR=0.01]\n",
      "100%|██████| 40/40 [00:00<00:00, 60.61it/s, Epoch=110, Valid_Loss=0.279, Valid_Score=0.919, LR=0.01]\n"
     ]
    },
    {
     "name": "stdout",
     "output_type": "stream",
     "text": [
      "Valid score 0.9193\n",
      "\n"
     ]
    },
    {
     "name": "stderr",
     "output_type": "stream",
     "text": [
      "100%|███| 391/391 [00:08<00:00, 43.97it/s, Epoch=111, Train_Loss=0.053, LR=0.01]\n",
      "100%|██████| 40/40 [00:00<00:00, 55.15it/s, Epoch=111, Valid_Loss=0.283, Valid_Score=0.922, LR=0.01]"
     ]
    },
    {
     "name": "stdout",
     "output_type": "stream",
     "text": [
      "Valid score 0.922\n",
      "\n"
     ]
    },
    {
     "name": "stderr",
     "output_type": "stream",
     "text": [
      "\n",
      "100%|██| 391/391 [00:08<00:00, 44.12it/s, Epoch=112, Train_Loss=0.0509, LR=0.01]\n",
      "100%|██████| 40/40 [00:00<00:00, 62.93it/s, Epoch=112, Valid_Loss=0.287, Valid_Score=0.919, LR=0.01]\n"
     ]
    },
    {
     "name": "stdout",
     "output_type": "stream",
     "text": [
      "Valid score 0.9192\n",
      "\n"
     ]
    },
    {
     "name": "stderr",
     "output_type": "stream",
     "text": [
      "100%|██| 391/391 [00:08<00:00, 44.01it/s, Epoch=113, Train_Loss=0.0499, LR=0.01]\n",
      "100%|██████| 40/40 [00:00<00:00, 61.90it/s, Epoch=113, Valid_Loss=0.292, Valid_Score=0.918, LR=0.01]\n"
     ]
    },
    {
     "name": "stdout",
     "output_type": "stream",
     "text": [
      "Valid score 0.9183\n",
      "\n"
     ]
    },
    {
     "name": "stderr",
     "output_type": "stream",
     "text": [
      "100%|██| 391/391 [00:09<00:00, 42.96it/s, Epoch=114, Train_Loss=0.0482, LR=0.01]\n",
      "100%|███████| 40/40 [00:00<00:00, 60.83it/s, Epoch=114, Valid_Loss=0.295, Valid_Score=0.92, LR=0.01]\n"
     ]
    },
    {
     "name": "stdout",
     "output_type": "stream",
     "text": [
      "Valid score 0.92\n",
      "\n"
     ]
    },
    {
     "name": "stderr",
     "output_type": "stream",
     "text": [
      "100%|██| 391/391 [00:09<00:00, 43.25it/s, Epoch=115, Train_Loss=0.0458, LR=0.01]\n",
      "100%|███████| 40/40 [00:00<00:00, 61.65it/s, Epoch=115, Valid_Loss=0.289, Valid_Score=0.92, LR=0.01]\n"
     ]
    },
    {
     "name": "stdout",
     "output_type": "stream",
     "text": [
      "Valid score 0.9203\n",
      "\n"
     ]
    },
    {
     "name": "stderr",
     "output_type": "stream",
     "text": [
      "100%|██| 391/391 [00:08<00:00, 43.73it/s, Epoch=116, Train_Loss=0.0447, LR=0.01]\n",
      "100%|██████| 40/40 [00:00<00:00, 62.76it/s, Epoch=116, Valid_Loss=0.293, Valid_Score=0.921, LR=0.01]\n"
     ]
    },
    {
     "name": "stdout",
     "output_type": "stream",
     "text": [
      "Valid score 0.9207\n",
      "\n"
     ]
    },
    {
     "name": "stderr",
     "output_type": "stream",
     "text": [
      "100%|██| 391/391 [00:08<00:00, 44.03it/s, Epoch=117, Train_Loss=0.0441, LR=0.01]\n",
      "100%|███████| 40/40 [00:00<00:00, 59.27it/s, Epoch=117, Valid_Loss=0.295, Valid_Score=0.92, LR=0.01]"
     ]
    },
    {
     "name": "stdout",
     "output_type": "stream",
     "text": [
      "Valid score 0.9199\n",
      "\n"
     ]
    },
    {
     "name": "stderr",
     "output_type": "stream",
     "text": [
      "\n",
      "100%|██| 391/391 [00:08<00:00, 44.04it/s, Epoch=118, Train_Loss=0.0406, LR=0.01]\n",
      "100%|██████| 40/40 [00:00<00:00, 62.62it/s, Epoch=118, Valid_Loss=0.294, Valid_Score=0.922, LR=0.01]\n"
     ]
    },
    {
     "name": "stdout",
     "output_type": "stream",
     "text": [
      "Valid score 0.9222\n",
      "\n"
     ]
    },
    {
     "name": "stderr",
     "output_type": "stream",
     "text": [
      "100%|██| 391/391 [00:08<00:00, 43.95it/s, Epoch=119, Train_Loss=0.0424, LR=0.01]\n",
      "100%|██████| 40/40 [00:00<00:00, 60.77it/s, Epoch=119, Valid_Loss=0.301, Valid_Score=0.919, LR=0.01]\n"
     ]
    },
    {
     "name": "stdout",
     "output_type": "stream",
     "text": [
      "Valid score 0.9195\n",
      "\n"
     ]
    },
    {
     "name": "stderr",
     "output_type": "stream",
     "text": [
      "100%|██| 391/391 [00:08<00:00, 44.15it/s, Epoch=120, Train_Loss=0.0395, LR=0.01]\n",
      "100%|██████| 40/40 [00:00<00:00, 59.23it/s, Epoch=120, Valid_Loss=0.296, Valid_Score=0.922, LR=0.01]\n"
     ]
    },
    {
     "name": "stdout",
     "output_type": "stream",
     "text": [
      "Valid score 0.9225\n",
      "\n"
     ]
    },
    {
     "name": "stderr",
     "output_type": "stream",
     "text": [
      "100%|██| 391/391 [00:08<00:00, 43.66it/s, Epoch=121, Train_Loss=0.0386, LR=0.01]\n",
      "100%|███████| 40/40 [00:00<00:00, 59.81it/s, Epoch=121, Valid_Loss=0.308, Valid_Score=0.92, LR=0.01]"
     ]
    },
    {
     "name": "stdout",
     "output_type": "stream",
     "text": [
      "Valid score 0.9196\n",
      "\n"
     ]
    },
    {
     "name": "stderr",
     "output_type": "stream",
     "text": [
      "\n",
      "100%|██| 391/391 [00:08<00:00, 43.68it/s, Epoch=122, Train_Loss=0.0371, LR=0.01]\n",
      "100%|██████| 40/40 [00:00<00:00, 62.88it/s, Epoch=122, Valid_Loss=0.313, Valid_Score=0.919, LR=0.01]\n"
     ]
    },
    {
     "name": "stdout",
     "output_type": "stream",
     "text": [
      "Valid score 0.9194\n",
      "\n"
     ]
    },
    {
     "name": "stderr",
     "output_type": "stream",
     "text": [
      "100%|██| 391/391 [00:09<00:00, 43.06it/s, Epoch=123, Train_Loss=0.0358, LR=0.01]\n",
      "100%|██████| 40/40 [00:00<00:00, 61.14it/s, Epoch=123, Valid_Loss=0.304, Valid_Score=0.922, LR=0.01]"
     ]
    },
    {
     "name": "stdout",
     "output_type": "stream",
     "text": [
      "Valid score 0.9218\n",
      "\n"
     ]
    },
    {
     "name": "stderr",
     "output_type": "stream",
     "text": [
      "\n",
      "100%|██| 391/391 [00:08<00:00, 43.83it/s, Epoch=124, Train_Loss=0.0366, LR=0.01]\n",
      "100%|███████| 40/40 [00:00<00:00, 60.30it/s, Epoch=124, Valid_Loss=0.311, Valid_Score=0.92, LR=0.01]\n"
     ]
    },
    {
     "name": "stdout",
     "output_type": "stream",
     "text": [
      "Valid score 0.9197\n",
      "\n"
     ]
    },
    {
     "name": "stderr",
     "output_type": "stream",
     "text": [
      "100%|██| 391/391 [00:09<00:00, 43.00it/s, Epoch=125, Train_Loss=0.0335, LR=0.01]\n",
      "100%|███████| 40/40 [00:00<00:00, 62.72it/s, Epoch=125, Valid_Loss=0.315, Valid_Score=0.92, LR=0.01]\n"
     ]
    },
    {
     "name": "stdout",
     "output_type": "stream",
     "text": [
      "Valid score 0.9203\n",
      "\n"
     ]
    },
    {
     "name": "stderr",
     "output_type": "stream",
     "text": [
      "100%|██| 391/391 [00:08<00:00, 43.93it/s, Epoch=126, Train_Loss=0.0342, LR=0.01]\n",
      "100%|███████| 40/40 [00:00<00:00, 59.53it/s, Epoch=126, Valid_Loss=0.319, Valid_Score=0.92, LR=0.01]\n"
     ]
    },
    {
     "name": "stdout",
     "output_type": "stream",
     "text": [
      "Valid score 0.9205\n",
      "\n"
     ]
    },
    {
     "name": "stderr",
     "output_type": "stream",
     "text": [
      "100%|██| 391/391 [00:08<00:00, 44.28it/s, Epoch=127, Train_Loss=0.0327, LR=0.01]\n",
      "100%|██████| 40/40 [00:00<00:00, 60.90it/s, Epoch=127, Valid_Loss=0.312, Valid_Score=0.922, LR=0.01]"
     ]
    },
    {
     "name": "stdout",
     "output_type": "stream",
     "text": [
      "Valid score 0.9218\n",
      "\n"
     ]
    },
    {
     "name": "stderr",
     "output_type": "stream",
     "text": [
      "\n",
      "100%|██| 391/391 [00:08<00:00, 44.10it/s, Epoch=128, Train_Loss=0.0325, LR=0.01]\n",
      "100%|████████| 40/40 [00:00<00:00, 59.98it/s, Epoch=128, Valid_Loss=0.32, Valid_Score=0.92, LR=0.01]\n"
     ]
    },
    {
     "name": "stdout",
     "output_type": "stream",
     "text": [
      "Valid score 0.9205\n",
      "\n"
     ]
    },
    {
     "name": "stderr",
     "output_type": "stream",
     "text": [
      "100%|██| 391/391 [00:08<00:00, 44.21it/s, Epoch=129, Train_Loss=0.0319, LR=0.01]\n",
      "100%|███████| 40/40 [00:00<00:00, 62.24it/s, Epoch=129, Valid_Loss=0.316, Valid_Score=0.92, LR=0.01]\n"
     ]
    },
    {
     "name": "stdout",
     "output_type": "stream",
     "text": [
      "Valid score 0.9199\n",
      "\n"
     ]
    },
    {
     "name": "stderr",
     "output_type": "stream",
     "text": [
      "100%|██| 391/391 [00:08<00:00, 43.98it/s, Epoch=130, Train_Loss=0.0304, LR=0.01]\n",
      "100%|███████| 40/40 [00:00<00:00, 60.71it/s, Epoch=130, Valid_Loss=0.32, Valid_Score=0.921, LR=0.01]\n"
     ]
    },
    {
     "name": "stdout",
     "output_type": "stream",
     "text": [
      "Valid score 0.9208\n",
      "\n"
     ]
    },
    {
     "name": "stderr",
     "output_type": "stream",
     "text": [
      "100%|██| 391/391 [00:08<00:00, 43.57it/s, Epoch=131, Train_Loss=0.0294, LR=0.01]\n",
      "100%|██████| 40/40 [00:00<00:00, 62.34it/s, Epoch=131, Valid_Loss=0.327, Valid_Score=0.921, LR=0.01]\n"
     ]
    },
    {
     "name": "stdout",
     "output_type": "stream",
     "text": [
      "Valid score 0.9214\n",
      "\n"
     ]
    },
    {
     "name": "stderr",
     "output_type": "stream",
     "text": [
      "100%|██| 391/391 [00:08<00:00, 43.69it/s, Epoch=132, Train_Loss=0.0301, LR=0.01]\n",
      "100%|██████| 40/40 [00:00<00:00, 62.81it/s, Epoch=132, Valid_Loss=0.323, Valid_Score=0.921, LR=0.01]"
     ]
    },
    {
     "name": "stdout",
     "output_type": "stream",
     "text": [
      "Valid score 0.9208\n",
      "\n"
     ]
    },
    {
     "name": "stderr",
     "output_type": "stream",
     "text": [
      "\n",
      "100%|██| 391/391 [00:09<00:00, 42.43it/s, Epoch=133, Train_Loss=0.0294, LR=0.01]\n",
      "100%|██████| 40/40 [00:00<00:00, 58.28it/s, Epoch=133, Valid_Loss=0.325, Valid_Score=0.919, LR=0.01]"
     ]
    },
    {
     "name": "stdout",
     "output_type": "stream",
     "text": [
      "Valid score 0.9188\n",
      "\n"
     ]
    },
    {
     "name": "stderr",
     "output_type": "stream",
     "text": [
      "\n",
      "100%|██| 391/391 [00:09<00:00, 41.74it/s, Epoch=134, Train_Loss=0.0282, LR=0.01]\n",
      "100%|██████| 40/40 [00:00<00:00, 57.68it/s, Epoch=134, Valid_Loss=0.329, Valid_Score=0.921, LR=0.01]\n"
     ]
    },
    {
     "name": "stdout",
     "output_type": "stream",
     "text": [
      "Valid score 0.9208\n",
      "\n"
     ]
    },
    {
     "name": "stderr",
     "output_type": "stream",
     "text": [
      "100%|██| 391/391 [00:09<00:00, 42.41it/s, Epoch=135, Train_Loss=0.0274, LR=0.01]\n",
      "100%|██████| 40/40 [00:00<00:00, 56.74it/s, Epoch=135, Valid_Loss=0.324, Valid_Score=0.921, LR=0.01]\n"
     ]
    },
    {
     "name": "stdout",
     "output_type": "stream",
     "text": [
      "Valid score 0.9211\n",
      "\n"
     ]
    },
    {
     "name": "stderr",
     "output_type": "stream",
     "text": [
      "100%|██| 391/391 [00:09<00:00, 42.09it/s, Epoch=136, Train_Loss=0.0282, LR=0.01]\n",
      "100%|██████| 40/40 [00:00<00:00, 54.14it/s, Epoch=136, Valid_Loss=0.336, Valid_Score=0.921, LR=0.01]\n"
     ]
    },
    {
     "name": "stdout",
     "output_type": "stream",
     "text": [
      "Valid score 0.9209\n",
      "\n"
     ]
    },
    {
     "name": "stderr",
     "output_type": "stream",
     "text": [
      "100%|██| 391/391 [00:09<00:00, 42.36it/s, Epoch=137, Train_Loss=0.0276, LR=0.01]\n",
      "100%|██████| 40/40 [00:00<00:00, 57.20it/s, Epoch=137, Valid_Loss=0.331, Valid_Score=0.919, LR=0.01]\n"
     ]
    },
    {
     "name": "stdout",
     "output_type": "stream",
     "text": [
      "Valid score 0.9192\n",
      "\n"
     ]
    },
    {
     "name": "stderr",
     "output_type": "stream",
     "text": [
      "100%|██| 391/391 [00:09<00:00, 42.27it/s, Epoch=138, Train_Loss=0.0272, LR=0.01]\n",
      "100%|██████| 40/40 [00:00<00:00, 52.44it/s, Epoch=138, Valid_Loss=0.334, Valid_Score=0.921, LR=0.01]\n"
     ]
    },
    {
     "name": "stdout",
     "output_type": "stream",
     "text": [
      "Valid score 0.9207\n",
      "\n"
     ]
    },
    {
     "name": "stderr",
     "output_type": "stream",
     "text": [
      "100%|██| 391/391 [00:11<00:00, 35.09it/s, Epoch=139, Train_Loss=0.0274, LR=0.01]\n",
      "100%|██████| 40/40 [00:01<00:00, 29.02it/s, Epoch=139, Valid_Loss=0.326, Valid_Score=0.921, LR=0.01]\n"
     ]
    },
    {
     "name": "stdout",
     "output_type": "stream",
     "text": [
      "Valid score 0.9214\n",
      "\n"
     ]
    },
    {
     "name": "stderr",
     "output_type": "stream",
     "text": [
      "100%|███| 391/391 [00:12<00:00, 31.61it/s, Epoch=140, Train_Loss=0.026, LR=0.01]\n",
      "100%|██████| 40/40 [00:00<00:00, 60.43it/s, Epoch=140, Valid_Loss=0.343, Valid_Score=0.918, LR=0.01]\n"
     ]
    },
    {
     "name": "stdout",
     "output_type": "stream",
     "text": [
      "Valid score 0.9183\n",
      "\n"
     ]
    },
    {
     "name": "stderr",
     "output_type": "stream",
     "text": [
      "100%|██| 391/391 [00:09<00:00, 43.33it/s, Epoch=141, Train_Loss=0.0264, LR=0.01]\n",
      "100%|██████| 40/40 [00:00<00:00, 60.36it/s, Epoch=141, Valid_Loss=0.338, Valid_Score=0.921, LR=0.01]\n"
     ]
    },
    {
     "name": "stdout",
     "output_type": "stream",
     "text": [
      "Valid score 0.9212\n",
      "\n"
     ]
    },
    {
     "name": "stderr",
     "output_type": "stream",
     "text": [
      "100%|██| 391/391 [00:08<00:00, 43.50it/s, Epoch=142, Train_Loss=0.0262, LR=0.01]\n",
      "100%|██████| 40/40 [00:00<00:00, 61.12it/s, Epoch=142, Valid_Loss=0.336, Valid_Score=0.921, LR=0.01]\n"
     ]
    },
    {
     "name": "stdout",
     "output_type": "stream",
     "text": [
      "Valid score 0.9207\n",
      "\n"
     ]
    },
    {
     "name": "stderr",
     "output_type": "stream",
     "text": [
      "100%|██| 391/391 [00:09<00:00, 43.40it/s, Epoch=143, Train_Loss=0.0245, LR=0.01]\n",
      "100%|██████| 40/40 [00:00<00:00, 60.80it/s, Epoch=143, Valid_Loss=0.342, Valid_Score=0.919, LR=0.01]\n"
     ]
    },
    {
     "name": "stdout",
     "output_type": "stream",
     "text": [
      "Valid score 0.9188\n",
      "\n"
     ]
    },
    {
     "name": "stderr",
     "output_type": "stream",
     "text": [
      "100%|███| 391/391 [00:09<00:00, 42.94it/s, Epoch=144, Train_Loss=0.025, LR=0.01]\n",
      "100%|██████| 40/40 [00:00<00:00, 59.45it/s, Epoch=144, Valid_Loss=0.333, Valid_Score=0.922, LR=0.01]\n"
     ]
    },
    {
     "name": "stdout",
     "output_type": "stream",
     "text": [
      "Valid score 0.9219\n",
      "\n"
     ]
    },
    {
     "name": "stderr",
     "output_type": "stream",
     "text": [
      "100%|███| 391/391 [00:08<00:00, 44.07it/s, Epoch=145, Train_Loss=0.024, LR=0.01]\n",
      "100%|██████| 40/40 [00:00<00:00, 60.81it/s, Epoch=145, Valid_Loss=0.345, Valid_Score=0.919, LR=0.01]"
     ]
    },
    {
     "name": "stdout",
     "output_type": "stream",
     "text": [
      "Valid score 0.9191\n",
      "\n"
     ]
    },
    {
     "name": "stderr",
     "output_type": "stream",
     "text": [
      "\n",
      "100%|██| 391/391 [00:09<00:00, 43.28it/s, Epoch=146, Train_Loss=0.0245, LR=0.01]\n",
      "100%|███████| 40/40 [00:00<00:00, 60.29it/s, Epoch=146, Valid_Loss=0.352, Valid_Score=0.92, LR=0.01]\n"
     ]
    },
    {
     "name": "stdout",
     "output_type": "stream",
     "text": [
      "Valid score 0.9196\n",
      "\n"
     ]
    },
    {
     "name": "stderr",
     "output_type": "stream",
     "text": [
      "100%|██| 391/391 [00:09<00:00, 41.52it/s, Epoch=147, Train_Loss=0.0236, LR=0.01]\n",
      "100%|███████| 40/40 [00:00<00:00, 58.29it/s, Epoch=147, Valid_Loss=0.349, Valid_Score=0.92, LR=0.01]"
     ]
    },
    {
     "name": "stdout",
     "output_type": "stream",
     "text": [
      "Valid score 0.9196\n",
      "\n"
     ]
    },
    {
     "name": "stderr",
     "output_type": "stream",
     "text": [
      "\n",
      "100%|███| 391/391 [00:09<00:00, 40.85it/s, Epoch=148, Train_Loss=0.024, LR=0.01]\n",
      "100%|███████| 40/40 [00:00<00:00, 53.40it/s, Epoch=148, Valid_Loss=0.356, Valid_Score=0.92, LR=0.01]\n"
     ]
    },
    {
     "name": "stdout",
     "output_type": "stream",
     "text": [
      "Valid score 0.9205\n",
      "\n"
     ]
    },
    {
     "name": "stderr",
     "output_type": "stream",
     "text": [
      "100%|██| 391/391 [00:09<00:00, 40.21it/s, Epoch=149, Train_Loss=0.0215, LR=0.01]\n",
      "100%|███████| 40/40 [00:00<00:00, 55.43it/s, Epoch=149, Valid_Loss=0.346, Valid_Score=0.92, LR=0.01]\n"
     ]
    },
    {
     "name": "stdout",
     "output_type": "stream",
     "text": [
      "Valid score 0.9205\n",
      "\n"
     ]
    },
    {
     "name": "stderr",
     "output_type": "stream",
     "text": [
      "100%|██| 391/391 [00:09<00:00, 41.58it/s, Epoch=150, Train_Loss=0.0221, LR=0.01]\n",
      "100%|██████| 40/40 [00:00<00:00, 58.48it/s, Epoch=150, Valid_Loss=0.362, Valid_Score=0.92, LR=0.001]\n"
     ]
    },
    {
     "name": "stdout",
     "output_type": "stream",
     "text": [
      "Valid score 0.9202\n",
      "\n"
     ]
    },
    {
     "name": "stderr",
     "output_type": "stream",
     "text": [
      "100%|█| 391/391 [00:09<00:00, 41.90it/s, Epoch=151, Train_Loss=0.0197, LR=0.001]\n",
      "100%|█████| 40/40 [00:00<00:00, 59.32it/s, Epoch=151, Valid_Loss=0.345, Valid_Score=0.921, LR=0.001]\n"
     ]
    },
    {
     "name": "stdout",
     "output_type": "stream",
     "text": [
      "Valid score 0.9207\n",
      "\n"
     ]
    },
    {
     "name": "stderr",
     "output_type": "stream",
     "text": [
      "100%|█| 391/391 [00:11<00:00, 35.01it/s, Epoch=152, Train_Loss=0.0182, LR=0.001]\n",
      "100%|██████| 40/40 [00:01<00:00, 27.48it/s, Epoch=152, Valid_Loss=0.34, Valid_Score=0.922, LR=0.001]\n"
     ]
    },
    {
     "name": "stdout",
     "output_type": "stream",
     "text": [
      "Valid score 0.922\n",
      "\n"
     ]
    },
    {
     "name": "stderr",
     "output_type": "stream",
     "text": [
      "100%|█| 391/391 [00:09<00:00, 40.70it/s, Epoch=153, Train_Loss=0.0176, LR=0.001]\n",
      "100%|█████| 40/40 [00:00<00:00, 60.81it/s, Epoch=153, Valid_Loss=0.339, Valid_Score=0.921, LR=0.001]\n"
     ]
    },
    {
     "name": "stdout",
     "output_type": "stream",
     "text": [
      "Valid score 0.9213\n",
      "\n"
     ]
    },
    {
     "name": "stderr",
     "output_type": "stream",
     "text": [
      "100%|██| 391/391 [00:08<00:00, 43.91it/s, Epoch=154, Train_Loss=0.018, LR=0.001]\n",
      "100%|█████| 40/40 [00:00<00:00, 61.08it/s, Epoch=154, Valid_Loss=0.342, Valid_Score=0.922, LR=0.001]"
     ]
    },
    {
     "name": "stdout",
     "output_type": "stream",
     "text": [
      "Valid score 0.9223\n",
      "\n"
     ]
    },
    {
     "name": "stderr",
     "output_type": "stream",
     "text": [
      "\n",
      "100%|█| 391/391 [00:09<00:00, 43.06it/s, Epoch=155, Train_Loss=0.0165, LR=0.001]\n",
      "100%|█████| 40/40 [00:00<00:00, 54.59it/s, Epoch=155, Valid_Loss=0.339, Valid_Score=0.922, LR=0.001]\n"
     ]
    },
    {
     "name": "stdout",
     "output_type": "stream",
     "text": [
      "Valid score 0.9224\n",
      "\n"
     ]
    },
    {
     "name": "stderr",
     "output_type": "stream",
     "text": [
      "100%|█| 391/391 [00:09<00:00, 42.67it/s, Epoch=156, Train_Loss=0.0157, LR=0.001]\n",
      "100%|█████| 40/40 [00:00<00:00, 60.59it/s, Epoch=156, Valid_Loss=0.339, Valid_Score=0.921, LR=0.001]\n"
     ]
    },
    {
     "name": "stdout",
     "output_type": "stream",
     "text": [
      "Valid score 0.9208\n",
      "\n"
     ]
    },
    {
     "name": "stderr",
     "output_type": "stream",
     "text": [
      "100%|█| 391/391 [00:09<00:00, 42.96it/s, Epoch=157, Train_Loss=0.0161, LR=0.001]\n",
      "100%|█████| 40/40 [00:00<00:00, 59.99it/s, Epoch=157, Valid_Loss=0.341, Valid_Score=0.923, LR=0.001]\n"
     ]
    },
    {
     "name": "stdout",
     "output_type": "stream",
     "text": [
      "Valid score 0.9232\n",
      "\n"
     ]
    },
    {
     "name": "stderr",
     "output_type": "stream",
     "text": [
      "100%|█| 391/391 [00:08<00:00, 43.75it/s, Epoch=158, Train_Loss=0.0158, LR=0.001]\n",
      "100%|█████| 40/40 [00:00<00:00, 61.41it/s, Epoch=158, Valid_Loss=0.335, Valid_Score=0.923, LR=0.001]\n"
     ]
    },
    {
     "name": "stdout",
     "output_type": "stream",
     "text": [
      "Valid score 0.923\n",
      "\n"
     ]
    },
    {
     "name": "stderr",
     "output_type": "stream",
     "text": [
      "100%|█| 391/391 [00:09<00:00, 43.44it/s, Epoch=159, Train_Loss=0.0163, LR=0.001]\n",
      "100%|█████| 40/40 [00:00<00:00, 62.33it/s, Epoch=159, Valid_Loss=0.337, Valid_Score=0.923, LR=0.001]\n"
     ]
    },
    {
     "name": "stdout",
     "output_type": "stream",
     "text": [
      "Valid score 0.9232\n",
      "\n"
     ]
    },
    {
     "name": "stderr",
     "output_type": "stream",
     "text": [
      "100%|█| 391/391 [00:09<00:00, 43.19it/s, Epoch=160, Train_Loss=0.0162, LR=0.001]\n",
      "100%|█████| 40/40 [00:00<00:00, 58.29it/s, Epoch=160, Valid_Loss=0.337, Valid_Score=0.923, LR=0.001]"
     ]
    },
    {
     "name": "stdout",
     "output_type": "stream",
     "text": [
      "Valid score 0.9231\n",
      "\n"
     ]
    },
    {
     "name": "stderr",
     "output_type": "stream",
     "text": [
      "\n",
      "100%|█| 391/391 [00:09<00:00, 42.83it/s, Epoch=161, Train_Loss=0.0158, LR=0.001]\n",
      "100%|█████| 40/40 [00:00<00:00, 57.52it/s, Epoch=161, Valid_Loss=0.344, Valid_Score=0.924, LR=0.001]\n"
     ]
    },
    {
     "name": "stdout",
     "output_type": "stream",
     "text": [
      "Valid score 0.9238\n",
      "\n"
     ]
    },
    {
     "name": "stderr",
     "output_type": "stream",
     "text": [
      "100%|█| 391/391 [00:09<00:00, 42.93it/s, Epoch=162, Train_Loss=0.0153, LR=0.001]\n",
      "100%|█████| 40/40 [00:00<00:00, 62.22it/s, Epoch=162, Valid_Loss=0.343, Valid_Score=0.922, LR=0.001]\n"
     ]
    },
    {
     "name": "stdout",
     "output_type": "stream",
     "text": [
      "Valid score 0.9224\n",
      "\n"
     ]
    },
    {
     "name": "stderr",
     "output_type": "stream",
     "text": [
      "100%|██| 391/391 [00:09<00:00, 43.15it/s, Epoch=163, Train_Loss=0.016, LR=0.001]\n",
      "100%|█████| 40/40 [00:00<00:00, 61.76it/s, Epoch=163, Valid_Loss=0.341, Valid_Score=0.921, LR=0.001]\n"
     ]
    },
    {
     "name": "stdout",
     "output_type": "stream",
     "text": [
      "Valid score 0.9215\n",
      "\n"
     ]
    },
    {
     "name": "stderr",
     "output_type": "stream",
     "text": [
      "100%|█| 391/391 [00:09<00:00, 43.07it/s, Epoch=164, Train_Loss=0.0159, LR=0.001]\n",
      "100%|██████| 40/40 [00:00<00:00, 59.58it/s, Epoch=164, Valid_Loss=0.34, Valid_Score=0.924, LR=0.001]\n"
     ]
    },
    {
     "name": "stdout",
     "output_type": "stream",
     "text": [
      "Valid score 0.924\n",
      "\n"
     ]
    },
    {
     "name": "stderr",
     "output_type": "stream",
     "text": [
      "100%|█| 391/391 [00:09<00:00, 43.02it/s, Epoch=165, Train_Loss=0.0155, LR=0.001]\n",
      "100%|██████| 40/40 [00:00<00:00, 60.22it/s, Epoch=165, Valid_Loss=0.34, Valid_Score=0.922, LR=0.001]\n"
     ]
    },
    {
     "name": "stdout",
     "output_type": "stream",
     "text": [
      "Valid score 0.9222\n",
      "\n"
     ]
    },
    {
     "name": "stderr",
     "output_type": "stream",
     "text": [
      "100%|█| 391/391 [00:09<00:00, 41.78it/s, Epoch=166, Train_Loss=0.0157, LR=0.001]\n",
      "100%|██████| 40/40 [00:00<00:00, 57.22it/s, Epoch=166, Valid_Loss=0.34, Valid_Score=0.924, LR=0.001]\n"
     ]
    },
    {
     "name": "stdout",
     "output_type": "stream",
     "text": [
      "Valid score 0.9236\n",
      "\n"
     ]
    },
    {
     "name": "stderr",
     "output_type": "stream",
     "text": [
      "100%|█| 391/391 [00:09<00:00, 40.02it/s, Epoch=167, Train_Loss=0.0149, LR=0.001]\n",
      "100%|█████| 40/40 [00:00<00:00, 54.84it/s, Epoch=167, Valid_Loss=0.342, Valid_Score=0.923, LR=0.001]\n"
     ]
    },
    {
     "name": "stdout",
     "output_type": "stream",
     "text": [
      "Valid score 0.9231\n",
      "\n"
     ]
    },
    {
     "name": "stderr",
     "output_type": "stream",
     "text": [
      "100%|█| 391/391 [00:09<00:00, 40.11it/s, Epoch=168, Train_Loss=0.0149, LR=0.001]\n",
      "100%|█████| 40/40 [00:00<00:00, 58.08it/s, Epoch=168, Valid_Loss=0.338, Valid_Score=0.923, LR=0.001]\n"
     ]
    },
    {
     "name": "stdout",
     "output_type": "stream",
     "text": [
      "Valid score 0.9228\n",
      "\n"
     ]
    },
    {
     "name": "stderr",
     "output_type": "stream",
     "text": [
      "100%|█| 391/391 [00:09<00:00, 40.21it/s, Epoch=169, Train_Loss=0.0145, LR=0.001]\n",
      "100%|█████| 40/40 [00:00<00:00, 55.60it/s, Epoch=169, Valid_Loss=0.341, Valid_Score=0.922, LR=0.001]\n"
     ]
    },
    {
     "name": "stdout",
     "output_type": "stream",
     "text": [
      "Valid score 0.9222\n",
      "\n"
     ]
    },
    {
     "name": "stderr",
     "output_type": "stream",
     "text": [
      "100%|█| 391/391 [00:09<00:00, 40.12it/s, Epoch=170, Train_Loss=0.0152, LR=0.001]\n",
      "100%|█████| 40/40 [00:00<00:00, 52.16it/s, Epoch=170, Valid_Loss=0.339, Valid_Score=0.922, LR=0.001]\n"
     ]
    },
    {
     "name": "stdout",
     "output_type": "stream",
     "text": [
      "Valid score 0.9216\n",
      "\n"
     ]
    },
    {
     "name": "stderr",
     "output_type": "stream",
     "text": [
      "100%|█| 391/391 [00:10<00:00, 36.44it/s, Epoch=171, Train_Loss=0.0147, LR=0.001]\n",
      "100%|█████| 40/40 [00:01<00:00, 33.74it/s, Epoch=171, Valid_Loss=0.342, Valid_Score=0.923, LR=0.001]\n"
     ]
    },
    {
     "name": "stdout",
     "output_type": "stream",
     "text": [
      "Valid score 0.9229\n",
      "\n"
     ]
    },
    {
     "name": "stderr",
     "output_type": "stream",
     "text": [
      "100%|█| 391/391 [00:11<00:00, 35.39it/s, Epoch=172, Train_Loss=0.0151, LR=0.001]\n",
      "100%|█████| 40/40 [00:00<00:00, 61.57it/s, Epoch=172, Valid_Loss=0.342, Valid_Score=0.923, LR=0.001]\n"
     ]
    },
    {
     "name": "stdout",
     "output_type": "stream",
     "text": [
      "Valid score 0.923\n",
      "\n"
     ]
    },
    {
     "name": "stderr",
     "output_type": "stream",
     "text": [
      "100%|█| 391/391 [00:09<00:00, 41.76it/s, Epoch=173, Train_Loss=0.0147, LR=0.001]\n",
      "100%|█████| 40/40 [00:00<00:00, 61.91it/s, Epoch=173, Valid_Loss=0.343, Valid_Score=0.922, LR=0.001]\n"
     ]
    },
    {
     "name": "stdout",
     "output_type": "stream",
     "text": [
      "Valid score 0.9219\n",
      "\n"
     ]
    },
    {
     "name": "stderr",
     "output_type": "stream",
     "text": [
      "100%|█| 391/391 [00:09<00:00, 41.85it/s, Epoch=174, Train_Loss=0.0145, LR=0.001]\n",
      "100%|█████| 40/40 [00:00<00:00, 60.05it/s, Epoch=174, Valid_Loss=0.343, Valid_Score=0.924, LR=0.001]"
     ]
    },
    {
     "name": "stdout",
     "output_type": "stream",
     "text": [
      "Valid score 0.9238\n",
      "\n"
     ]
    },
    {
     "name": "stderr",
     "output_type": "stream",
     "text": [
      "\n",
      "100%|█| 391/391 [00:09<00:00, 41.26it/s, Epoch=175, Train_Loss=0.0151, LR=0.001]\n",
      "100%|█████| 40/40 [00:00<00:00, 59.99it/s, Epoch=175, Valid_Loss=0.341, Valid_Score=0.922, LR=0.001]\n"
     ]
    },
    {
     "name": "stdout",
     "output_type": "stream",
     "text": [
      "Valid score 0.9224\n",
      "\n"
     ]
    },
    {
     "name": "stderr",
     "output_type": "stream",
     "text": [
      "100%|█| 391/391 [00:09<00:00, 41.36it/s, Epoch=176, Train_Loss=0.0148, LR=0.001]\n",
      "100%|█████| 40/40 [00:00<00:00, 61.09it/s, Epoch=176, Valid_Loss=0.345, Valid_Score=0.923, LR=0.001]"
     ]
    },
    {
     "name": "stdout",
     "output_type": "stream",
     "text": [
      "Valid score 0.9226\n",
      "\n"
     ]
    },
    {
     "name": "stderr",
     "output_type": "stream",
     "text": [
      "\n",
      "100%|█| 391/391 [00:09<00:00, 41.51it/s, Epoch=177, Train_Loss=0.0139, LR=0.001]\n",
      "100%|█████| 40/40 [00:00<00:00, 61.24it/s, Epoch=177, Valid_Loss=0.342, Valid_Score=0.923, LR=0.001]\n"
     ]
    },
    {
     "name": "stdout",
     "output_type": "stream",
     "text": [
      "Valid score 0.9232\n",
      "\n"
     ]
    },
    {
     "name": "stderr",
     "output_type": "stream",
     "text": [
      "100%|██| 391/391 [00:09<00:00, 43.42it/s, Epoch=178, Train_Loss=0.014, LR=0.001]\n",
      "100%|█████| 40/40 [00:00<00:00, 60.65it/s, Epoch=178, Valid_Loss=0.343, Valid_Score=0.923, LR=0.001]"
     ]
    },
    {
     "name": "stdout",
     "output_type": "stream",
     "text": [
      "Valid score 0.9227\n",
      "\n"
     ]
    },
    {
     "name": "stderr",
     "output_type": "stream",
     "text": [
      "\n",
      "100%|██| 391/391 [00:08<00:00, 44.01it/s, Epoch=179, Train_Loss=0.014, LR=0.001]\n",
      "100%|█████| 40/40 [00:00<00:00, 60.68it/s, Epoch=179, Valid_Loss=0.341, Valid_Score=0.923, LR=0.001]\n"
     ]
    },
    {
     "name": "stdout",
     "output_type": "stream",
     "text": [
      "Valid score 0.923\n",
      "\n"
     ]
    },
    {
     "name": "stderr",
     "output_type": "stream",
     "text": [
      "100%|█| 391/391 [00:09<00:00, 41.45it/s, Epoch=180, Train_Loss=0.0144, LR=0.001]\n",
      "100%|█████| 40/40 [00:00<00:00, 61.88it/s, Epoch=180, Valid_Loss=0.343, Valid_Score=0.923, LR=0.001]\n"
     ]
    },
    {
     "name": "stdout",
     "output_type": "stream",
     "text": [
      "Valid score 0.9234\n",
      "\n"
     ]
    },
    {
     "name": "stderr",
     "output_type": "stream",
     "text": [
      "100%|█| 391/391 [00:09<00:00, 42.84it/s, Epoch=181, Train_Loss=0.0132, LR=0.001]\n",
      "100%|█████| 40/40 [00:00<00:00, 61.66it/s, Epoch=181, Valid_Loss=0.341, Valid_Score=0.923, LR=0.001]\n"
     ]
    },
    {
     "name": "stdout",
     "output_type": "stream",
     "text": [
      "Valid score 0.9226\n",
      "\n"
     ]
    },
    {
     "name": "stderr",
     "output_type": "stream",
     "text": [
      "100%|█| 391/391 [00:09<00:00, 43.16it/s, Epoch=182, Train_Loss=0.0146, LR=0.001]\n",
      "100%|█████| 40/40 [00:00<00:00, 62.68it/s, Epoch=182, Valid_Loss=0.345, Valid_Score=0.924, LR=0.001]\n"
     ]
    },
    {
     "name": "stdout",
     "output_type": "stream",
     "text": [
      "Valid score 0.9236\n",
      "\n"
     ]
    },
    {
     "name": "stderr",
     "output_type": "stream",
     "text": [
      "100%|█| 391/391 [00:08<00:00, 43.57it/s, Epoch=183, Train_Loss=0.0144, LR=0.001]\n",
      "100%|█████| 40/40 [00:00<00:00, 61.56it/s, Epoch=183, Valid_Loss=0.346, Valid_Score=0.923, LR=0.001]\n"
     ]
    },
    {
     "name": "stdout",
     "output_type": "stream",
     "text": [
      "Valid score 0.9234\n",
      "\n"
     ]
    },
    {
     "name": "stderr",
     "output_type": "stream",
     "text": [
      "100%|█| 391/391 [00:09<00:00, 43.07it/s, Epoch=184, Train_Loss=0.0139, LR=0.001]\n",
      "100%|█████| 40/40 [00:00<00:00, 59.41it/s, Epoch=184, Valid_Loss=0.344, Valid_Score=0.923, LR=0.001]"
     ]
    },
    {
     "name": "stdout",
     "output_type": "stream",
     "text": [
      "Valid score 0.9226\n",
      "\n"
     ]
    },
    {
     "name": "stderr",
     "output_type": "stream",
     "text": [
      "\n",
      "100%|█| 391/391 [00:08<00:00, 43.99it/s, Epoch=185, Train_Loss=0.0146, LR=0.001]\n",
      "100%|█████| 40/40 [00:00<00:00, 61.85it/s, Epoch=185, Valid_Loss=0.343, Valid_Score=0.923, LR=0.001]\n"
     ]
    },
    {
     "name": "stdout",
     "output_type": "stream",
     "text": [
      "Valid score 0.9231\n",
      "\n"
     ]
    },
    {
     "name": "stderr",
     "output_type": "stream",
     "text": [
      "100%|█| 391/391 [00:09<00:00, 42.37it/s, Epoch=186, Train_Loss=0.0133, LR=0.001]\n",
      "100%|█████| 40/40 [00:00<00:00, 60.60it/s, Epoch=186, Valid_Loss=0.346, Valid_Score=0.924, LR=0.001]"
     ]
    },
    {
     "name": "stdout",
     "output_type": "stream",
     "text": [
      "Valid score 0.9243\n",
      "\n"
     ]
    },
    {
     "name": "stderr",
     "output_type": "stream",
     "text": [
      "\n",
      "100%|█| 391/391 [00:09<00:00, 42.86it/s, Epoch=187, Train_Loss=0.0133, LR=0.001]\n",
      "100%|█████| 40/40 [00:00<00:00, 61.66it/s, Epoch=187, Valid_Loss=0.346, Valid_Score=0.923, LR=0.001]"
     ]
    },
    {
     "name": "stdout",
     "output_type": "stream",
     "text": [
      "Valid score 0.9226\n",
      "\n"
     ]
    },
    {
     "name": "stderr",
     "output_type": "stream",
     "text": [
      "\n",
      "100%|█| 391/391 [00:09<00:00, 43.16it/s, Epoch=188, Train_Loss=0.0139, LR=0.001]\n",
      "100%|█████| 40/40 [00:00<00:00, 61.72it/s, Epoch=188, Valid_Loss=0.344, Valid_Score=0.923, LR=0.001]\n"
     ]
    },
    {
     "name": "stdout",
     "output_type": "stream",
     "text": [
      "Valid score 0.9231\n",
      "\n"
     ]
    },
    {
     "name": "stderr",
     "output_type": "stream",
     "text": [
      "100%|█| 391/391 [00:08<00:00, 43.48it/s, Epoch=189, Train_Loss=0.0136, LR=0.001]\n",
      "100%|█████| 40/40 [00:00<00:00, 59.46it/s, Epoch=189, Valid_Loss=0.347, Valid_Score=0.924, LR=0.001]\n"
     ]
    },
    {
     "name": "stdout",
     "output_type": "stream",
     "text": [
      "Valid score 0.9239\n",
      "\n"
     ]
    },
    {
     "name": "stderr",
     "output_type": "stream",
     "text": [
      "100%|█| 391/391 [00:09<00:00, 43.31it/s, Epoch=190, Train_Loss=0.0133, LR=0.001]\n",
      "100%|█████| 40/40 [00:00<00:00, 60.64it/s, Epoch=190, Valid_Loss=0.343, Valid_Score=0.923, LR=0.001]\n"
     ]
    },
    {
     "name": "stdout",
     "output_type": "stream",
     "text": [
      "Valid score 0.9233\n",
      "\n"
     ]
    },
    {
     "name": "stderr",
     "output_type": "stream",
     "text": [
      "100%|█| 391/391 [00:08<00:00, 43.45it/s, Epoch=191, Train_Loss=0.0144, LR=0.001]\n",
      "100%|█████| 40/40 [00:00<00:00, 59.81it/s, Epoch=191, Valid_Loss=0.349, Valid_Score=0.924, LR=0.001]\n"
     ]
    },
    {
     "name": "stdout",
     "output_type": "stream",
     "text": [
      "Valid score 0.9243\n",
      "\n"
     ]
    },
    {
     "name": "stderr",
     "output_type": "stream",
     "text": [
      "100%|██| 391/391 [00:08<00:00, 43.55it/s, Epoch=192, Train_Loss=0.013, LR=0.001]\n",
      "100%|█████| 40/40 [00:00<00:00, 59.62it/s, Epoch=192, Valid_Loss=0.343, Valid_Score=0.924, LR=0.001]\n"
     ]
    },
    {
     "name": "stdout",
     "output_type": "stream",
     "text": [
      "Valid score 0.9238\n",
      "\n"
     ]
    },
    {
     "name": "stderr",
     "output_type": "stream",
     "text": [
      "100%|█| 391/391 [00:09<00:00, 43.13it/s, Epoch=193, Train_Loss=0.0133, LR=0.001]\n",
      "100%|█████| 40/40 [00:00<00:00, 61.07it/s, Epoch=193, Valid_Loss=0.347, Valid_Score=0.923, LR=0.001]"
     ]
    },
    {
     "name": "stdout",
     "output_type": "stream",
     "text": [
      "Valid score 0.9232\n",
      "\n"
     ]
    },
    {
     "name": "stderr",
     "output_type": "stream",
     "text": [
      "\n",
      "100%|█| 391/391 [00:09<00:00, 43.12it/s, Epoch=194, Train_Loss=0.0128, LR=0.001]\n",
      "100%|█████| 40/40 [00:00<00:00, 62.77it/s, Epoch=194, Valid_Loss=0.348, Valid_Score=0.922, LR=0.001]\n"
     ]
    },
    {
     "name": "stdout",
     "output_type": "stream",
     "text": [
      "Valid score 0.9224\n",
      "\n"
     ]
    },
    {
     "name": "stderr",
     "output_type": "stream",
     "text": [
      "100%|█| 391/391 [00:09<00:00, 42.23it/s, Epoch=195, Train_Loss=0.0137, LR=0.001]\n",
      "100%|█████| 40/40 [00:00<00:00, 60.66it/s, Epoch=195, Valid_Loss=0.348, Valid_Score=0.923, LR=0.001]\n"
     ]
    },
    {
     "name": "stdout",
     "output_type": "stream",
     "text": [
      "Valid score 0.9234\n",
      "\n"
     ]
    },
    {
     "name": "stderr",
     "output_type": "stream",
     "text": [
      "100%|█| 391/391 [00:09<00:00, 41.22it/s, Epoch=196, Train_Loss=0.0137, LR=0.001]\n",
      "100%|█████| 40/40 [00:00<00:00, 59.30it/s, Epoch=196, Valid_Loss=0.349, Valid_Score=0.923, LR=0.001]\n"
     ]
    },
    {
     "name": "stdout",
     "output_type": "stream",
     "text": [
      "Valid score 0.9234\n",
      "\n"
     ]
    },
    {
     "name": "stderr",
     "output_type": "stream",
     "text": [
      "100%|█| 391/391 [00:09<00:00, 42.18it/s, Epoch=197, Train_Loss=0.0138, LR=0.001]\n",
      "100%|█████| 40/40 [00:00<00:00, 61.06it/s, Epoch=197, Valid_Loss=0.348, Valid_Score=0.923, LR=0.001]\n"
     ]
    },
    {
     "name": "stdout",
     "output_type": "stream",
     "text": [
      "Valid score 0.923\n",
      "\n"
     ]
    },
    {
     "name": "stderr",
     "output_type": "stream",
     "text": [
      "100%|█| 391/391 [00:09<00:00, 42.22it/s, Epoch=198, Train_Loss=0.0141, LR=0.001]\n",
      "100%|█████| 40/40 [00:00<00:00, 59.91it/s, Epoch=198, Valid_Loss=0.347, Valid_Score=0.922, LR=0.001]\n"
     ]
    },
    {
     "name": "stdout",
     "output_type": "stream",
     "text": [
      "Valid score 0.922\n",
      "\n"
     ]
    },
    {
     "name": "stderr",
     "output_type": "stream",
     "text": [
      "100%|█| 391/391 [00:09<00:00, 42.45it/s, Epoch=199, Train_Loss=0.0137, LR=0.001]\n",
      "100%|█████| 40/40 [00:00<00:00, 60.46it/s, Epoch=199, Valid_Loss=0.347, Valid_Score=0.922, LR=0.001]\n"
     ]
    },
    {
     "name": "stdout",
     "output_type": "stream",
     "text": [
      "Valid score 0.9218\n",
      "\n"
     ]
    },
    {
     "name": "stderr",
     "output_type": "stream",
     "text": [
      "100%|█| 391/391 [00:08<00:00, 43.47it/s, Epoch=200, Train_Loss=0.0131, LR=0.001]\n",
      "100%|█████| 40/40 [00:00<00:00, 61.06it/s, Epoch=200, Valid_Loss=0.347, Valid_Score=0.923, LR=0.001]\n"
     ]
    },
    {
     "name": "stdout",
     "output_type": "stream",
     "text": [
      "Valid score 0.9231\n",
      "\n",
      "Training complete in 0h 33m 17s\n",
      "Best Loss: 0.2653\n",
      "\n"
     ]
    }
   ],
   "source": [
    "# Create Dataloaders\n",
    "train_loader, valid_loader = prepare_loaders()\n",
    "    \n",
    "model = resnet20()\n",
    "model.to(CONFIG['device'])\n",
    "    \n",
    "# Определим Optimizer и Scheduler\n",
    "    \n",
    "optimizer = optim.SGD(model.parameters(), lr=CONFIG[\"learning_rate\"], momentum=CONFIG[\"momentum\"], weight_decay=CONFIG[\"weight_decay\"])\n",
    "scheduler = optim.lr_scheduler.MultiStepLR(optimizer, milestones=CONFIG[\"milestones\"])\n",
    "    \n",
    "model, history = run_training(model, optimizer, scheduler,\n",
    "                                  device=CONFIG['device'],\n",
    "                                  num_epochs=CONFIG['epochs'])\n",
    "    \n",
    "    \n",
    "del model, history, train_loader, valid_loader\n",
    "_ = gc.collect()\n",
    "print()\n",
    "    "
   ]
  }
 ],
 "metadata": {
  "kernelspec": {
   "display_name": "Python 3 (ipykernel)",
   "language": "python",
   "name": "python3"
  },
  "language_info": {
   "codemirror_mode": {
    "name": "ipython",
    "version": 3
   },
   "file_extension": ".py",
   "mimetype": "text/x-python",
   "name": "python",
   "nbconvert_exporter": "python",
   "pygments_lexer": "ipython3",
   "version": "3.8.10"
  }
 },
 "nbformat": 4,
 "nbformat_minor": 5
}
