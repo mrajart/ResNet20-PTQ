{
 "cells": [
  {
   "cell_type": "code",
   "execution_count": 1,
   "id": "4af924ed",
   "metadata": {},
   "outputs": [],
   "source": [
    "import os\n",
    "import copy\n",
    "import time\n",
    "import random\n",
    "import string\n",
    "import gc\n",
    "\n",
    "# For data manipulation\n",
    "import numpy as np\n",
    "import pandas as pd\n",
    "import matplotlib.pyplot as plt\n",
    "\n",
    "# Pytorch Imports\n",
    "import torch\n",
    "import torch.nn as nn\n",
    "import torch.nn.functional as F\n",
    "import torch.nn.init as init\n",
    "from torch.utils.data import Dataset, DataLoader\n",
    "import torchvision\n",
    "import torchvision.transforms as transforms\n",
    "import torch.optim as optim\n",
    "\n",
    "# Utils\n",
    "from tqdm import tqdm\n",
    "from collections import defaultdict\n",
    "\n",
    "# Model Import\n",
    "from ResNet20 import resnet20"
   ]
  },
  {
   "cell_type": "code",
   "execution_count": 2,
   "id": "81298321",
   "metadata": {},
   "outputs": [],
   "source": [
    "CONFIG = {\"seed\": 42,\n",
    "          \"epochs\": 200,\n",
    "          \"milestones\":[100, 150],\n",
    "          \"train_batch_size\": 128,\n",
    "          \"valid_batch_size\": 256,\n",
    "          \"learning_rate\": 0.1,\n",
    "          \"momentum\": 0.9,\n",
    "          \"weight_decay\": 1e-4,\n",
    "          \"num_classes\": 10,\n",
    "          \"device\": torch.device(\"cuda:0\" if torch.cuda.is_available() else \"cpu\"),\n",
    "          }"
   ]
  },
  {
   "cell_type": "code",
   "execution_count": 3,
   "id": "5e523ef0",
   "metadata": {},
   "outputs": [],
   "source": [
    "def set_seed(seed=42):\n",
    "    '''Sets the seed of the entire notebook so results are the same every time we run.\n",
    "    This is for REPRODUCIBILITY.'''\n",
    "    np.random.seed(seed)\n",
    "    torch.manual_seed(seed)\n",
    "    torch.cuda.manual_seed(seed)\n",
    "    # When running on the CuDNN backend, two further options must be set\n",
    "    torch.backends.cudnn.deterministic = True\n",
    "    torch.backends.cudnn.benchmark = False\n",
    "    # Set a fixed value for the hash seed\n",
    "    os.environ['PYTHONHASHSEED'] = str(seed)\n",
    "    \n",
    "set_seed(CONFIG['seed'])"
   ]
  },
  {
   "cell_type": "code",
   "execution_count": 4,
   "id": "cf8b606e",
   "metadata": {},
   "outputs": [
    {
     "data": {
      "text/plain": [
       "\"def imshow(img):\\n    img = img / 2 + 0.5     # unnormalize\\n    npimg = img.numpy()\\n    plt.imshow(np.transpose(npimg, (1, 2, 0)))\\n    plt.show()\\n\\nclasses = ('plane', 'car', 'bird', 'cat',\\n           'deer', 'dog', 'frog', 'horse', 'ship', 'truck')\\n\\n# get some random training images\\ndataiter = iter(trainloader)\\nimages, labels = dataiter.next()\\n\\n# show images\\nimshow(torchvision.utils.make_grid(images))\\n# print labels\\nprint(' '.join(f'{classes[labels[j]]:5s}' for j in range(CONFIG['train_batch_size'])))\""
      ]
     },
     "execution_count": 4,
     "metadata": {},
     "output_type": "execute_result"
    }
   ],
   "source": [
    "'''def imshow(img):\n",
    "    img = img / 2 + 0.5     # unnormalize\n",
    "    npimg = img.numpy()\n",
    "    plt.imshow(np.transpose(npimg, (1, 2, 0)))\n",
    "    plt.show()\n",
    "\n",
    "classes = ('plane', 'car', 'bird', 'cat',\n",
    "           'deer', 'dog', 'frog', 'horse', 'ship', 'truck')\n",
    "\n",
    "# get some random training images\n",
    "dataiter = iter(trainloader)\n",
    "images, labels = dataiter.next()\n",
    "\n",
    "# show images\n",
    "imshow(torchvision.utils.make_grid(images))\n",
    "# print labels\n",
    "print(' '.join(f'{classes[labels[j]]:5s}' for j in range(CONFIG['train_batch_size'])))'''"
   ]
  },
  {
   "cell_type": "code",
   "execution_count": 5,
   "id": "762c9830",
   "metadata": {},
   "outputs": [],
   "source": [
    "def criterion(outputs, labels):\n",
    "    loss = nn.CrossEntropyLoss()\n",
    "    return loss(outputs, labels)"
   ]
  },
  {
   "cell_type": "code",
   "execution_count": 6,
   "id": "0418406b",
   "metadata": {},
   "outputs": [],
   "source": [
    "def train_one_epoch(model, optimizer, dataloader, device, epoch):\n",
    "    model.train()\n",
    "    \n",
    "    dataset_size = 0\n",
    "    running_loss = 0.0\n",
    "    \n",
    "    bar = tqdm(enumerate(dataloader), total=len(dataloader))\n",
    "    for step, data in bar:\n",
    "        \n",
    "        inputs, targets = data\n",
    "        inputs = inputs.to(device)\n",
    "        targets = targets.to(device)\n",
    "            \n",
    "        # рачсет вывода\n",
    "        output = model(inputs)\n",
    "        loss = criterion(output, targets)\n",
    "\n",
    "        # расчет градиента\n",
    "        optimizer.zero_grad()\n",
    "        loss.backward()\n",
    "        optimizer.step()\n",
    "        \n",
    "        batch_size = inputs.size(0) \n",
    " \n",
    "        running_loss += (loss.item() * batch_size)\n",
    "        dataset_size += batch_size\n",
    "\n",
    "        epoch_loss = running_loss / dataset_size\n",
    "\n",
    "        bar.set_postfix({'Epoch':epoch, 'Train_Loss':epoch_loss,\n",
    "                            'LR':optimizer.param_groups[0]['lr']})\n",
    "    gc.collect()\n",
    "    return epoch_loss#, epoch_score\n"
   ]
  },
  {
   "cell_type": "code",
   "execution_count": 7,
   "id": "29de9e52",
   "metadata": {},
   "outputs": [],
   "source": [
    "@torch.no_grad()\n",
    "def valid_one_epoch(model, dataloader, device, epoch):\n",
    "    model.eval()\n",
    "    \n",
    "    dataset_size = 0\n",
    "    running_loss = 0.0\n",
    "    correct = 0.0\n",
    "    \n",
    "    bar = tqdm(enumerate(dataloader), total=len(dataloader), ncols=100)\n",
    "    for step, data in bar:        \n",
    "        inputs, targets = data\n",
    "        inputs = inputs.to(device)\n",
    "        targets = targets.to(device)\n",
    "            \n",
    "        # рачсет вывода\n",
    "        output = model(inputs)\n",
    "        loss = criterion(output, targets)\n",
    "        \n",
    "        _, preds = output.max(1)\n",
    "        correct += preds.eq(targets).sum()\n",
    "\n",
    "        batch_size = inputs.size(0)\n",
    "        \n",
    "        running_loss += (loss.item() * batch_size)\n",
    "        dataset_size += batch_size\n",
    "        \n",
    "        epoch_loss = running_loss / dataset_size\n",
    "        \n",
    "        epoch_score = correct.cpu().detach().numpy() / dataset_size\n",
    "        \n",
    "        bar.set_postfix({'Epoch':epoch, 'Valid_Loss':epoch_loss, 'Valid_Score':epoch_score, \n",
    "                        'LR':optimizer.param_groups[0]['lr']})   \n",
    "    \n",
    "    gc.collect()\n",
    "    return epoch_loss, epoch_score"
   ]
  },
  {
   "cell_type": "code",
   "execution_count": 8,
   "id": "6885c1fd",
   "metadata": {},
   "outputs": [],
   "source": [
    "def run_training(model, optimizer, scheduler, device, num_epochs):\n",
    "    \n",
    "    if torch.cuda.is_available():\n",
    "        print(\"[INFO] Using GPU: {}\\n\".format(torch.cuda.get_device_name()))\n",
    "    \n",
    "    start = time.time()\n",
    "    best_model_wts = copy.deepcopy(model.state_dict())\n",
    "    best_epoch_loss = np.inf\n",
    "    history = defaultdict(list)\n",
    "    \n",
    "    \n",
    "    for epoch in range(1, num_epochs + 1): \n",
    "        gc.collect()\n",
    "        train_epoch_loss = train_one_epoch(model, optimizer, \n",
    "                                           dataloader=train_loader, \n",
    "                                           device=CONFIG['device'], epoch=epoch)\n",
    "        \n",
    "        scheduler.step()\n",
    "        \n",
    "        val_epoch_loss, val_epoch_score = valid_one_epoch(model, valid_loader, device=CONFIG['device'], \n",
    "                                         epoch=epoch)\n",
    "    \n",
    "        history['Train Loss'].append(train_epoch_loss)\n",
    "        history['Valid Loss'].append(val_epoch_loss)\n",
    "        history['Valid Score'].append(val_epoch_score)\n",
    "        \n",
    "        print(f\"Valid score {val_epoch_score}\")\n",
    "        \n",
    "        # deep copy the model\n",
    "        if val_epoch_loss <= best_epoch_loss:\n",
    "            print(f\"Validation Loss Improved ({best_epoch_loss} ---> {val_epoch_loss})\")\n",
    "            best_epoch_loss = val_epoch_loss\n",
    "            history[\"Best Loss\"].append(best_epoch_loss)\n",
    "            best_model_wts = copy.deepcopy(model.state_dict())\n",
    "            PATH = f\"ResNet20.bin\"\n",
    "            torch.save(model.state_dict(), PATH)\n",
    "            # Save a model file from the current directory\n",
    "            print(f\"Model Saved\")\n",
    "\n",
    "            \n",
    "        print()\n",
    "    \n",
    "    end = time.time()\n",
    "    time_elapsed = end - start\n",
    "    print('Training complete in {:.0f}h {:.0f}m {:.0f}s'.format(\n",
    "        time_elapsed // 3600, (time_elapsed % 3600) // 60, (time_elapsed % 3600) % 60))\n",
    "    print(\"Best Loss: {:.4f}\".format(best_epoch_loss))\n",
    "    \n",
    "    # load best model weights\n",
    "    model.load_state_dict(best_model_wts)\n",
    "    \n",
    "    return model, history"
   ]
  },
  {
   "cell_type": "code",
   "execution_count": 9,
   "id": "7bc2290d",
   "metadata": {},
   "outputs": [],
   "source": [
    "def prepare_loaders():\n",
    "\n",
    "    train_loader = torch.utils.data.DataLoader(\n",
    "        torchvision.datasets.CIFAR10(root='./data', train=True, transform=transforms.Compose([\n",
    "            transforms.Pad(4),\n",
    "            transforms.RandomCrop(32),\n",
    "            transforms.RandomHorizontalFlip(),\n",
    "            transforms.ToTensor(),\n",
    "            transforms.Normalize((0.5, 0.5, 0.5), (0.5, 0.5, 0.5))\n",
    "        ]), download=True),\n",
    "        batch_size=CONFIG['train_batch_size'], shuffle=True,\n",
    "        num_workers=2, pin_memory=True)\n",
    "\n",
    "    valid_loader = torch.utils.data.DataLoader(\n",
    "        torchvision.datasets.CIFAR10(root='./data', train=False, transform=transforms.Compose([\n",
    "            transforms.ToTensor(),\n",
    "            transforms.Normalize((0.5, 0.5, 0.5), (0.5, 0.5, 0.5))\n",
    "        ])),\n",
    "        batch_size=CONFIG['valid_batch_size'], shuffle=False,\n",
    "        num_workers=2, pin_memory=True)\n",
    "    \n",
    "    return train_loader, valid_loader"
   ]
  },
  {
   "cell_type": "code",
   "execution_count": 10,
   "id": "755a5b8e",
   "metadata": {},
   "outputs": [
    {
     "name": "stdout",
     "output_type": "stream",
     "text": [
      "Files already downloaded and verified\n",
      "[INFO] Using GPU: NVIDIA GeForce RTX 2080\n",
      "\n"
     ]
    },
    {
     "name": "stderr",
     "output_type": "stream",
     "text": [
      "100%|████████| 391/391 [00:08<00:00, 45.48it/s, Epoch=1, Train_Loss=1.7, LR=0.1]\n",
      "100%|██████████| 40/40 [00:00<00:00, 59.34it/s, Epoch=1, Valid_Loss=1.51, Valid_Score=0.472, LR=0.1]\n"
     ]
    },
    {
     "name": "stdout",
     "output_type": "stream",
     "text": [
      "Valid score 0.4723\n",
      "Validation Loss Improved (inf ---> 1.5057309547424316)\n",
      "Model Saved\n",
      "\n"
     ]
    },
    {
     "name": "stderr",
     "output_type": "stream",
     "text": [
      "100%|███████| 391/391 [00:08<00:00, 45.81it/s, Epoch=2, Train_Loss=1.21, LR=0.1]\n",
      "100%|██████████| 40/40 [00:00<00:00, 59.48it/s, Epoch=2, Valid_Loss=1.27, Valid_Score=0.568, LR=0.1]\n"
     ]
    },
    {
     "name": "stdout",
     "output_type": "stream",
     "text": [
      "Valid score 0.5677\n",
      "Validation Loss Improved (1.5057309547424316 ---> 1.2724164682388306)\n",
      "Model Saved\n",
      "\n"
     ]
    },
    {
     "name": "stderr",
     "output_type": "stream",
     "text": [
      "100%|██████| 391/391 [00:08<00:00, 45.98it/s, Epoch=3, Train_Loss=0.934, LR=0.1]\n",
      "100%|███████████| 40/40 [00:00<00:00, 58.86it/s, Epoch=3, Valid_Loss=1.05, Valid_Score=0.64, LR=0.1]\n"
     ]
    },
    {
     "name": "stdout",
     "output_type": "stream",
     "text": [
      "Valid score 0.6396\n",
      "Validation Loss Improved (1.2724164682388306 ---> 1.0536663544654845)\n",
      "Model Saved\n",
      "\n"
     ]
    },
    {
     "name": "stderr",
     "output_type": "stream",
     "text": [
      "100%|██████| 391/391 [00:08<00:00, 45.17it/s, Epoch=4, Train_Loss=0.773, LR=0.1]\n",
      "100%|██████████| 40/40 [00:00<00:00, 59.71it/s, Epoch=4, Valid_Loss=1.04, Valid_Score=0.679, LR=0.1]\n"
     ]
    },
    {
     "name": "stdout",
     "output_type": "stream",
     "text": [
      "Valid score 0.6792\n",
      "Validation Loss Improved (1.0536663544654845 ---> 1.0393173429489135)\n",
      "Model Saved\n",
      "\n"
     ]
    },
    {
     "name": "stderr",
     "output_type": "stream",
     "text": [
      "100%|██████| 391/391 [00:08<00:00, 44.51it/s, Epoch=5, Train_Loss=0.682, LR=0.1]\n",
      "100%|█████████| 40/40 [00:00<00:00, 59.86it/s, Epoch=5, Valid_Loss=0.915, Valid_Score=0.705, LR=0.1]\n"
     ]
    },
    {
     "name": "stdout",
     "output_type": "stream",
     "text": [
      "Valid score 0.7045\n",
      "Validation Loss Improved (1.0393173429489135 ---> 0.9149917471885681)\n",
      "Model Saved\n",
      "\n"
     ]
    },
    {
     "name": "stderr",
     "output_type": "stream",
     "text": [
      "100%|██████| 391/391 [00:08<00:00, 44.01it/s, Epoch=6, Train_Loss=0.623, LR=0.1]\n",
      "100%|█████████| 40/40 [00:00<00:00, 58.96it/s, Epoch=6, Valid_Loss=0.711, Valid_Score=0.766, LR=0.1]\n"
     ]
    },
    {
     "name": "stdout",
     "output_type": "stream",
     "text": [
      "Valid score 0.766\n",
      "Validation Loss Improved (0.9149917471885681 ---> 0.7109862282752991)\n",
      "Model Saved\n",
      "\n"
     ]
    },
    {
     "name": "stderr",
     "output_type": "stream",
     "text": [
      "100%|██████| 391/391 [00:08<00:00, 44.35it/s, Epoch=7, Train_Loss=0.583, LR=0.1]\n",
      "100%|█████████| 40/40 [00:00<00:00, 57.69it/s, Epoch=7, Valid_Loss=0.765, Valid_Score=0.747, LR=0.1]\n"
     ]
    },
    {
     "name": "stdout",
     "output_type": "stream",
     "text": [
      "Valid score 0.7467\n",
      "\n"
     ]
    },
    {
     "name": "stderr",
     "output_type": "stream",
     "text": [
      "100%|██████| 391/391 [00:08<00:00, 43.89it/s, Epoch=8, Train_Loss=0.546, LR=0.1]\n",
      "100%|███████████| 40/40 [00:00<00:00, 57.95it/s, Epoch=8, Valid_Loss=0.7, Valid_Score=0.759, LR=0.1]\n"
     ]
    },
    {
     "name": "stdout",
     "output_type": "stream",
     "text": [
      "Valid score 0.7591\n",
      "Validation Loss Improved (0.7109862282752991 ---> 0.6999843832015992)\n",
      "Model Saved\n",
      "\n"
     ]
    },
    {
     "name": "stderr",
     "output_type": "stream",
     "text": [
      "100%|██████| 391/391 [00:08<00:00, 44.10it/s, Epoch=9, Train_Loss=0.509, LR=0.1]\n",
      "100%|█████████| 40/40 [00:00<00:00, 58.73it/s, Epoch=9, Valid_Loss=0.731, Valid_Score=0.778, LR=0.1]\n"
     ]
    },
    {
     "name": "stdout",
     "output_type": "stream",
     "text": [
      "Valid score 0.7784\n",
      "\n"
     ]
    },
    {
     "name": "stderr",
     "output_type": "stream",
     "text": [
      "100%|█████| 391/391 [00:08<00:00, 44.19it/s, Epoch=10, Train_Loss=0.494, LR=0.1]\n",
      "100%|████████| 40/40 [00:00<00:00, 57.95it/s, Epoch=10, Valid_Loss=0.768, Valid_Score=0.757, LR=0.1]\n"
     ]
    },
    {
     "name": "stdout",
     "output_type": "stream",
     "text": [
      "Valid score 0.7575\n",
      "\n"
     ]
    },
    {
     "name": "stderr",
     "output_type": "stream",
     "text": [
      "100%|█████| 391/391 [00:08<00:00, 43.67it/s, Epoch=11, Train_Loss=0.471, LR=0.1]\n",
      "100%|████████| 40/40 [00:00<00:00, 55.45it/s, Epoch=11, Valid_Loss=0.702, Valid_Score=0.767, LR=0.1]\n"
     ]
    },
    {
     "name": "stdout",
     "output_type": "stream",
     "text": [
      "Valid score 0.767\n",
      "\n"
     ]
    },
    {
     "name": "stderr",
     "output_type": "stream",
     "text": [
      "100%|█████| 391/391 [00:08<00:00, 44.22it/s, Epoch=12, Train_Loss=0.453, LR=0.1]\n",
      "100%|████████| 40/40 [00:00<00:00, 59.17it/s, Epoch=12, Valid_Loss=0.511, Valid_Score=0.829, LR=0.1]\n"
     ]
    },
    {
     "name": "stdout",
     "output_type": "stream",
     "text": [
      "Valid score 0.8288\n",
      "Validation Loss Improved (0.6999843832015992 ---> 0.5109677426338196)\n",
      "Model Saved\n",
      "\n"
     ]
    },
    {
     "name": "stderr",
     "output_type": "stream",
     "text": [
      "100%|██████| 391/391 [00:08<00:00, 44.26it/s, Epoch=13, Train_Loss=0.44, LR=0.1]\n",
      "100%|████████| 40/40 [00:00<00:00, 59.03it/s, Epoch=13, Valid_Loss=0.671, Valid_Score=0.794, LR=0.1]\n"
     ]
    },
    {
     "name": "stdout",
     "output_type": "stream",
     "text": [
      "Valid score 0.7941\n",
      "\n"
     ]
    },
    {
     "name": "stderr",
     "output_type": "stream",
     "text": [
      "100%|█████| 391/391 [00:08<00:00, 43.82it/s, Epoch=14, Train_Loss=0.427, LR=0.1]\n",
      "100%|████████| 40/40 [00:00<00:00, 57.23it/s, Epoch=14, Valid_Loss=0.574, Valid_Score=0.816, LR=0.1]\n"
     ]
    },
    {
     "name": "stdout",
     "output_type": "stream",
     "text": [
      "Valid score 0.8162\n",
      "\n"
     ]
    },
    {
     "name": "stderr",
     "output_type": "stream",
     "text": [
      "100%|█████| 391/391 [00:08<00:00, 43.95it/s, Epoch=15, Train_Loss=0.416, LR=0.1]\n",
      "100%|████████| 40/40 [00:00<00:00, 58.65it/s, Epoch=15, Valid_Loss=0.452, Valid_Score=0.848, LR=0.1]\n"
     ]
    },
    {
     "name": "stdout",
     "output_type": "stream",
     "text": [
      "Valid score 0.8481\n",
      "Validation Loss Improved (0.5109677426338196 ---> 0.4520592555046082)\n",
      "Model Saved\n",
      "\n"
     ]
    },
    {
     "name": "stderr",
     "output_type": "stream",
     "text": [
      "100%|█████| 391/391 [00:08<00:00, 43.91it/s, Epoch=16, Train_Loss=0.396, LR=0.1]\n",
      "100%|████████| 40/40 [00:00<00:00, 58.12it/s, Epoch=16, Valid_Loss=0.569, Valid_Score=0.816, LR=0.1]\n"
     ]
    },
    {
     "name": "stdout",
     "output_type": "stream",
     "text": [
      "Valid score 0.8156\n",
      "\n"
     ]
    },
    {
     "name": "stderr",
     "output_type": "stream",
     "text": [
      "100%|█████| 391/391 [00:09<00:00, 43.21it/s, Epoch=17, Train_Loss=0.391, LR=0.1]\n",
      "100%|████████| 40/40 [00:00<00:00, 56.29it/s, Epoch=17, Valid_Loss=0.476, Valid_Score=0.845, LR=0.1]\n"
     ]
    },
    {
     "name": "stdout",
     "output_type": "stream",
     "text": [
      "Valid score 0.8453\n",
      "\n"
     ]
    },
    {
     "name": "stderr",
     "output_type": "stream",
     "text": [
      "100%|█████| 391/391 [00:08<00:00, 43.55it/s, Epoch=18, Train_Loss=0.383, LR=0.1]\n",
      "100%|████████| 40/40 [00:00<00:00, 58.88it/s, Epoch=18, Valid_Loss=0.584, Valid_Score=0.815, LR=0.1]\n"
     ]
    },
    {
     "name": "stdout",
     "output_type": "stream",
     "text": [
      "Valid score 0.8153\n",
      "\n"
     ]
    },
    {
     "name": "stderr",
     "output_type": "stream",
     "text": [
      "100%|█████| 391/391 [00:08<00:00, 43.85it/s, Epoch=19, Train_Loss=0.375, LR=0.1]\n",
      "100%|█████████| 40/40 [00:00<00:00, 59.17it/s, Epoch=19, Valid_Loss=0.541, Valid_Score=0.83, LR=0.1]\n"
     ]
    },
    {
     "name": "stdout",
     "output_type": "stream",
     "text": [
      "Valid score 0.8301\n",
      "\n"
     ]
    },
    {
     "name": "stderr",
     "output_type": "stream",
     "text": [
      "100%|█████| 391/391 [00:08<00:00, 45.32it/s, Epoch=20, Train_Loss=0.367, LR=0.1]\n",
      "100%|████████| 40/40 [00:00<00:00, 56.75it/s, Epoch=20, Valid_Loss=0.498, Valid_Score=0.837, LR=0.1]"
     ]
    },
    {
     "name": "stdout",
     "output_type": "stream",
     "text": [
      "Valid score 0.8374\n",
      "\n"
     ]
    },
    {
     "name": "stderr",
     "output_type": "stream",
     "text": [
      "\n",
      "100%|█████| 391/391 [00:08<00:00, 45.65it/s, Epoch=21, Train_Loss=0.357, LR=0.1]\n",
      "100%|████████| 40/40 [00:00<00:00, 58.41it/s, Epoch=21, Valid_Loss=0.515, Valid_Score=0.834, LR=0.1]\n"
     ]
    },
    {
     "name": "stdout",
     "output_type": "stream",
     "text": [
      "Valid score 0.8338\n",
      "\n"
     ]
    },
    {
     "name": "stderr",
     "output_type": "stream",
     "text": [
      "100%|██████| 391/391 [00:08<00:00, 44.84it/s, Epoch=22, Train_Loss=0.35, LR=0.1]\n",
      "100%|████████| 40/40 [00:00<00:00, 58.49it/s, Epoch=22, Valid_Loss=0.603, Valid_Score=0.815, LR=0.1]\n"
     ]
    },
    {
     "name": "stdout",
     "output_type": "stream",
     "text": [
      "Valid score 0.8154\n",
      "\n"
     ]
    },
    {
     "name": "stderr",
     "output_type": "stream",
     "text": [
      "100%|█████| 391/391 [00:08<00:00, 44.14it/s, Epoch=23, Train_Loss=0.348, LR=0.1]\n",
      "100%|████████| 40/40 [00:00<00:00, 57.18it/s, Epoch=23, Valid_Loss=0.492, Valid_Score=0.844, LR=0.1]\n"
     ]
    },
    {
     "name": "stdout",
     "output_type": "stream",
     "text": [
      "Valid score 0.8437\n",
      "\n"
     ]
    },
    {
     "name": "stderr",
     "output_type": "stream",
     "text": [
      "100%|█████| 391/391 [00:08<00:00, 46.70it/s, Epoch=24, Train_Loss=0.339, LR=0.1]\n",
      "100%|████████| 40/40 [00:00<00:00, 56.99it/s, Epoch=24, Valid_Loss=0.531, Valid_Score=0.829, LR=0.1]"
     ]
    },
    {
     "name": "stdout",
     "output_type": "stream",
     "text": [
      "Valid score 0.8294\n",
      "\n"
     ]
    },
    {
     "name": "stderr",
     "output_type": "stream",
     "text": [
      "\n",
      "100%|█████| 391/391 [00:08<00:00, 45.67it/s, Epoch=25, Train_Loss=0.338, LR=0.1]\n",
      "100%|████████| 40/40 [00:00<00:00, 58.00it/s, Epoch=25, Valid_Loss=0.626, Valid_Score=0.805, LR=0.1]\n"
     ]
    },
    {
     "name": "stdout",
     "output_type": "stream",
     "text": [
      "Valid score 0.8047\n",
      "\n"
     ]
    },
    {
     "name": "stderr",
     "output_type": "stream",
     "text": [
      "100%|██████| 391/391 [00:08<00:00, 46.43it/s, Epoch=26, Train_Loss=0.33, LR=0.1]\n",
      "100%|█████████| 40/40 [00:00<00:00, 59.53it/s, Epoch=26, Valid_Loss=0.47, Valid_Score=0.847, LR=0.1]\n"
     ]
    },
    {
     "name": "stdout",
     "output_type": "stream",
     "text": [
      "Valid score 0.8473\n",
      "\n"
     ]
    },
    {
     "name": "stderr",
     "output_type": "stream",
     "text": [
      "100%|█████| 391/391 [00:08<00:00, 46.61it/s, Epoch=27, Train_Loss=0.327, LR=0.1]\n",
      "100%|████████| 40/40 [00:00<00:00, 58.51it/s, Epoch=27, Valid_Loss=0.466, Valid_Score=0.848, LR=0.1]\n"
     ]
    },
    {
     "name": "stdout",
     "output_type": "stream",
     "text": [
      "Valid score 0.848\n",
      "\n"
     ]
    },
    {
     "name": "stderr",
     "output_type": "stream",
     "text": [
      "100%|█████| 391/391 [00:08<00:00, 46.91it/s, Epoch=28, Train_Loss=0.318, LR=0.1]\n",
      "100%|████████| 40/40 [00:00<00:00, 57.74it/s, Epoch=28, Valid_Loss=0.504, Valid_Score=0.839, LR=0.1]\n"
     ]
    },
    {
     "name": "stdout",
     "output_type": "stream",
     "text": [
      "Valid score 0.8386\n",
      "\n"
     ]
    },
    {
     "name": "stderr",
     "output_type": "stream",
     "text": [
      "100%|█████| 391/391 [00:08<00:00, 46.68it/s, Epoch=29, Train_Loss=0.315, LR=0.1]\n",
      "100%|████████| 40/40 [00:00<00:00, 59.36it/s, Epoch=29, Valid_Loss=0.552, Valid_Score=0.829, LR=0.1]"
     ]
    },
    {
     "name": "stdout",
     "output_type": "stream",
     "text": [
      "Valid score 0.8293\n",
      "\n"
     ]
    },
    {
     "name": "stderr",
     "output_type": "stream",
     "text": [
      "\n",
      "100%|█████| 391/391 [00:08<00:00, 46.69it/s, Epoch=30, Train_Loss=0.311, LR=0.1]\n",
      "100%|████████| 40/40 [00:00<00:00, 58.26it/s, Epoch=30, Valid_Loss=0.494, Valid_Score=0.843, LR=0.1]\n"
     ]
    },
    {
     "name": "stdout",
     "output_type": "stream",
     "text": [
      "Valid score 0.8429\n",
      "\n"
     ]
    },
    {
     "name": "stderr",
     "output_type": "stream",
     "text": [
      "100%|█████| 391/391 [00:08<00:00, 45.89it/s, Epoch=31, Train_Loss=0.315, LR=0.1]\n",
      "100%|████████| 40/40 [00:00<00:00, 57.96it/s, Epoch=31, Valid_Loss=0.539, Valid_Score=0.829, LR=0.1]\n"
     ]
    },
    {
     "name": "stdout",
     "output_type": "stream",
     "text": [
      "Valid score 0.8293\n",
      "\n"
     ]
    },
    {
     "name": "stderr",
     "output_type": "stream",
     "text": [
      "100%|█████| 391/391 [00:08<00:00, 45.79it/s, Epoch=32, Train_Loss=0.304, LR=0.1]\n",
      "100%|████████| 40/40 [00:00<00:00, 57.92it/s, Epoch=32, Valid_Loss=0.544, Valid_Score=0.835, LR=0.1]\n"
     ]
    },
    {
     "name": "stdout",
     "output_type": "stream",
     "text": [
      "Valid score 0.8345\n",
      "\n"
     ]
    },
    {
     "name": "stderr",
     "output_type": "stream",
     "text": [
      "100%|█████| 391/391 [00:08<00:00, 46.07it/s, Epoch=33, Train_Loss=0.304, LR=0.1]\n",
      "100%|████████| 40/40 [00:00<00:00, 58.78it/s, Epoch=33, Valid_Loss=0.592, Valid_Score=0.818, LR=0.1]\n"
     ]
    },
    {
     "name": "stdout",
     "output_type": "stream",
     "text": [
      "Valid score 0.8183\n",
      "\n"
     ]
    },
    {
     "name": "stderr",
     "output_type": "stream",
     "text": [
      "100%|█████| 391/391 [00:08<00:00, 45.64it/s, Epoch=34, Train_Loss=0.299, LR=0.1]\n",
      "100%|████████| 40/40 [00:00<00:00, 59.56it/s, Epoch=34, Valid_Loss=0.412, Valid_Score=0.866, LR=0.1]\n"
     ]
    },
    {
     "name": "stdout",
     "output_type": "stream",
     "text": [
      "Valid score 0.8657\n",
      "Validation Loss Improved (0.4520592555046082 ---> 0.4123475239276886)\n",
      "Model Saved\n",
      "\n"
     ]
    },
    {
     "name": "stderr",
     "output_type": "stream",
     "text": [
      "100%|█████| 391/391 [00:08<00:00, 45.82it/s, Epoch=35, Train_Loss=0.297, LR=0.1]\n",
      "100%|████████| 40/40 [00:00<00:00, 57.85it/s, Epoch=35, Valid_Loss=0.551, Valid_Score=0.826, LR=0.1]\n"
     ]
    },
    {
     "name": "stdout",
     "output_type": "stream",
     "text": [
      "Valid score 0.8255\n",
      "\n"
     ]
    },
    {
     "name": "stderr",
     "output_type": "stream",
     "text": [
      "100%|██████| 391/391 [00:08<00:00, 45.82it/s, Epoch=36, Train_Loss=0.29, LR=0.1]\n",
      "100%|████████| 40/40 [00:00<00:00, 59.89it/s, Epoch=36, Valid_Loss=0.489, Valid_Score=0.846, LR=0.1]\n"
     ]
    },
    {
     "name": "stdout",
     "output_type": "stream",
     "text": [
      "Valid score 0.8463\n",
      "\n"
     ]
    },
    {
     "name": "stderr",
     "output_type": "stream",
     "text": [
      "100%|█████| 391/391 [00:08<00:00, 46.64it/s, Epoch=37, Train_Loss=0.292, LR=0.1]\n",
      "100%|████████| 40/40 [00:00<00:00, 58.46it/s, Epoch=37, Valid_Loss=0.447, Valid_Score=0.858, LR=0.1]\n"
     ]
    },
    {
     "name": "stdout",
     "output_type": "stream",
     "text": [
      "Valid score 0.8577\n",
      "\n"
     ]
    },
    {
     "name": "stderr",
     "output_type": "stream",
     "text": [
      "100%|█████| 391/391 [00:08<00:00, 46.70it/s, Epoch=38, Train_Loss=0.286, LR=0.1]\n",
      "100%|█████████| 40/40 [00:00<00:00, 59.65it/s, Epoch=38, Valid_Loss=0.46, Valid_Score=0.855, LR=0.1]\n"
     ]
    },
    {
     "name": "stdout",
     "output_type": "stream",
     "text": [
      "Valid score 0.8552\n",
      "\n"
     ]
    },
    {
     "name": "stderr",
     "output_type": "stream",
     "text": [
      "100%|█████| 391/391 [00:08<00:00, 45.80it/s, Epoch=39, Train_Loss=0.282, LR=0.1]\n",
      "100%|████████| 40/40 [00:00<00:00, 58.68it/s, Epoch=39, Valid_Loss=0.461, Valid_Score=0.848, LR=0.1]\n"
     ]
    },
    {
     "name": "stdout",
     "output_type": "stream",
     "text": [
      "Valid score 0.8482\n",
      "\n"
     ]
    },
    {
     "name": "stderr",
     "output_type": "stream",
     "text": [
      "100%|█████| 391/391 [00:08<00:00, 45.58it/s, Epoch=40, Train_Loss=0.283, LR=0.1]\n",
      "100%|████████| 40/40 [00:00<00:00, 58.80it/s, Epoch=40, Valid_Loss=0.477, Valid_Score=0.847, LR=0.1]\n"
     ]
    },
    {
     "name": "stdout",
     "output_type": "stream",
     "text": [
      "Valid score 0.847\n",
      "\n"
     ]
    },
    {
     "name": "stderr",
     "output_type": "stream",
     "text": [
      "100%|█████| 391/391 [00:08<00:00, 47.01it/s, Epoch=41, Train_Loss=0.279, LR=0.1]\n",
      "100%|████████| 40/40 [00:00<00:00, 58.43it/s, Epoch=41, Valid_Loss=0.566, Valid_Score=0.824, LR=0.1]"
     ]
    },
    {
     "name": "stdout",
     "output_type": "stream",
     "text": [
      "Valid score 0.8237\n",
      "\n"
     ]
    },
    {
     "name": "stderr",
     "output_type": "stream",
     "text": [
      "\n",
      "100%|█████| 391/391 [00:08<00:00, 46.06it/s, Epoch=42, Train_Loss=0.278, LR=0.1]\n",
      "100%|████████| 40/40 [00:00<00:00, 57.56it/s, Epoch=42, Valid_Loss=0.546, Valid_Score=0.831, LR=0.1]\n"
     ]
    },
    {
     "name": "stdout",
     "output_type": "stream",
     "text": [
      "Valid score 0.8314\n",
      "\n"
     ]
    },
    {
     "name": "stderr",
     "output_type": "stream",
     "text": [
      "100%|█████| 391/391 [00:08<00:00, 45.73it/s, Epoch=43, Train_Loss=0.275, LR=0.1]\n",
      "100%|████████| 40/40 [00:00<00:00, 59.78it/s, Epoch=43, Valid_Loss=0.483, Valid_Score=0.846, LR=0.1]"
     ]
    },
    {
     "name": "stdout",
     "output_type": "stream",
     "text": [
      "Valid score 0.8459\n",
      "\n"
     ]
    },
    {
     "name": "stderr",
     "output_type": "stream",
     "text": [
      "\n",
      "100%|█████| 391/391 [00:08<00:00, 47.02it/s, Epoch=44, Train_Loss=0.277, LR=0.1]\n",
      "100%|████████| 40/40 [00:00<00:00, 59.16it/s, Epoch=44, Valid_Loss=0.458, Valid_Score=0.854, LR=0.1]"
     ]
    },
    {
     "name": "stdout",
     "output_type": "stream",
     "text": [
      "Valid score 0.8536\n",
      "\n"
     ]
    },
    {
     "name": "stderr",
     "output_type": "stream",
     "text": [
      "\n",
      "100%|█████| 391/391 [00:08<00:00, 46.77it/s, Epoch=45, Train_Loss=0.271, LR=0.1]\n",
      "100%|████████| 40/40 [00:00<00:00, 59.79it/s, Epoch=45, Valid_Loss=0.383, Valid_Score=0.876, LR=0.1]\n"
     ]
    },
    {
     "name": "stdout",
     "output_type": "stream",
     "text": [
      "Valid score 0.8764\n",
      "Validation Loss Improved (0.4123475239276886 ---> 0.38251693415641785)\n",
      "Model Saved\n",
      "\n"
     ]
    },
    {
     "name": "stderr",
     "output_type": "stream",
     "text": [
      "100%|█████| 391/391 [00:08<00:00, 47.12it/s, Epoch=46, Train_Loss=0.268, LR=0.1]\n",
      "100%|████████| 40/40 [00:00<00:00, 56.95it/s, Epoch=46, Valid_Loss=0.539, Valid_Score=0.842, LR=0.1]"
     ]
    },
    {
     "name": "stdout",
     "output_type": "stream",
     "text": [
      "Valid score 0.8416\n",
      "\n"
     ]
    },
    {
     "name": "stderr",
     "output_type": "stream",
     "text": [
      "\n",
      "100%|█████| 391/391 [00:08<00:00, 45.61it/s, Epoch=47, Train_Loss=0.271, LR=0.1]\n",
      "100%|████████| 40/40 [00:00<00:00, 57.53it/s, Epoch=47, Valid_Loss=0.486, Valid_Score=0.851, LR=0.1]\n"
     ]
    },
    {
     "name": "stdout",
     "output_type": "stream",
     "text": [
      "Valid score 0.8513\n",
      "\n"
     ]
    },
    {
     "name": "stderr",
     "output_type": "stream",
     "text": [
      "100%|█████| 391/391 [00:08<00:00, 46.04it/s, Epoch=48, Train_Loss=0.264, LR=0.1]\n",
      "100%|████████| 40/40 [00:00<00:00, 57.18it/s, Epoch=48, Valid_Loss=0.427, Valid_Score=0.862, LR=0.1]\n"
     ]
    },
    {
     "name": "stdout",
     "output_type": "stream",
     "text": [
      "Valid score 0.8616\n",
      "\n"
     ]
    },
    {
     "name": "stderr",
     "output_type": "stream",
     "text": [
      "100%|█████| 391/391 [00:08<00:00, 44.06it/s, Epoch=49, Train_Loss=0.265, LR=0.1]\n",
      "100%|████████| 40/40 [00:00<00:00, 59.46it/s, Epoch=49, Valid_Loss=0.527, Valid_Score=0.837, LR=0.1]"
     ]
    },
    {
     "name": "stdout",
     "output_type": "stream",
     "text": [
      "Valid score 0.8368\n",
      "\n"
     ]
    },
    {
     "name": "stderr",
     "output_type": "stream",
     "text": [
      "\n",
      "100%|█████| 391/391 [00:08<00:00, 45.73it/s, Epoch=50, Train_Loss=0.257, LR=0.1]\n",
      "100%|████████| 40/40 [00:00<00:00, 58.31it/s, Epoch=50, Valid_Loss=0.475, Valid_Score=0.846, LR=0.1]\n"
     ]
    },
    {
     "name": "stdout",
     "output_type": "stream",
     "text": [
      "Valid score 0.8459\n",
      "\n"
     ]
    },
    {
     "name": "stderr",
     "output_type": "stream",
     "text": [
      "100%|██████| 391/391 [00:08<00:00, 44.72it/s, Epoch=51, Train_Loss=0.26, LR=0.1]\n",
      "100%|████████| 40/40 [00:00<00:00, 58.11it/s, Epoch=51, Valid_Loss=0.634, Valid_Score=0.816, LR=0.1]\n"
     ]
    },
    {
     "name": "stdout",
     "output_type": "stream",
     "text": [
      "Valid score 0.8163\n",
      "\n"
     ]
    },
    {
     "name": "stderr",
     "output_type": "stream",
     "text": [
      "100%|█████| 391/391 [00:08<00:00, 45.31it/s, Epoch=52, Train_Loss=0.266, LR=0.1]\n",
      "100%|████████| 40/40 [00:00<00:00, 57.61it/s, Epoch=52, Valid_Loss=0.425, Valid_Score=0.867, LR=0.1]\n"
     ]
    },
    {
     "name": "stdout",
     "output_type": "stream",
     "text": [
      "Valid score 0.867\n",
      "\n"
     ]
    },
    {
     "name": "stderr",
     "output_type": "stream",
     "text": [
      "100%|█████| 391/391 [00:08<00:00, 44.47it/s, Epoch=53, Train_Loss=0.254, LR=0.1]\n",
      "100%|████████| 40/40 [00:00<00:00, 58.39it/s, Epoch=53, Valid_Loss=0.573, Valid_Score=0.828, LR=0.1]\n"
     ]
    },
    {
     "name": "stdout",
     "output_type": "stream",
     "text": [
      "Valid score 0.8278\n",
      "\n"
     ]
    },
    {
     "name": "stderr",
     "output_type": "stream",
     "text": [
      "100%|█████| 391/391 [00:08<00:00, 45.99it/s, Epoch=54, Train_Loss=0.256, LR=0.1]\n",
      "100%|████████| 40/40 [00:00<00:00, 59.98it/s, Epoch=54, Valid_Loss=0.467, Valid_Score=0.858, LR=0.1]\n"
     ]
    },
    {
     "name": "stdout",
     "output_type": "stream",
     "text": [
      "Valid score 0.8579\n",
      "\n"
     ]
    },
    {
     "name": "stderr",
     "output_type": "stream",
     "text": [
      "100%|█████| 391/391 [00:08<00:00, 46.84it/s, Epoch=55, Train_Loss=0.257, LR=0.1]\n",
      "100%|████████| 40/40 [00:00<00:00, 57.52it/s, Epoch=55, Valid_Loss=0.434, Valid_Score=0.862, LR=0.1]\n"
     ]
    },
    {
     "name": "stdout",
     "output_type": "stream",
     "text": [
      "Valid score 0.8617\n",
      "\n"
     ]
    },
    {
     "name": "stderr",
     "output_type": "stream",
     "text": [
      "100%|█████| 391/391 [00:08<00:00, 46.56it/s, Epoch=56, Train_Loss=0.253, LR=0.1]\n",
      "100%|████████| 40/40 [00:00<00:00, 55.87it/s, Epoch=56, Valid_Loss=0.476, Valid_Score=0.862, LR=0.1]\n"
     ]
    },
    {
     "name": "stdout",
     "output_type": "stream",
     "text": [
      "Valid score 0.8618\n",
      "\n"
     ]
    },
    {
     "name": "stderr",
     "output_type": "stream",
     "text": [
      "100%|█████| 391/391 [00:08<00:00, 46.32it/s, Epoch=57, Train_Loss=0.257, LR=0.1]\n",
      "100%|████████| 40/40 [00:00<00:00, 56.96it/s, Epoch=57, Valid_Loss=0.523, Valid_Score=0.843, LR=0.1]\n"
     ]
    },
    {
     "name": "stdout",
     "output_type": "stream",
     "text": [
      "Valid score 0.8433\n",
      "\n"
     ]
    },
    {
     "name": "stderr",
     "output_type": "stream",
     "text": [
      "100%|█████| 391/391 [00:08<00:00, 46.81it/s, Epoch=58, Train_Loss=0.255, LR=0.1]\n",
      "100%|████████| 40/40 [00:00<00:00, 59.95it/s, Epoch=58, Valid_Loss=0.471, Valid_Score=0.855, LR=0.1]\n"
     ]
    },
    {
     "name": "stdout",
     "output_type": "stream",
     "text": [
      "Valid score 0.855\n",
      "\n"
     ]
    },
    {
     "name": "stderr",
     "output_type": "stream",
     "text": [
      "100%|██████| 391/391 [00:08<00:00, 46.16it/s, Epoch=59, Train_Loss=0.25, LR=0.1]\n",
      "100%|█████████| 40/40 [00:00<00:00, 58.78it/s, Epoch=59, Valid_Loss=0.52, Valid_Score=0.846, LR=0.1]\n"
     ]
    },
    {
     "name": "stdout",
     "output_type": "stream",
     "text": [
      "Valid score 0.8457\n",
      "\n"
     ]
    },
    {
     "name": "stderr",
     "output_type": "stream",
     "text": [
      "100%|█████| 391/391 [00:08<00:00, 46.60it/s, Epoch=60, Train_Loss=0.254, LR=0.1]\n",
      "100%|████████| 40/40 [00:00<00:00, 58.39it/s, Epoch=60, Valid_Loss=0.688, Valid_Score=0.804, LR=0.1]\n"
     ]
    },
    {
     "name": "stdout",
     "output_type": "stream",
     "text": [
      "Valid score 0.804\n",
      "\n"
     ]
    },
    {
     "name": "stderr",
     "output_type": "stream",
     "text": [
      "100%|█████| 391/391 [00:08<00:00, 46.90it/s, Epoch=61, Train_Loss=0.245, LR=0.1]\n",
      "100%|████████| 40/40 [00:00<00:00, 58.89it/s, Epoch=61, Valid_Loss=0.438, Valid_Score=0.859, LR=0.1]\n"
     ]
    },
    {
     "name": "stdout",
     "output_type": "stream",
     "text": [
      "Valid score 0.8589\n",
      "\n"
     ]
    },
    {
     "name": "stderr",
     "output_type": "stream",
     "text": [
      "100%|█████| 391/391 [00:08<00:00, 46.11it/s, Epoch=62, Train_Loss=0.248, LR=0.1]\n",
      "100%|█████████| 40/40 [00:00<00:00, 58.08it/s, Epoch=62, Valid_Loss=0.544, Valid_Score=0.84, LR=0.1]\n"
     ]
    },
    {
     "name": "stdout",
     "output_type": "stream",
     "text": [
      "Valid score 0.84\n",
      "\n"
     ]
    },
    {
     "name": "stderr",
     "output_type": "stream",
     "text": [
      "100%|█████| 391/391 [00:08<00:00, 44.08it/s, Epoch=63, Train_Loss=0.242, LR=0.1]\n",
      "100%|████████| 40/40 [00:00<00:00, 57.54it/s, Epoch=63, Valid_Loss=0.416, Valid_Score=0.865, LR=0.1]\n"
     ]
    },
    {
     "name": "stdout",
     "output_type": "stream",
     "text": [
      "Valid score 0.8654\n",
      "\n"
     ]
    },
    {
     "name": "stderr",
     "output_type": "stream",
     "text": [
      "100%|█████| 391/391 [00:08<00:00, 44.11it/s, Epoch=64, Train_Loss=0.249, LR=0.1]\n",
      "100%|████████| 40/40 [00:00<00:00, 57.66it/s, Epoch=64, Valid_Loss=0.533, Valid_Score=0.838, LR=0.1]\n"
     ]
    },
    {
     "name": "stdout",
     "output_type": "stream",
     "text": [
      "Valid score 0.8382\n",
      "\n"
     ]
    },
    {
     "name": "stderr",
     "output_type": "stream",
     "text": [
      "100%|█████| 391/391 [00:08<00:00, 44.47it/s, Epoch=65, Train_Loss=0.244, LR=0.1]\n",
      "100%|████████| 40/40 [00:00<00:00, 57.17it/s, Epoch=65, Valid_Loss=0.405, Valid_Score=0.873, LR=0.1]\n"
     ]
    },
    {
     "name": "stdout",
     "output_type": "stream",
     "text": [
      "Valid score 0.8727\n",
      "\n"
     ]
    },
    {
     "name": "stderr",
     "output_type": "stream",
     "text": [
      "100%|█████| 391/391 [00:08<00:00, 44.61it/s, Epoch=66, Train_Loss=0.243, LR=0.1]\n",
      "100%|████████| 40/40 [00:00<00:00, 54.32it/s, Epoch=66, Valid_Loss=0.417, Valid_Score=0.865, LR=0.1]\n"
     ]
    },
    {
     "name": "stdout",
     "output_type": "stream",
     "text": [
      "Valid score 0.8648\n",
      "\n"
     ]
    },
    {
     "name": "stderr",
     "output_type": "stream",
     "text": [
      "100%|█████| 391/391 [00:08<00:00, 44.37it/s, Epoch=67, Train_Loss=0.245, LR=0.1]\n",
      "100%|██████████| 40/40 [00:00<00:00, 57.38it/s, Epoch=67, Valid_Loss=0.4, Valid_Score=0.876, LR=0.1]\n"
     ]
    },
    {
     "name": "stdout",
     "output_type": "stream",
     "text": [
      "Valid score 0.8762\n",
      "\n"
     ]
    },
    {
     "name": "stderr",
     "output_type": "stream",
     "text": [
      "100%|█████| 391/391 [00:08<00:00, 45.10it/s, Epoch=68, Train_Loss=0.239, LR=0.1]\n",
      "100%|████████| 40/40 [00:00<00:00, 57.66it/s, Epoch=68, Valid_Loss=0.549, Valid_Score=0.829, LR=0.1]"
     ]
    },
    {
     "name": "stdout",
     "output_type": "stream",
     "text": [
      "Valid score 0.8285\n",
      "\n"
     ]
    },
    {
     "name": "stderr",
     "output_type": "stream",
     "text": [
      "\n",
      "100%|█████| 391/391 [00:08<00:00, 46.71it/s, Epoch=69, Train_Loss=0.237, LR=0.1]\n",
      "100%|████████| 40/40 [00:00<00:00, 58.17it/s, Epoch=69, Valid_Loss=0.402, Valid_Score=0.875, LR=0.1]"
     ]
    },
    {
     "name": "stdout",
     "output_type": "stream",
     "text": [
      "Valid score 0.875\n",
      "\n"
     ]
    },
    {
     "name": "stderr",
     "output_type": "stream",
     "text": [
      "\n",
      "100%|█████| 391/391 [00:08<00:00, 46.38it/s, Epoch=70, Train_Loss=0.241, LR=0.1]\n",
      "100%|████████| 40/40 [00:00<00:00, 59.88it/s, Epoch=70, Valid_Loss=0.515, Valid_Score=0.847, LR=0.1]\n"
     ]
    },
    {
     "name": "stdout",
     "output_type": "stream",
     "text": [
      "Valid score 0.8469\n",
      "\n"
     ]
    },
    {
     "name": "stderr",
     "output_type": "stream",
     "text": [
      "100%|█████| 391/391 [00:08<00:00, 46.85it/s, Epoch=71, Train_Loss=0.238, LR=0.1]\n",
      "100%|████████| 40/40 [00:00<00:00, 59.69it/s, Epoch=71, Valid_Loss=0.481, Valid_Score=0.853, LR=0.1]\n"
     ]
    },
    {
     "name": "stdout",
     "output_type": "stream",
     "text": [
      "Valid score 0.8532\n",
      "\n"
     ]
    },
    {
     "name": "stderr",
     "output_type": "stream",
     "text": [
      "100%|█████| 391/391 [00:08<00:00, 46.31it/s, Epoch=72, Train_Loss=0.236, LR=0.1]\n",
      "100%|████████| 40/40 [00:00<00:00, 59.13it/s, Epoch=72, Valid_Loss=0.389, Valid_Score=0.879, LR=0.1]\n"
     ]
    },
    {
     "name": "stdout",
     "output_type": "stream",
     "text": [
      "Valid score 0.8786\n",
      "\n"
     ]
    },
    {
     "name": "stderr",
     "output_type": "stream",
     "text": [
      "100%|█████| 391/391 [00:08<00:00, 43.97it/s, Epoch=73, Train_Loss=0.233, LR=0.1]\n",
      "100%|████████| 40/40 [00:00<00:00, 54.81it/s, Epoch=73, Valid_Loss=0.452, Valid_Score=0.857, LR=0.1]\n"
     ]
    },
    {
     "name": "stdout",
     "output_type": "stream",
     "text": [
      "Valid score 0.8571\n",
      "\n"
     ]
    },
    {
     "name": "stderr",
     "output_type": "stream",
     "text": [
      "100%|█████| 391/391 [00:08<00:00, 45.72it/s, Epoch=74, Train_Loss=0.235, LR=0.1]\n",
      "100%|█████████| 40/40 [00:00<00:00, 58.46it/s, Epoch=74, Valid_Loss=0.452, Valid_Score=0.86, LR=0.1]\n"
     ]
    },
    {
     "name": "stdout",
     "output_type": "stream",
     "text": [
      "Valid score 0.8599\n",
      "\n"
     ]
    },
    {
     "name": "stderr",
     "output_type": "stream",
     "text": [
      "100%|█████| 391/391 [00:08<00:00, 46.15it/s, Epoch=75, Train_Loss=0.235, LR=0.1]\n",
      "100%|█████████| 40/40 [00:00<00:00, 59.89it/s, Epoch=75, Valid_Loss=0.47, Valid_Score=0.855, LR=0.1]\n"
     ]
    },
    {
     "name": "stdout",
     "output_type": "stream",
     "text": [
      "Valid score 0.8553\n",
      "\n"
     ]
    },
    {
     "name": "stderr",
     "output_type": "stream",
     "text": [
      "100%|█████| 391/391 [00:08<00:00, 46.42it/s, Epoch=76, Train_Loss=0.232, LR=0.1]\n",
      "100%|████████| 40/40 [00:00<00:00, 58.17it/s, Epoch=76, Valid_Loss=0.467, Valid_Score=0.864, LR=0.1]"
     ]
    },
    {
     "name": "stdout",
     "output_type": "stream",
     "text": [
      "Valid score 0.8641\n",
      "\n"
     ]
    },
    {
     "name": "stderr",
     "output_type": "stream",
     "text": [
      "\n",
      "100%|█████| 391/391 [00:08<00:00, 46.58it/s, Epoch=77, Train_Loss=0.239, LR=0.1]\n",
      "100%|████████| 40/40 [00:00<00:00, 59.11it/s, Epoch=77, Valid_Loss=0.529, Valid_Score=0.836, LR=0.1]\n"
     ]
    },
    {
     "name": "stdout",
     "output_type": "stream",
     "text": [
      "Valid score 0.836\n",
      "\n"
     ]
    },
    {
     "name": "stderr",
     "output_type": "stream",
     "text": [
      "100%|█████| 391/391 [00:08<00:00, 46.56it/s, Epoch=78, Train_Loss=0.237, LR=0.1]\n",
      "100%|█████████| 40/40 [00:00<00:00, 59.65it/s, Epoch=78, Valid_Loss=0.515, Valid_Score=0.85, LR=0.1]\n"
     ]
    },
    {
     "name": "stdout",
     "output_type": "stream",
     "text": [
      "Valid score 0.8497\n",
      "\n"
     ]
    },
    {
     "name": "stderr",
     "output_type": "stream",
     "text": [
      "100%|█████| 391/391 [00:08<00:00, 46.59it/s, Epoch=79, Train_Loss=0.229, LR=0.1]\n",
      "100%|████████| 40/40 [00:00<00:00, 58.18it/s, Epoch=79, Valid_Loss=0.423, Valid_Score=0.874, LR=0.1]\n"
     ]
    },
    {
     "name": "stdout",
     "output_type": "stream",
     "text": [
      "Valid score 0.8737\n",
      "\n"
     ]
    },
    {
     "name": "stderr",
     "output_type": "stream",
     "text": [
      "100%|█████| 391/391 [00:08<00:00, 46.59it/s, Epoch=80, Train_Loss=0.233, LR=0.1]\n",
      "100%|████████| 40/40 [00:00<00:00, 59.71it/s, Epoch=80, Valid_Loss=0.679, Valid_Score=0.813, LR=0.1]"
     ]
    },
    {
     "name": "stdout",
     "output_type": "stream",
     "text": [
      "Valid score 0.8133\n",
      "\n"
     ]
    },
    {
     "name": "stderr",
     "output_type": "stream",
     "text": [
      "\n",
      "100%|█████| 391/391 [00:08<00:00, 46.85it/s, Epoch=81, Train_Loss=0.229, LR=0.1]\n",
      "100%|████████| 40/40 [00:00<00:00, 58.40it/s, Epoch=81, Valid_Loss=0.399, Valid_Score=0.875, LR=0.1]\n"
     ]
    },
    {
     "name": "stdout",
     "output_type": "stream",
     "text": [
      "Valid score 0.8746\n",
      "\n"
     ]
    },
    {
     "name": "stderr",
     "output_type": "stream",
     "text": [
      "100%|██████| 391/391 [00:08<00:00, 46.70it/s, Epoch=82, Train_Loss=0.23, LR=0.1]\n",
      "100%|████████| 40/40 [00:00<00:00, 58.85it/s, Epoch=82, Valid_Loss=0.448, Valid_Score=0.863, LR=0.1]\n"
     ]
    },
    {
     "name": "stdout",
     "output_type": "stream",
     "text": [
      "Valid score 0.8627\n",
      "\n"
     ]
    },
    {
     "name": "stderr",
     "output_type": "stream",
     "text": [
      "100%|█████| 391/391 [00:08<00:00, 46.37it/s, Epoch=83, Train_Loss=0.226, LR=0.1]\n",
      "100%|████████| 40/40 [00:00<00:00, 55.22it/s, Epoch=83, Valid_Loss=0.584, Valid_Score=0.836, LR=0.1]\n"
     ]
    },
    {
     "name": "stdout",
     "output_type": "stream",
     "text": [
      "Valid score 0.8363\n",
      "\n"
     ]
    },
    {
     "name": "stderr",
     "output_type": "stream",
     "text": [
      "100%|█████| 391/391 [00:08<00:00, 46.13it/s, Epoch=84, Train_Loss=0.228, LR=0.1]\n",
      "100%|████████| 40/40 [00:00<00:00, 57.51it/s, Epoch=84, Valid_Loss=0.531, Valid_Score=0.848, LR=0.1]\n"
     ]
    },
    {
     "name": "stdout",
     "output_type": "stream",
     "text": [
      "Valid score 0.848\n",
      "\n"
     ]
    },
    {
     "name": "stderr",
     "output_type": "stream",
     "text": [
      "100%|█████| 391/391 [00:08<00:00, 46.96it/s, Epoch=85, Train_Loss=0.226, LR=0.1]\n",
      "100%|█████████| 40/40 [00:00<00:00, 58.11it/s, Epoch=85, Valid_Loss=0.41, Valid_Score=0.869, LR=0.1]"
     ]
    },
    {
     "name": "stdout",
     "output_type": "stream",
     "text": [
      "Valid score 0.8694\n",
      "\n"
     ]
    },
    {
     "name": "stderr",
     "output_type": "stream",
     "text": [
      "\n",
      "100%|█████| 391/391 [00:08<00:00, 44.45it/s, Epoch=86, Train_Loss=0.234, LR=0.1]\n",
      "100%|█████████| 40/40 [00:00<00:00, 56.45it/s, Epoch=86, Valid_Loss=0.44, Valid_Score=0.865, LR=0.1]\n"
     ]
    },
    {
     "name": "stdout",
     "output_type": "stream",
     "text": [
      "Valid score 0.8653\n",
      "\n"
     ]
    },
    {
     "name": "stderr",
     "output_type": "stream",
     "text": [
      "100%|█████| 391/391 [00:08<00:00, 45.56it/s, Epoch=87, Train_Loss=0.225, LR=0.1]\n",
      "100%|████████| 40/40 [00:00<00:00, 58.66it/s, Epoch=87, Valid_Loss=0.547, Valid_Score=0.836, LR=0.1]\n"
     ]
    },
    {
     "name": "stdout",
     "output_type": "stream",
     "text": [
      "Valid score 0.8363\n",
      "\n"
     ]
    },
    {
     "name": "stderr",
     "output_type": "stream",
     "text": [
      "100%|█████| 391/391 [00:08<00:00, 45.11it/s, Epoch=88, Train_Loss=0.224, LR=0.1]\n",
      "100%|█████████| 40/40 [00:00<00:00, 57.78it/s, Epoch=88, Valid_Loss=0.49, Valid_Score=0.854, LR=0.1]\n"
     ]
    },
    {
     "name": "stdout",
     "output_type": "stream",
     "text": [
      "Valid score 0.8541\n",
      "\n"
     ]
    },
    {
     "name": "stderr",
     "output_type": "stream",
     "text": [
      "100%|█████| 391/391 [00:08<00:00, 46.42it/s, Epoch=89, Train_Loss=0.224, LR=0.1]\n",
      "100%|████████| 40/40 [00:00<00:00, 56.63it/s, Epoch=89, Valid_Loss=0.713, Valid_Score=0.809, LR=0.1]\n"
     ]
    },
    {
     "name": "stdout",
     "output_type": "stream",
     "text": [
      "Valid score 0.8091\n",
      "\n"
     ]
    },
    {
     "name": "stderr",
     "output_type": "stream",
     "text": [
      "100%|█████| 391/391 [00:08<00:00, 43.71it/s, Epoch=90, Train_Loss=0.229, LR=0.1]\n",
      "100%|████████| 40/40 [00:00<00:00, 57.05it/s, Epoch=90, Valid_Loss=0.558, Valid_Score=0.838, LR=0.1]\n"
     ]
    },
    {
     "name": "stdout",
     "output_type": "stream",
     "text": [
      "Valid score 0.838\n",
      "\n"
     ]
    },
    {
     "name": "stderr",
     "output_type": "stream",
     "text": [
      "100%|█████| 391/391 [00:08<00:00, 43.68it/s, Epoch=91, Train_Loss=0.228, LR=0.1]\n",
      "100%|████████| 40/40 [00:00<00:00, 56.71it/s, Epoch=91, Valid_Loss=0.386, Valid_Score=0.878, LR=0.1]\n"
     ]
    },
    {
     "name": "stdout",
     "output_type": "stream",
     "text": [
      "Valid score 0.8782\n",
      "\n"
     ]
    },
    {
     "name": "stderr",
     "output_type": "stream",
     "text": [
      "100%|██████| 391/391 [00:08<00:00, 44.41it/s, Epoch=92, Train_Loss=0.22, LR=0.1]\n",
      "100%|████████| 40/40 [00:00<00:00, 58.00it/s, Epoch=92, Valid_Loss=0.448, Valid_Score=0.864, LR=0.1]\n"
     ]
    },
    {
     "name": "stdout",
     "output_type": "stream",
     "text": [
      "Valid score 0.8636\n",
      "\n"
     ]
    },
    {
     "name": "stderr",
     "output_type": "stream",
     "text": [
      "100%|██████| 391/391 [00:08<00:00, 44.07it/s, Epoch=93, Train_Loss=0.23, LR=0.1]\n",
      "100%|████████| 40/40 [00:00<00:00, 57.44it/s, Epoch=93, Valid_Loss=0.669, Valid_Score=0.811, LR=0.1]\n"
     ]
    },
    {
     "name": "stdout",
     "output_type": "stream",
     "text": [
      "Valid score 0.8106\n",
      "\n"
     ]
    },
    {
     "name": "stderr",
     "output_type": "stream",
     "text": [
      "100%|█████| 391/391 [00:08<00:00, 44.86it/s, Epoch=94, Train_Loss=0.223, LR=0.1]\n",
      "100%|████████| 40/40 [00:00<00:00, 58.95it/s, Epoch=94, Valid_Loss=0.443, Valid_Score=0.869, LR=0.1]\n"
     ]
    },
    {
     "name": "stdout",
     "output_type": "stream",
     "text": [
      "Valid score 0.8691\n",
      "\n"
     ]
    },
    {
     "name": "stderr",
     "output_type": "stream",
     "text": [
      "100%|█████| 391/391 [00:08<00:00, 45.82it/s, Epoch=95, Train_Loss=0.223, LR=0.1]\n",
      "100%|████████| 40/40 [00:00<00:00, 59.04it/s, Epoch=95, Valid_Loss=0.476, Valid_Score=0.855, LR=0.1]\n"
     ]
    },
    {
     "name": "stdout",
     "output_type": "stream",
     "text": [
      "Valid score 0.8553\n",
      "\n"
     ]
    },
    {
     "name": "stderr",
     "output_type": "stream",
     "text": [
      "100%|█████| 391/391 [00:08<00:00, 44.76it/s, Epoch=96, Train_Loss=0.226, LR=0.1]\n",
      "100%|████████| 40/40 [00:00<00:00, 57.73it/s, Epoch=96, Valid_Loss=0.491, Valid_Score=0.853, LR=0.1]\n"
     ]
    },
    {
     "name": "stdout",
     "output_type": "stream",
     "text": [
      "Valid score 0.8533\n",
      "\n"
     ]
    },
    {
     "name": "stderr",
     "output_type": "stream",
     "text": [
      "100%|██████| 391/391 [00:08<00:00, 44.55it/s, Epoch=97, Train_Loss=0.22, LR=0.1]\n",
      "100%|█████████| 40/40 [00:00<00:00, 57.17it/s, Epoch=97, Valid_Loss=0.372, Valid_Score=0.88, LR=0.1]\n"
     ]
    },
    {
     "name": "stdout",
     "output_type": "stream",
     "text": [
      "Valid score 0.8796\n",
      "Validation Loss Improved (0.38251693415641785 ---> 0.37186063842773437)\n",
      "Model Saved\n",
      "\n"
     ]
    },
    {
     "name": "stderr",
     "output_type": "stream",
     "text": [
      "100%|█████| 391/391 [00:08<00:00, 45.26it/s, Epoch=98, Train_Loss=0.219, LR=0.1]\n",
      "100%|████████| 40/40 [00:00<00:00, 58.95it/s, Epoch=98, Valid_Loss=0.453, Valid_Score=0.863, LR=0.1]\n"
     ]
    },
    {
     "name": "stdout",
     "output_type": "stream",
     "text": [
      "Valid score 0.8627\n",
      "\n"
     ]
    },
    {
     "name": "stderr",
     "output_type": "stream",
     "text": [
      "100%|█████| 391/391 [00:08<00:00, 45.97it/s, Epoch=99, Train_Loss=0.222, LR=0.1]\n",
      "100%|█████████| 40/40 [00:00<00:00, 58.02it/s, Epoch=99, Valid_Loss=0.431, Valid_Score=0.87, LR=0.1]\n"
     ]
    },
    {
     "name": "stdout",
     "output_type": "stream",
     "text": [
      "Valid score 0.8704\n",
      "\n"
     ]
    },
    {
     "name": "stderr",
     "output_type": "stream",
     "text": [
      "100%|████| 391/391 [00:08<00:00, 46.61it/s, Epoch=100, Train_Loss=0.223, LR=0.1]\n",
      "100%|██████| 40/40 [00:00<00:00, 59.55it/s, Epoch=100, Valid_Loss=0.379, Valid_Score=0.876, LR=0.01]\n"
     ]
    },
    {
     "name": "stdout",
     "output_type": "stream",
     "text": [
      "Valid score 0.8762\n",
      "\n"
     ]
    },
    {
     "name": "stderr",
     "output_type": "stream",
     "text": [
      "100%|███| 391/391 [00:08<00:00, 47.11it/s, Epoch=101, Train_Loss=0.135, LR=0.01]\n",
      "100%|██████| 40/40 [00:00<00:00, 58.93it/s, Epoch=101, Valid_Loss=0.282, Valid_Score=0.912, LR=0.01]\n"
     ]
    },
    {
     "name": "stdout",
     "output_type": "stream",
     "text": [
      "Valid score 0.912\n",
      "Validation Loss Improved (0.37186063842773437 ---> 0.2820194248199463)\n",
      "Model Saved\n",
      "\n"
     ]
    },
    {
     "name": "stderr",
     "output_type": "stream",
     "text": [
      "100%|███| 391/391 [00:08<00:00, 46.66it/s, Epoch=102, Train_Loss=0.109, LR=0.01]\n",
      "100%|██████| 40/40 [00:00<00:00, 58.63it/s, Epoch=102, Valid_Loss=0.279, Valid_Score=0.914, LR=0.01]\n"
     ]
    },
    {
     "name": "stdout",
     "output_type": "stream",
     "text": [
      "Valid score 0.9141\n",
      "Validation Loss Improved (0.2820194248199463 ---> 0.2793947418689728)\n",
      "Model Saved\n",
      "\n"
     ]
    },
    {
     "name": "stderr",
     "output_type": "stream",
     "text": [
      "100%|█████| 391/391 [00:08<00:00, 46.39it/s, Epoch=103, Train_Loss=0.1, LR=0.01]\n",
      "100%|██████| 40/40 [00:00<00:00, 56.49it/s, Epoch=103, Valid_Loss=0.281, Valid_Score=0.915, LR=0.01]\n"
     ]
    },
    {
     "name": "stdout",
     "output_type": "stream",
     "text": [
      "Valid score 0.9154\n",
      "\n"
     ]
    },
    {
     "name": "stderr",
     "output_type": "stream",
     "text": [
      "100%|██| 391/391 [00:08<00:00, 46.55it/s, Epoch=104, Train_Loss=0.0896, LR=0.01]\n",
      "100%|██████| 40/40 [00:00<00:00, 56.34it/s, Epoch=104, Valid_Loss=0.286, Valid_Score=0.916, LR=0.01]\n"
     ]
    },
    {
     "name": "stdout",
     "output_type": "stream",
     "text": [
      "Valid score 0.9161\n",
      "\n"
     ]
    },
    {
     "name": "stderr",
     "output_type": "stream",
     "text": [
      "100%|██| 391/391 [00:08<00:00, 46.85it/s, Epoch=105, Train_Loss=0.0871, LR=0.01]\n",
      "100%|██████| 40/40 [00:00<00:00, 58.47it/s, Epoch=105, Valid_Loss=0.285, Valid_Score=0.914, LR=0.01]\n"
     ]
    },
    {
     "name": "stdout",
     "output_type": "stream",
     "text": [
      "Valid score 0.9143\n",
      "\n"
     ]
    },
    {
     "name": "stderr",
     "output_type": "stream",
     "text": [
      "100%|██| 391/391 [00:08<00:00, 46.84it/s, Epoch=106, Train_Loss=0.0829, LR=0.01]\n",
      "100%|██████| 40/40 [00:00<00:00, 58.58it/s, Epoch=106, Valid_Loss=0.286, Valid_Score=0.915, LR=0.01]\n"
     ]
    },
    {
     "name": "stdout",
     "output_type": "stream",
     "text": [
      "Valid score 0.9152\n",
      "\n"
     ]
    },
    {
     "name": "stderr",
     "output_type": "stream",
     "text": [
      "100%|██| 391/391 [00:08<00:00, 46.79it/s, Epoch=107, Train_Loss=0.0787, LR=0.01]\n",
      "100%|██████| 40/40 [00:00<00:00, 60.07it/s, Epoch=107, Valid_Loss=0.287, Valid_Score=0.917, LR=0.01]"
     ]
    },
    {
     "name": "stdout",
     "output_type": "stream",
     "text": [
      "Valid score 0.9174\n",
      "\n"
     ]
    },
    {
     "name": "stderr",
     "output_type": "stream",
     "text": [
      "\n",
      "100%|███| 391/391 [00:08<00:00, 46.77it/s, Epoch=108, Train_Loss=0.076, LR=0.01]\n",
      "100%|██████| 40/40 [00:00<00:00, 56.19it/s, Epoch=108, Valid_Loss=0.294, Valid_Score=0.917, LR=0.01]\n"
     ]
    },
    {
     "name": "stdout",
     "output_type": "stream",
     "text": [
      "Valid score 0.9169\n",
      "\n"
     ]
    },
    {
     "name": "stderr",
     "output_type": "stream",
     "text": [
      "100%|██| 391/391 [00:08<00:00, 46.48it/s, Epoch=109, Train_Loss=0.0732, LR=0.01]\n",
      "100%|████████| 40/40 [00:00<00:00, 59.50it/s, Epoch=109, Valid_Loss=0.3, Valid_Score=0.914, LR=0.01]\n"
     ]
    },
    {
     "name": "stdout",
     "output_type": "stream",
     "text": [
      "Valid score 0.9142\n",
      "\n"
     ]
    },
    {
     "name": "stderr",
     "output_type": "stream",
     "text": [
      "100%|██| 391/391 [00:08<00:00, 46.65it/s, Epoch=110, Train_Loss=0.0705, LR=0.01]\n",
      "100%|██████| 40/40 [00:00<00:00, 60.09it/s, Epoch=110, Valid_Loss=0.293, Valid_Score=0.918, LR=0.01]\n"
     ]
    },
    {
     "name": "stdout",
     "output_type": "stream",
     "text": [
      "Valid score 0.9178\n",
      "\n"
     ]
    },
    {
     "name": "stderr",
     "output_type": "stream",
     "text": [
      "100%|████| 391/391 [00:08<00:00, 46.67it/s, Epoch=111, Train_Loss=0.07, LR=0.01]\n",
      "100%|██████| 40/40 [00:00<00:00, 57.57it/s, Epoch=111, Valid_Loss=0.298, Valid_Score=0.916, LR=0.01]\n"
     ]
    },
    {
     "name": "stdout",
     "output_type": "stream",
     "text": [
      "Valid score 0.9158\n",
      "\n"
     ]
    },
    {
     "name": "stderr",
     "output_type": "stream",
     "text": [
      "100%|██| 391/391 [00:08<00:00, 46.61it/s, Epoch=112, Train_Loss=0.0671, LR=0.01]\n",
      "100%|██████| 40/40 [00:00<00:00, 57.18it/s, Epoch=112, Valid_Loss=0.299, Valid_Score=0.914, LR=0.01]\n"
     ]
    },
    {
     "name": "stdout",
     "output_type": "stream",
     "text": [
      "Valid score 0.9142\n",
      "\n"
     ]
    },
    {
     "name": "stderr",
     "output_type": "stream",
     "text": [
      "100%|███| 391/391 [00:08<00:00, 46.71it/s, Epoch=113, Train_Loss=0.064, LR=0.01]\n",
      "100%|██████| 40/40 [00:00<00:00, 60.03it/s, Epoch=113, Valid_Loss=0.308, Valid_Score=0.917, LR=0.01]"
     ]
    },
    {
     "name": "stdout",
     "output_type": "stream",
     "text": [
      "Valid score 0.9171\n",
      "\n"
     ]
    },
    {
     "name": "stderr",
     "output_type": "stream",
     "text": [
      "\n",
      "100%|██| 391/391 [00:08<00:00, 46.78it/s, Epoch=114, Train_Loss=0.0604, LR=0.01]\n",
      "100%|██████| 40/40 [00:00<00:00, 58.23it/s, Epoch=114, Valid_Loss=0.308, Valid_Score=0.916, LR=0.01]\n"
     ]
    },
    {
     "name": "stdout",
     "output_type": "stream",
     "text": [
      "Valid score 0.9165\n",
      "\n"
     ]
    },
    {
     "name": "stderr",
     "output_type": "stream",
     "text": [
      "100%|███| 391/391 [00:08<00:00, 46.65it/s, Epoch=115, Train_Loss=0.061, LR=0.01]\n",
      "100%|██████| 40/40 [00:00<00:00, 58.53it/s, Epoch=115, Valid_Loss=0.308, Valid_Score=0.916, LR=0.01]"
     ]
    },
    {
     "name": "stdout",
     "output_type": "stream",
     "text": [
      "Valid score 0.9163\n",
      "\n"
     ]
    },
    {
     "name": "stderr",
     "output_type": "stream",
     "text": [
      "\n",
      "100%|██| 391/391 [00:08<00:00, 46.57it/s, Epoch=116, Train_Loss=0.0576, LR=0.01]\n",
      "100%|██████| 40/40 [00:00<00:00, 58.46it/s, Epoch=116, Valid_Loss=0.303, Valid_Score=0.917, LR=0.01]\n"
     ]
    },
    {
     "name": "stdout",
     "output_type": "stream",
     "text": [
      "Valid score 0.9172\n",
      "\n"
     ]
    },
    {
     "name": "stderr",
     "output_type": "stream",
     "text": [
      "100%|██| 391/391 [00:08<00:00, 46.75it/s, Epoch=117, Train_Loss=0.0581, LR=0.01]\n",
      "100%|██████| 40/40 [00:00<00:00, 59.25it/s, Epoch=117, Valid_Loss=0.309, Valid_Score=0.918, LR=0.01]\n"
     ]
    },
    {
     "name": "stdout",
     "output_type": "stream",
     "text": [
      "Valid score 0.9177\n",
      "\n"
     ]
    },
    {
     "name": "stderr",
     "output_type": "stream",
     "text": [
      "100%|██| 391/391 [00:08<00:00, 47.03it/s, Epoch=118, Train_Loss=0.0561, LR=0.01]\n",
      "100%|██████| 40/40 [00:00<00:00, 58.86it/s, Epoch=118, Valid_Loss=0.312, Valid_Score=0.917, LR=0.01]\n"
     ]
    },
    {
     "name": "stdout",
     "output_type": "stream",
     "text": [
      "Valid score 0.9171\n",
      "\n"
     ]
    },
    {
     "name": "stderr",
     "output_type": "stream",
     "text": [
      "100%|██| 391/391 [00:08<00:00, 46.23it/s, Epoch=119, Train_Loss=0.0556, LR=0.01]\n",
      "100%|██████| 40/40 [00:00<00:00, 58.86it/s, Epoch=119, Valid_Loss=0.312, Valid_Score=0.917, LR=0.01]\n"
     ]
    },
    {
     "name": "stdout",
     "output_type": "stream",
     "text": [
      "Valid score 0.9173\n",
      "\n"
     ]
    },
    {
     "name": "stderr",
     "output_type": "stream",
     "text": [
      "100%|███| 391/391 [00:08<00:00, 46.79it/s, Epoch=120, Train_Loss=0.052, LR=0.01]\n",
      "100%|██████| 40/40 [00:00<00:00, 58.50it/s, Epoch=120, Valid_Loss=0.318, Valid_Score=0.916, LR=0.01]\n"
     ]
    },
    {
     "name": "stdout",
     "output_type": "stream",
     "text": [
      "Valid score 0.916\n",
      "\n"
     ]
    },
    {
     "name": "stderr",
     "output_type": "stream",
     "text": [
      "100%|██| 391/391 [00:08<00:00, 46.32it/s, Epoch=121, Train_Loss=0.0518, LR=0.01]\n",
      "100%|██████| 40/40 [00:00<00:00, 58.99it/s, Epoch=121, Valid_Loss=0.316, Valid_Score=0.918, LR=0.01]\n"
     ]
    },
    {
     "name": "stdout",
     "output_type": "stream",
     "text": [
      "Valid score 0.9177\n",
      "\n"
     ]
    },
    {
     "name": "stderr",
     "output_type": "stream",
     "text": [
      "100%|██| 391/391 [00:08<00:00, 46.84it/s, Epoch=122, Train_Loss=0.0499, LR=0.01]\n",
      "100%|██████| 40/40 [00:00<00:00, 58.69it/s, Epoch=122, Valid_Loss=0.319, Valid_Score=0.916, LR=0.01]\n"
     ]
    },
    {
     "name": "stdout",
     "output_type": "stream",
     "text": [
      "Valid score 0.9158\n",
      "\n"
     ]
    },
    {
     "name": "stderr",
     "output_type": "stream",
     "text": [
      "100%|██| 391/391 [00:08<00:00, 46.63it/s, Epoch=123, Train_Loss=0.0481, LR=0.01]\n",
      "100%|██████| 40/40 [00:00<00:00, 58.39it/s, Epoch=123, Valid_Loss=0.326, Valid_Score=0.916, LR=0.01]"
     ]
    },
    {
     "name": "stdout",
     "output_type": "stream",
     "text": [
      "Valid score 0.9157\n",
      "\n"
     ]
    },
    {
     "name": "stderr",
     "output_type": "stream",
     "text": [
      "\n",
      "100%|██| 391/391 [00:08<00:00, 46.88it/s, Epoch=124, Train_Loss=0.0489, LR=0.01]\n",
      "100%|██████| 40/40 [00:00<00:00, 59.66it/s, Epoch=124, Valid_Loss=0.323, Valid_Score=0.916, LR=0.01]"
     ]
    },
    {
     "name": "stdout",
     "output_type": "stream",
     "text": [
      "Valid score 0.9161\n",
      "\n"
     ]
    },
    {
     "name": "stderr",
     "output_type": "stream",
     "text": [
      "\n",
      "100%|███| 391/391 [00:08<00:00, 46.68it/s, Epoch=125, Train_Loss=0.046, LR=0.01]\n",
      "100%|██████| 40/40 [00:00<00:00, 55.58it/s, Epoch=125, Valid_Loss=0.329, Valid_Score=0.916, LR=0.01]\n"
     ]
    },
    {
     "name": "stdout",
     "output_type": "stream",
     "text": [
      "Valid score 0.9165\n",
      "\n"
     ]
    },
    {
     "name": "stderr",
     "output_type": "stream",
     "text": [
      "100%|██| 391/391 [00:08<00:00, 47.00it/s, Epoch=126, Train_Loss=0.0451, LR=0.01]\n",
      "100%|██████| 40/40 [00:00<00:00, 59.33it/s, Epoch=126, Valid_Loss=0.332, Valid_Score=0.916, LR=0.01]\n"
     ]
    },
    {
     "name": "stdout",
     "output_type": "stream",
     "text": [
      "Valid score 0.9164\n",
      "\n"
     ]
    },
    {
     "name": "stderr",
     "output_type": "stream",
     "text": [
      "100%|██| 391/391 [00:08<00:00, 46.70it/s, Epoch=127, Train_Loss=0.0474, LR=0.01]\n",
      "100%|██████| 40/40 [00:00<00:00, 59.69it/s, Epoch=127, Valid_Loss=0.334, Valid_Score=0.917, LR=0.01]\n"
     ]
    },
    {
     "name": "stdout",
     "output_type": "stream",
     "text": [
      "Valid score 0.9172\n",
      "\n"
     ]
    },
    {
     "name": "stderr",
     "output_type": "stream",
     "text": [
      "100%|███| 391/391 [00:08<00:00, 47.05it/s, Epoch=128, Train_Loss=0.044, LR=0.01]\n",
      "100%|███████| 40/40 [00:00<00:00, 56.66it/s, Epoch=128, Valid_Loss=0.33, Valid_Score=0.916, LR=0.01]"
     ]
    },
    {
     "name": "stdout",
     "output_type": "stream",
     "text": [
      "Valid score 0.9163\n",
      "\n"
     ]
    },
    {
     "name": "stderr",
     "output_type": "stream",
     "text": [
      "\n",
      "100%|██| 391/391 [00:08<00:00, 46.74it/s, Epoch=129, Train_Loss=0.0463, LR=0.01]\n",
      "100%|██████| 40/40 [00:00<00:00, 59.31it/s, Epoch=129, Valid_Loss=0.337, Valid_Score=0.915, LR=0.01]"
     ]
    },
    {
     "name": "stdout",
     "output_type": "stream",
     "text": [
      "Valid score 0.9155\n",
      "\n"
     ]
    },
    {
     "name": "stderr",
     "output_type": "stream",
     "text": [
      "\n",
      "100%|██| 391/391 [00:08<00:00, 46.68it/s, Epoch=130, Train_Loss=0.0433, LR=0.01]\n",
      "100%|██████| 40/40 [00:00<00:00, 58.68it/s, Epoch=130, Valid_Loss=0.337, Valid_Score=0.916, LR=0.01]"
     ]
    },
    {
     "name": "stdout",
     "output_type": "stream",
     "text": [
      "Valid score 0.9158\n",
      "\n"
     ]
    },
    {
     "name": "stderr",
     "output_type": "stream",
     "text": [
      "\n",
      "100%|██| 391/391 [00:08<00:00, 46.72it/s, Epoch=131, Train_Loss=0.0409, LR=0.01]\n",
      "100%|██████| 40/40 [00:00<00:00, 58.96it/s, Epoch=131, Valid_Loss=0.339, Valid_Score=0.916, LR=0.01]\n"
     ]
    },
    {
     "name": "stdout",
     "output_type": "stream",
     "text": [
      "Valid score 0.9161\n",
      "\n"
     ]
    },
    {
     "name": "stderr",
     "output_type": "stream",
     "text": [
      "100%|██| 391/391 [00:08<00:00, 46.08it/s, Epoch=132, Train_Loss=0.0407, LR=0.01]\n",
      "100%|██████| 40/40 [00:00<00:00, 58.28it/s, Epoch=132, Valid_Loss=0.344, Valid_Score=0.915, LR=0.01]\n"
     ]
    },
    {
     "name": "stdout",
     "output_type": "stream",
     "text": [
      "Valid score 0.9146\n",
      "\n"
     ]
    },
    {
     "name": "stderr",
     "output_type": "stream",
     "text": [
      "100%|██| 391/391 [00:08<00:00, 47.04it/s, Epoch=133, Train_Loss=0.0403, LR=0.01]\n",
      "100%|██████| 40/40 [00:00<00:00, 58.76it/s, Epoch=133, Valid_Loss=0.342, Valid_Score=0.915, LR=0.01]\n"
     ]
    },
    {
     "name": "stdout",
     "output_type": "stream",
     "text": [
      "Valid score 0.915\n",
      "\n"
     ]
    },
    {
     "name": "stderr",
     "output_type": "stream",
     "text": [
      "100%|██| 391/391 [00:08<00:00, 46.61it/s, Epoch=134, Train_Loss=0.0423, LR=0.01]\n",
      "100%|██████| 40/40 [00:00<00:00, 58.15it/s, Epoch=134, Valid_Loss=0.354, Valid_Score=0.913, LR=0.01]\n"
     ]
    },
    {
     "name": "stdout",
     "output_type": "stream",
     "text": [
      "Valid score 0.9127\n",
      "\n"
     ]
    },
    {
     "name": "stderr",
     "output_type": "stream",
     "text": [
      "100%|██| 391/391 [00:08<00:00, 46.88it/s, Epoch=135, Train_Loss=0.0392, LR=0.01]\n",
      "100%|██████| 40/40 [00:00<00:00, 59.42it/s, Epoch=135, Valid_Loss=0.342, Valid_Score=0.919, LR=0.01]\n"
     ]
    },
    {
     "name": "stdout",
     "output_type": "stream",
     "text": [
      "Valid score 0.9187\n",
      "\n"
     ]
    },
    {
     "name": "stderr",
     "output_type": "stream",
     "text": [
      "100%|██| 391/391 [00:08<00:00, 46.58it/s, Epoch=136, Train_Loss=0.0388, LR=0.01]\n",
      "100%|██████| 40/40 [00:00<00:00, 59.01it/s, Epoch=136, Valid_Loss=0.344, Valid_Score=0.915, LR=0.01]\n"
     ]
    },
    {
     "name": "stdout",
     "output_type": "stream",
     "text": [
      "Valid score 0.9147\n",
      "\n"
     ]
    },
    {
     "name": "stderr",
     "output_type": "stream",
     "text": [
      "100%|██| 391/391 [00:08<00:00, 46.68it/s, Epoch=137, Train_Loss=0.0383, LR=0.01]\n",
      "100%|██████| 40/40 [00:00<00:00, 60.01it/s, Epoch=137, Valid_Loss=0.348, Valid_Score=0.916, LR=0.01]"
     ]
    },
    {
     "name": "stdout",
     "output_type": "stream",
     "text": [
      "Valid score 0.9162\n",
      "\n"
     ]
    },
    {
     "name": "stderr",
     "output_type": "stream",
     "text": [
      "\n",
      "100%|██| 391/391 [00:08<00:00, 46.69it/s, Epoch=138, Train_Loss=0.0377, LR=0.01]\n",
      "100%|██████| 40/40 [00:00<00:00, 57.82it/s, Epoch=138, Valid_Loss=0.355, Valid_Score=0.915, LR=0.01]"
     ]
    },
    {
     "name": "stdout",
     "output_type": "stream",
     "text": [
      "Valid score 0.9151\n",
      "\n"
     ]
    },
    {
     "name": "stderr",
     "output_type": "stream",
     "text": [
      "\n",
      "100%|██| 391/391 [00:08<00:00, 46.84it/s, Epoch=139, Train_Loss=0.0373, LR=0.01]\n",
      "100%|██████| 40/40 [00:00<00:00, 58.32it/s, Epoch=139, Valid_Loss=0.352, Valid_Score=0.914, LR=0.01]\n"
     ]
    },
    {
     "name": "stdout",
     "output_type": "stream",
     "text": [
      "Valid score 0.9141\n",
      "\n"
     ]
    },
    {
     "name": "stderr",
     "output_type": "stream",
     "text": [
      "100%|███| 391/391 [00:08<00:00, 46.87it/s, Epoch=140, Train_Loss=0.037, LR=0.01]\n",
      "100%|███████| 40/40 [00:00<00:00, 59.97it/s, Epoch=140, Valid_Loss=0.35, Valid_Score=0.919, LR=0.01]\n"
     ]
    },
    {
     "name": "stdout",
     "output_type": "stream",
     "text": [
      "Valid score 0.9187\n",
      "\n"
     ]
    },
    {
     "name": "stderr",
     "output_type": "stream",
     "text": [
      "100%|██| 391/391 [00:08<00:00, 47.05it/s, Epoch=141, Train_Loss=0.0354, LR=0.01]\n",
      "100%|███████| 40/40 [00:00<00:00, 60.09it/s, Epoch=141, Valid_Loss=0.35, Valid_Score=0.917, LR=0.01]"
     ]
    },
    {
     "name": "stdout",
     "output_type": "stream",
     "text": [
      "Valid score 0.917\n",
      "\n"
     ]
    },
    {
     "name": "stderr",
     "output_type": "stream",
     "text": [
      "\n",
      "100%|██| 391/391 [00:08<00:00, 46.95it/s, Epoch=142, Train_Loss=0.0362, LR=0.01]\n",
      "100%|██████| 40/40 [00:00<00:00, 59.67it/s, Epoch=142, Valid_Loss=0.368, Valid_Score=0.915, LR=0.01]"
     ]
    },
    {
     "name": "stdout",
     "output_type": "stream",
     "text": [
      "Valid score 0.9154\n",
      "\n"
     ]
    },
    {
     "name": "stderr",
     "output_type": "stream",
     "text": [
      "\n",
      "100%|██| 391/391 [00:08<00:00, 47.05it/s, Epoch=143, Train_Loss=0.0358, LR=0.01]\n",
      "100%|██████| 40/40 [00:00<00:00, 58.44it/s, Epoch=143, Valid_Loss=0.359, Valid_Score=0.914, LR=0.01]\n"
     ]
    },
    {
     "name": "stdout",
     "output_type": "stream",
     "text": [
      "Valid score 0.9144\n",
      "\n"
     ]
    },
    {
     "name": "stderr",
     "output_type": "stream",
     "text": [
      "100%|██| 391/391 [00:08<00:00, 46.69it/s, Epoch=144, Train_Loss=0.0346, LR=0.01]\n",
      "100%|██████| 40/40 [00:00<00:00, 57.90it/s, Epoch=144, Valid_Loss=0.359, Valid_Score=0.916, LR=0.01]\n"
     ]
    },
    {
     "name": "stdout",
     "output_type": "stream",
     "text": [
      "Valid score 0.9159\n",
      "\n"
     ]
    },
    {
     "name": "stderr",
     "output_type": "stream",
     "text": [
      "100%|██| 391/391 [00:08<00:00, 46.70it/s, Epoch=145, Train_Loss=0.0345, LR=0.01]\n",
      "100%|██████| 40/40 [00:00<00:00, 59.98it/s, Epoch=145, Valid_Loss=0.366, Valid_Score=0.916, LR=0.01]"
     ]
    },
    {
     "name": "stdout",
     "output_type": "stream",
     "text": [
      "Valid score 0.9165\n",
      "\n"
     ]
    },
    {
     "name": "stderr",
     "output_type": "stream",
     "text": [
      "\n",
      "100%|██| 391/391 [00:08<00:00, 46.25it/s, Epoch=146, Train_Loss=0.0336, LR=0.01]\n",
      "100%|██████| 40/40 [00:00<00:00, 58.60it/s, Epoch=146, Valid_Loss=0.373, Valid_Score=0.914, LR=0.01]\n"
     ]
    },
    {
     "name": "stdout",
     "output_type": "stream",
     "text": [
      "Valid score 0.9142\n",
      "\n"
     ]
    },
    {
     "name": "stderr",
     "output_type": "stream",
     "text": [
      "100%|██| 391/391 [00:08<00:00, 45.25it/s, Epoch=147, Train_Loss=0.0328, LR=0.01]\n",
      "100%|██████| 40/40 [00:00<00:00, 59.13it/s, Epoch=147, Valid_Loss=0.366, Valid_Score=0.915, LR=0.01]\n"
     ]
    },
    {
     "name": "stdout",
     "output_type": "stream",
     "text": [
      "Valid score 0.9148\n",
      "\n"
     ]
    },
    {
     "name": "stderr",
     "output_type": "stream",
     "text": [
      "100%|██| 391/391 [00:08<00:00, 43.89it/s, Epoch=148, Train_Loss=0.0327, LR=0.01]\n",
      "100%|██████| 40/40 [00:00<00:00, 58.58it/s, Epoch=148, Valid_Loss=0.365, Valid_Score=0.915, LR=0.01]\n"
     ]
    },
    {
     "name": "stdout",
     "output_type": "stream",
     "text": [
      "Valid score 0.9155\n",
      "\n"
     ]
    },
    {
     "name": "stderr",
     "output_type": "stream",
     "text": [
      "100%|██| 391/391 [00:08<00:00, 46.37it/s, Epoch=149, Train_Loss=0.0338, LR=0.01]\n",
      "100%|██████| 40/40 [00:00<00:00, 58.56it/s, Epoch=149, Valid_Loss=0.371, Valid_Score=0.916, LR=0.01]\n"
     ]
    },
    {
     "name": "stdout",
     "output_type": "stream",
     "text": [
      "Valid score 0.9158\n",
      "\n"
     ]
    },
    {
     "name": "stderr",
     "output_type": "stream",
     "text": [
      "100%|██| 391/391 [00:08<00:00, 46.64it/s, Epoch=150, Train_Loss=0.0318, LR=0.01]\n",
      "100%|█████| 40/40 [00:00<00:00, 58.30it/s, Epoch=150, Valid_Loss=0.369, Valid_Score=0.916, LR=0.001]\n"
     ]
    },
    {
     "name": "stdout",
     "output_type": "stream",
     "text": [
      "Valid score 0.9158\n",
      "\n"
     ]
    },
    {
     "name": "stderr",
     "output_type": "stream",
     "text": [
      "100%|█| 391/391 [00:08<00:00, 44.73it/s, Epoch=151, Train_Loss=0.0271, LR=0.001]\n",
      "100%|█████| 40/40 [00:00<00:00, 58.31it/s, Epoch=151, Valid_Loss=0.362, Valid_Score=0.918, LR=0.001]"
     ]
    },
    {
     "name": "stdout",
     "output_type": "stream",
     "text": [
      "Valid score 0.9185\n",
      "\n"
     ]
    },
    {
     "name": "stderr",
     "output_type": "stream",
     "text": [
      "\n",
      "100%|█| 391/391 [00:08<00:00, 44.19it/s, Epoch=152, Train_Loss=0.0249, LR=0.001]\n",
      "100%|██████| 40/40 [00:00<00:00, 55.14it/s, Epoch=152, Valid_Loss=0.356, Valid_Score=0.92, LR=0.001]\n"
     ]
    },
    {
     "name": "stdout",
     "output_type": "stream",
     "text": [
      "Valid score 0.9199\n",
      "\n"
     ]
    },
    {
     "name": "stderr",
     "output_type": "stream",
     "text": [
      "100%|█| 391/391 [00:08<00:00, 44.16it/s, Epoch=153, Train_Loss=0.0227, LR=0.001]\n",
      "100%|█████| 40/40 [00:00<00:00, 57.06it/s, Epoch=153, Valid_Loss=0.357, Valid_Score=0.919, LR=0.001]"
     ]
    },
    {
     "name": "stdout",
     "output_type": "stream",
     "text": [
      "Valid score 0.9194\n",
      "\n"
     ]
    },
    {
     "name": "stderr",
     "output_type": "stream",
     "text": [
      "\n",
      "100%|█| 391/391 [00:08<00:00, 44.27it/s, Epoch=154, Train_Loss=0.0233, LR=0.001]\n",
      "100%|██████| 40/40 [00:00<00:00, 57.75it/s, Epoch=154, Valid_Loss=0.355, Valid_Score=0.92, LR=0.001]\n"
     ]
    },
    {
     "name": "stdout",
     "output_type": "stream",
     "text": [
      "Valid score 0.9203\n",
      "\n"
     ]
    },
    {
     "name": "stderr",
     "output_type": "stream",
     "text": [
      "100%|██| 391/391 [00:09<00:00, 43.39it/s, Epoch=155, Train_Loss=0.024, LR=0.001]\n",
      "100%|██████| 40/40 [00:00<00:00, 57.48it/s, Epoch=155, Valid_Loss=0.356, Valid_Score=0.92, LR=0.001]\n"
     ]
    },
    {
     "name": "stdout",
     "output_type": "stream",
     "text": [
      "Valid score 0.92\n",
      "\n"
     ]
    },
    {
     "name": "stderr",
     "output_type": "stream",
     "text": [
      "100%|█| 391/391 [00:08<00:00, 43.96it/s, Epoch=156, Train_Loss=0.0232, LR=0.001]\n",
      "100%|█████| 40/40 [00:00<00:00, 57.58it/s, Epoch=156, Valid_Loss=0.356, Valid_Score=0.919, LR=0.001]"
     ]
    },
    {
     "name": "stdout",
     "output_type": "stream",
     "text": [
      "Valid score 0.919\n",
      "\n"
     ]
    },
    {
     "name": "stderr",
     "output_type": "stream",
     "text": [
      "\n",
      "100%|█| 391/391 [00:08<00:00, 44.28it/s, Epoch=157, Train_Loss=0.0216, LR=0.001]\n",
      "100%|█████| 40/40 [00:00<00:00, 56.81it/s, Epoch=157, Valid_Loss=0.355, Valid_Score=0.921, LR=0.001]\n"
     ]
    },
    {
     "name": "stdout",
     "output_type": "stream",
     "text": [
      "Valid score 0.9207\n",
      "\n"
     ]
    },
    {
     "name": "stderr",
     "output_type": "stream",
     "text": [
      "100%|██| 391/391 [00:08<00:00, 44.06it/s, Epoch=158, Train_Loss=0.022, LR=0.001]\n",
      "100%|█████| 40/40 [00:00<00:00, 55.82it/s, Epoch=158, Valid_Loss=0.356, Valid_Score=0.917, LR=0.001]\n"
     ]
    },
    {
     "name": "stdout",
     "output_type": "stream",
     "text": [
      "Valid score 0.9174\n",
      "\n"
     ]
    },
    {
     "name": "stderr",
     "output_type": "stream",
     "text": [
      "100%|█| 391/391 [00:08<00:00, 43.80it/s, Epoch=159, Train_Loss=0.0226, LR=0.001]\n",
      "100%|██████| 40/40 [00:00<00:00, 59.63it/s, Epoch=159, Valid_Loss=0.358, Valid_Score=0.92, LR=0.001]\n"
     ]
    },
    {
     "name": "stdout",
     "output_type": "stream",
     "text": [
      "Valid score 0.9201\n",
      "\n"
     ]
    },
    {
     "name": "stderr",
     "output_type": "stream",
     "text": [
      "100%|█| 391/391 [00:08<00:00, 43.84it/s, Epoch=160, Train_Loss=0.0221, LR=0.001]\n",
      "100%|█████| 40/40 [00:00<00:00, 56.64it/s, Epoch=160, Valid_Loss=0.358, Valid_Score=0.919, LR=0.001]"
     ]
    },
    {
     "name": "stdout",
     "output_type": "stream",
     "text": [
      "Valid score 0.9187\n",
      "\n"
     ]
    },
    {
     "name": "stderr",
     "output_type": "stream",
     "text": [
      "\n",
      "100%|█| 391/391 [00:08<00:00, 43.68it/s, Epoch=161, Train_Loss=0.0222, LR=0.001]\n",
      "100%|█████| 40/40 [00:00<00:00, 58.33it/s, Epoch=161, Valid_Loss=0.358, Valid_Score=0.919, LR=0.001]\n"
     ]
    },
    {
     "name": "stdout",
     "output_type": "stream",
     "text": [
      "Valid score 0.9194\n",
      "\n"
     ]
    },
    {
     "name": "stderr",
     "output_type": "stream",
     "text": [
      "100%|█| 391/391 [00:08<00:00, 43.78it/s, Epoch=162, Train_Loss=0.0199, LR=0.001]\n",
      "100%|█████| 40/40 [00:00<00:00, 57.78it/s, Epoch=162, Valid_Loss=0.358, Valid_Score=0.919, LR=0.001]\n"
     ]
    },
    {
     "name": "stdout",
     "output_type": "stream",
     "text": [
      "Valid score 0.9187\n",
      "\n"
     ]
    },
    {
     "name": "stderr",
     "output_type": "stream",
     "text": [
      "100%|█| 391/391 [00:09<00:00, 43.37it/s, Epoch=163, Train_Loss=0.0202, LR=0.001]\n",
      "100%|█████| 40/40 [00:00<00:00, 57.13it/s, Epoch=163, Valid_Loss=0.359, Valid_Score=0.919, LR=0.001]\n"
     ]
    },
    {
     "name": "stdout",
     "output_type": "stream",
     "text": [
      "Valid score 0.9191\n",
      "\n"
     ]
    },
    {
     "name": "stderr",
     "output_type": "stream",
     "text": [
      "100%|█| 391/391 [00:08<00:00, 43.96it/s, Epoch=164, Train_Loss=0.0205, LR=0.001]\n",
      "100%|█████| 40/40 [00:00<00:00, 58.05it/s, Epoch=164, Valid_Loss=0.358, Valid_Score=0.919, LR=0.001]\n"
     ]
    },
    {
     "name": "stdout",
     "output_type": "stream",
     "text": [
      "Valid score 0.9186\n",
      "\n"
     ]
    },
    {
     "name": "stderr",
     "output_type": "stream",
     "text": [
      "100%|█| 391/391 [00:08<00:00, 43.70it/s, Epoch=165, Train_Loss=0.0205, LR=0.001]\n",
      "100%|██████| 40/40 [00:00<00:00, 56.84it/s, Epoch=165, Valid_Loss=0.358, Valid_Score=0.92, LR=0.001]\n"
     ]
    },
    {
     "name": "stdout",
     "output_type": "stream",
     "text": [
      "Valid score 0.9203\n",
      "\n"
     ]
    },
    {
     "name": "stderr",
     "output_type": "stream",
     "text": [
      "100%|█| 391/391 [00:08<00:00, 43.88it/s, Epoch=166, Train_Loss=0.0196, LR=0.001]\n",
      "100%|██████| 40/40 [00:00<00:00, 59.05it/s, Epoch=166, Valid_Loss=0.357, Valid_Score=0.92, LR=0.001]\n"
     ]
    },
    {
     "name": "stdout",
     "output_type": "stream",
     "text": [
      "Valid score 0.9203\n",
      "\n"
     ]
    },
    {
     "name": "stderr",
     "output_type": "stream",
     "text": [
      "100%|█| 391/391 [00:08<00:00, 44.15it/s, Epoch=167, Train_Loss=0.0204, LR=0.001]\n",
      "100%|█████| 40/40 [00:00<00:00, 59.09it/s, Epoch=167, Valid_Loss=0.359, Valid_Score=0.919, LR=0.001]\n"
     ]
    },
    {
     "name": "stdout",
     "output_type": "stream",
     "text": [
      "Valid score 0.9194\n",
      "\n"
     ]
    },
    {
     "name": "stderr",
     "output_type": "stream",
     "text": [
      "100%|█| 391/391 [00:08<00:00, 44.12it/s, Epoch=168, Train_Loss=0.0207, LR=0.001]\n",
      "100%|██████| 40/40 [00:00<00:00, 59.24it/s, Epoch=168, Valid_Loss=0.359, Valid_Score=0.92, LR=0.001]\n"
     ]
    },
    {
     "name": "stdout",
     "output_type": "stream",
     "text": [
      "Valid score 0.9197\n",
      "\n"
     ]
    },
    {
     "name": "stderr",
     "output_type": "stream",
     "text": [
      "100%|██| 391/391 [00:08<00:00, 44.29it/s, Epoch=169, Train_Loss=0.021, LR=0.001]\n",
      "100%|█████| 40/40 [00:00<00:00, 58.68it/s, Epoch=169, Valid_Loss=0.354, Valid_Score=0.919, LR=0.001]\n"
     ]
    },
    {
     "name": "stdout",
     "output_type": "stream",
     "text": [
      "Valid score 0.9193\n",
      "\n"
     ]
    },
    {
     "name": "stderr",
     "output_type": "stream",
     "text": [
      "100%|█| 391/391 [00:08<00:00, 43.64it/s, Epoch=170, Train_Loss=0.0209, LR=0.001]\n",
      "100%|█████| 40/40 [00:00<00:00, 55.93it/s, Epoch=170, Valid_Loss=0.354, Valid_Score=0.919, LR=0.001]\n"
     ]
    },
    {
     "name": "stdout",
     "output_type": "stream",
     "text": [
      "Valid score 0.919\n",
      "\n"
     ]
    },
    {
     "name": "stderr",
     "output_type": "stream",
     "text": [
      "100%|█| 391/391 [00:08<00:00, 43.88it/s, Epoch=171, Train_Loss=0.0192, LR=0.001]\n",
      "100%|█████| 40/40 [00:00<00:00, 53.80it/s, Epoch=171, Valid_Loss=0.355, Valid_Score=0.919, LR=0.001]\n"
     ]
    },
    {
     "name": "stdout",
     "output_type": "stream",
     "text": [
      "Valid score 0.9189\n",
      "\n"
     ]
    },
    {
     "name": "stderr",
     "output_type": "stream",
     "text": [
      "100%|█| 391/391 [00:08<00:00, 43.89it/s, Epoch=172, Train_Loss=0.0195, LR=0.001]\n",
      "100%|█████| 40/40 [00:00<00:00, 57.88it/s, Epoch=172, Valid_Loss=0.357, Valid_Score=0.919, LR=0.001]\n"
     ]
    },
    {
     "name": "stdout",
     "output_type": "stream",
     "text": [
      "Valid score 0.9187\n",
      "\n"
     ]
    },
    {
     "name": "stderr",
     "output_type": "stream",
     "text": [
      "100%|█| 391/391 [00:08<00:00, 43.83it/s, Epoch=173, Train_Loss=0.0201, LR=0.001]\n",
      "100%|█████| 40/40 [00:00<00:00, 56.95it/s, Epoch=173, Valid_Loss=0.356, Valid_Score=0.919, LR=0.001]\n"
     ]
    },
    {
     "name": "stdout",
     "output_type": "stream",
     "text": [
      "Valid score 0.9192\n",
      "\n"
     ]
    },
    {
     "name": "stderr",
     "output_type": "stream",
     "text": [
      "100%|█| 391/391 [00:08<00:00, 44.04it/s, Epoch=174, Train_Loss=0.0195, LR=0.001]\n",
      "100%|██████| 40/40 [00:00<00:00, 56.88it/s, Epoch=174, Valid_Loss=0.355, Valid_Score=0.92, LR=0.001]"
     ]
    },
    {
     "name": "stdout",
     "output_type": "stream",
     "text": [
      "Valid score 0.9198\n",
      "\n"
     ]
    },
    {
     "name": "stderr",
     "output_type": "stream",
     "text": [
      "\n",
      "100%|█| 391/391 [00:08<00:00, 44.09it/s, Epoch=175, Train_Loss=0.0196, LR=0.001]\n",
      "100%|██████| 40/40 [00:00<00:00, 57.24it/s, Epoch=175, Valid_Loss=0.358, Valid_Score=0.92, LR=0.001]\n"
     ]
    },
    {
     "name": "stdout",
     "output_type": "stream",
     "text": [
      "Valid score 0.92\n",
      "\n"
     ]
    },
    {
     "name": "stderr",
     "output_type": "stream",
     "text": [
      "100%|█| 391/391 [00:08<00:00, 44.10it/s, Epoch=176, Train_Loss=0.0202, LR=0.001]\n",
      "100%|██████| 40/40 [00:00<00:00, 56.91it/s, Epoch=176, Valid_Loss=0.358, Valid_Score=0.92, LR=0.001]\n"
     ]
    },
    {
     "name": "stdout",
     "output_type": "stream",
     "text": [
      "Valid score 0.9199\n",
      "\n"
     ]
    },
    {
     "name": "stderr",
     "output_type": "stream",
     "text": [
      "100%|█| 391/391 [00:08<00:00, 43.98it/s, Epoch=177, Train_Loss=0.0211, LR=0.001]\n",
      "100%|██████| 40/40 [00:00<00:00, 57.63it/s, Epoch=177, Valid_Loss=0.358, Valid_Score=0.92, LR=0.001]\n"
     ]
    },
    {
     "name": "stdout",
     "output_type": "stream",
     "text": [
      "Valid score 0.9199\n",
      "\n"
     ]
    },
    {
     "name": "stderr",
     "output_type": "stream",
     "text": [
      "100%|███| 391/391 [00:08<00:00, 43.58it/s, Epoch=178, Train_Loss=0.02, LR=0.001]\n",
      "100%|██████| 40/40 [00:00<00:00, 56.07it/s, Epoch=178, Valid_Loss=0.356, Valid_Score=0.92, LR=0.001]\n"
     ]
    },
    {
     "name": "stdout",
     "output_type": "stream",
     "text": [
      "Valid score 0.9197\n",
      "\n"
     ]
    },
    {
     "name": "stderr",
     "output_type": "stream",
     "text": [
      "100%|█| 391/391 [00:08<00:00, 44.05it/s, Epoch=179, Train_Loss=0.0195, LR=0.001]\n",
      "100%|███████| 40/40 [00:00<00:00, 57.74it/s, Epoch=179, Valid_Loss=0.36, Valid_Score=0.92, LR=0.001]\n"
     ]
    },
    {
     "name": "stdout",
     "output_type": "stream",
     "text": [
      "Valid score 0.9198\n",
      "\n"
     ]
    },
    {
     "name": "stderr",
     "output_type": "stream",
     "text": [
      "100%|█| 391/391 [00:08<00:00, 44.07it/s, Epoch=180, Train_Loss=0.0189, LR=0.001]\n",
      "100%|██████| 40/40 [00:00<00:00, 59.18it/s, Epoch=180, Valid_Loss=0.356, Valid_Score=0.92, LR=0.001]\n"
     ]
    },
    {
     "name": "stdout",
     "output_type": "stream",
     "text": [
      "Valid score 0.92\n",
      "\n"
     ]
    },
    {
     "name": "stderr",
     "output_type": "stream",
     "text": [
      "100%|█| 391/391 [00:08<00:00, 44.00it/s, Epoch=181, Train_Loss=0.0204, LR=0.001]\n",
      "100%|█████| 40/40 [00:00<00:00, 59.19it/s, Epoch=181, Valid_Loss=0.359, Valid_Score=0.919, LR=0.001]"
     ]
    },
    {
     "name": "stdout",
     "output_type": "stream",
     "text": [
      "Valid score 0.9195\n",
      "\n"
     ]
    },
    {
     "name": "stderr",
     "output_type": "stream",
     "text": [
      "\n",
      "100%|█| 391/391 [00:08<00:00, 44.01it/s, Epoch=182, Train_Loss=0.0186, LR=0.001]\n",
      "100%|██████| 40/40 [00:00<00:00, 59.48it/s, Epoch=182, Valid_Loss=0.359, Valid_Score=0.92, LR=0.001]\n"
     ]
    },
    {
     "name": "stdout",
     "output_type": "stream",
     "text": [
      "Valid score 0.9201\n",
      "\n"
     ]
    },
    {
     "name": "stderr",
     "output_type": "stream",
     "text": [
      "100%|██| 391/391 [00:08<00:00, 43.72it/s, Epoch=183, Train_Loss=0.019, LR=0.001]\n",
      "100%|██████| 40/40 [00:00<00:00, 56.19it/s, Epoch=183, Valid_Loss=0.359, Valid_Score=0.92, LR=0.001]\n"
     ]
    },
    {
     "name": "stdout",
     "output_type": "stream",
     "text": [
      "Valid score 0.9198\n",
      "\n"
     ]
    },
    {
     "name": "stderr",
     "output_type": "stream",
     "text": [
      "100%|█| 391/391 [00:08<00:00, 43.66it/s, Epoch=184, Train_Loss=0.0184, LR=0.001]\n",
      "100%|███████| 40/40 [00:00<00:00, 55.05it/s, Epoch=184, Valid_Loss=0.36, Valid_Score=0.92, LR=0.001]"
     ]
    },
    {
     "name": "stdout",
     "output_type": "stream",
     "text": [
      "Valid score 0.9201\n",
      "\n"
     ]
    },
    {
     "name": "stderr",
     "output_type": "stream",
     "text": [
      "\n",
      "100%|█| 391/391 [00:08<00:00, 43.45it/s, Epoch=185, Train_Loss=0.0188, LR=0.001]\n",
      "100%|██████| 40/40 [00:00<00:00, 58.28it/s, Epoch=185, Valid_Loss=0.359, Valid_Score=0.92, LR=0.001]\n"
     ]
    },
    {
     "name": "stdout",
     "output_type": "stream",
     "text": [
      "Valid score 0.9198\n",
      "\n"
     ]
    },
    {
     "name": "stderr",
     "output_type": "stream",
     "text": [
      "100%|█| 391/391 [00:08<00:00, 43.77it/s, Epoch=186, Train_Loss=0.0192, LR=0.001]\n",
      "100%|█████| 40/40 [00:00<00:00, 59.36it/s, Epoch=186, Valid_Loss=0.361, Valid_Score=0.921, LR=0.001]\n"
     ]
    },
    {
     "name": "stdout",
     "output_type": "stream",
     "text": [
      "Valid score 0.9207\n",
      "\n"
     ]
    },
    {
     "name": "stderr",
     "output_type": "stream",
     "text": [
      "100%|█| 391/391 [00:08<00:00, 44.03it/s, Epoch=187, Train_Loss=0.0194, LR=0.001]\n",
      "100%|█████| 40/40 [00:00<00:00, 59.40it/s, Epoch=187, Valid_Loss=0.361, Valid_Score=0.921, LR=0.001]\n"
     ]
    },
    {
     "name": "stdout",
     "output_type": "stream",
     "text": [
      "Valid score 0.9206\n",
      "\n"
     ]
    },
    {
     "name": "stderr",
     "output_type": "stream",
     "text": [
      "100%|█| 391/391 [00:08<00:00, 43.65it/s, Epoch=188, Train_Loss=0.0194, LR=0.001]\n",
      "100%|█████| 40/40 [00:00<00:00, 56.35it/s, Epoch=188, Valid_Loss=0.359, Valid_Score=0.921, LR=0.001]\n"
     ]
    },
    {
     "name": "stdout",
     "output_type": "stream",
     "text": [
      "Valid score 0.921\n",
      "\n"
     ]
    },
    {
     "name": "stderr",
     "output_type": "stream",
     "text": [
      "100%|█| 391/391 [00:08<00:00, 44.05it/s, Epoch=189, Train_Loss=0.0186, LR=0.001]\n",
      "100%|██████| 40/40 [00:00<00:00, 55.99it/s, Epoch=189, Valid_Loss=0.362, Valid_Score=0.92, LR=0.001]\n"
     ]
    },
    {
     "name": "stdout",
     "output_type": "stream",
     "text": [
      "Valid score 0.9197\n",
      "\n"
     ]
    },
    {
     "name": "stderr",
     "output_type": "stream",
     "text": [
      "100%|█| 391/391 [00:08<00:00, 43.72it/s, Epoch=190, Train_Loss=0.0182, LR=0.001]\n",
      "100%|█████| 40/40 [00:00<00:00, 58.65it/s, Epoch=190, Valid_Loss=0.366, Valid_Score=0.919, LR=0.001]\n"
     ]
    },
    {
     "name": "stdout",
     "output_type": "stream",
     "text": [
      "Valid score 0.9187\n",
      "\n"
     ]
    },
    {
     "name": "stderr",
     "output_type": "stream",
     "text": [
      "100%|█| 391/391 [00:08<00:00, 43.95it/s, Epoch=191, Train_Loss=0.0189, LR=0.001]\n",
      "100%|██████| 40/40 [00:00<00:00, 57.29it/s, Epoch=191, Valid_Loss=0.36, Valid_Score=0.921, LR=0.001]\n"
     ]
    },
    {
     "name": "stdout",
     "output_type": "stream",
     "text": [
      "Valid score 0.9209\n",
      "\n"
     ]
    },
    {
     "name": "stderr",
     "output_type": "stream",
     "text": [
      "100%|█| 391/391 [00:08<00:00, 44.07it/s, Epoch=192, Train_Loss=0.0186, LR=0.001]\n",
      "100%|█████| 40/40 [00:00<00:00, 56.04it/s, Epoch=192, Valid_Loss=0.358, Valid_Score=0.922, LR=0.001]\n"
     ]
    },
    {
     "name": "stdout",
     "output_type": "stream",
     "text": [
      "Valid score 0.9217\n",
      "\n"
     ]
    },
    {
     "name": "stderr",
     "output_type": "stream",
     "text": [
      "100%|█| 391/391 [00:08<00:00, 44.05it/s, Epoch=193, Train_Loss=0.0175, LR=0.001]\n",
      "100%|██████| 40/40 [00:00<00:00, 58.39it/s, Epoch=193, Valid_Loss=0.359, Valid_Score=0.92, LR=0.001]\n"
     ]
    },
    {
     "name": "stdout",
     "output_type": "stream",
     "text": [
      "Valid score 0.9201\n",
      "\n"
     ]
    },
    {
     "name": "stderr",
     "output_type": "stream",
     "text": [
      "100%|█| 391/391 [00:08<00:00, 43.98it/s, Epoch=194, Train_Loss=0.0187, LR=0.001]\n",
      "100%|██████| 40/40 [00:00<00:00, 59.38it/s, Epoch=194, Valid_Loss=0.361, Valid_Score=0.92, LR=0.001]\n"
     ]
    },
    {
     "name": "stdout",
     "output_type": "stream",
     "text": [
      "Valid score 0.9205\n",
      "\n"
     ]
    },
    {
     "name": "stderr",
     "output_type": "stream",
     "text": [
      "100%|█| 391/391 [00:08<00:00, 45.59it/s, Epoch=195, Train_Loss=0.0193, LR=0.001]\n",
      "100%|███████| 40/40 [00:00<00:00, 56.75it/s, Epoch=195, Valid_Loss=0.36, Valid_Score=0.92, LR=0.001]\n"
     ]
    },
    {
     "name": "stdout",
     "output_type": "stream",
     "text": [
      "Valid score 0.9202\n",
      "\n"
     ]
    },
    {
     "name": "stderr",
     "output_type": "stream",
     "text": [
      "100%|█| 391/391 [00:08<00:00, 46.33it/s, Epoch=196, Train_Loss=0.0191, LR=0.001]\n",
      "100%|█████| 40/40 [00:00<00:00, 58.23it/s, Epoch=196, Valid_Loss=0.362, Valid_Score=0.919, LR=0.001]"
     ]
    },
    {
     "name": "stdout",
     "output_type": "stream",
     "text": [
      "Valid score 0.9193\n",
      "\n"
     ]
    },
    {
     "name": "stderr",
     "output_type": "stream",
     "text": [
      "\n",
      "100%|█| 391/391 [00:08<00:00, 44.59it/s, Epoch=197, Train_Loss=0.0173, LR=0.001]\n",
      "100%|██████| 40/40 [00:00<00:00, 58.82it/s, Epoch=197, Valid_Loss=0.364, Valid_Score=0.92, LR=0.001]\n"
     ]
    },
    {
     "name": "stdout",
     "output_type": "stream",
     "text": [
      "Valid score 0.9201\n",
      "\n"
     ]
    },
    {
     "name": "stderr",
     "output_type": "stream",
     "text": [
      "100%|█| 391/391 [00:08<00:00, 45.64it/s, Epoch=198, Train_Loss=0.0182, LR=0.001]\n",
      "100%|██████| 40/40 [00:00<00:00, 57.09it/s, Epoch=198, Valid_Loss=0.364, Valid_Score=0.92, LR=0.001]\n"
     ]
    },
    {
     "name": "stdout",
     "output_type": "stream",
     "text": [
      "Valid score 0.9199\n",
      "\n"
     ]
    },
    {
     "name": "stderr",
     "output_type": "stream",
     "text": [
      "100%|██| 391/391 [00:08<00:00, 45.49it/s, Epoch=199, Train_Loss=0.018, LR=0.001]\n",
      "100%|█████| 40/40 [00:00<00:00, 57.44it/s, Epoch=199, Valid_Loss=0.363, Valid_Score=0.919, LR=0.001]\n"
     ]
    },
    {
     "name": "stdout",
     "output_type": "stream",
     "text": [
      "Valid score 0.9193\n",
      "\n"
     ]
    },
    {
     "name": "stderr",
     "output_type": "stream",
     "text": [
      "100%|█| 391/391 [00:08<00:00, 44.54it/s, Epoch=200, Train_Loss=0.0176, LR=0.001]\n",
      "100%|██████| 40/40 [00:00<00:00, 57.95it/s, Epoch=200, Valid_Loss=0.363, Valid_Score=0.92, LR=0.001]\n"
     ]
    },
    {
     "name": "stdout",
     "output_type": "stream",
     "text": [
      "Valid score 0.9205\n",
      "\n",
      "Training complete in 0h 31m 45s\n",
      "Best Loss: 0.2794\n",
      "\n"
     ]
    }
   ],
   "source": [
    "# Create Dataloaders\n",
    "train_loader, valid_loader = prepare_loaders()\n",
    "    \n",
    "model = resnet20()\n",
    "model.to(CONFIG['device'])\n",
    "    \n",
    "# Определим Optimizer и Scheduler\n",
    "    \n",
    "optimizer = optim.SGD(model.parameters(), lr=CONFIG[\"learning_rate\"], momentum=CONFIG[\"momentum\"], weight_decay=CONFIG[\"weight_decay\"])\n",
    "scheduler = optim.lr_scheduler.MultiStepLR(optimizer, milestones=CONFIG[\"milestones\"])\n",
    "    \n",
    "model, history = run_training(model, optimizer, scheduler,\n",
    "                                  device=CONFIG['device'],\n",
    "                                  num_epochs=CONFIG['epochs'])\n",
    "    \n",
    "    \n",
    "del model, history, train_loader, valid_loader\n",
    "_ = gc.collect()\n",
    "print()\n",
    "    "
   ]
  }
 ],
 "metadata": {
  "kernelspec": {
   "display_name": "Python 3 (ipykernel)",
   "language": "python",
   "name": "python3"
  },
  "language_info": {
   "codemirror_mode": {
    "name": "ipython",
    "version": 3
   },
   "file_extension": ".py",
   "mimetype": "text/x-python",
   "name": "python",
   "nbconvert_exporter": "python",
   "pygments_lexer": "ipython3",
   "version": "3.8.10"
  }
 },
 "nbformat": 4,
 "nbformat_minor": 5
}
